{
 "cells": [
  {
   "cell_type": "markdown",
   "metadata": {
    "id": "Yj2cly4306Xi"
   },
   "source": [
    "# Data Science Midterm Project\n",
    "\n",
    "## รายชื่อสมาชิก\n",
    "\n",
    "### 1. นายธนัช เบญจอนุอาชา\t\t63199130111\n",
    "### 2. นายภูริต อำนวยชัย\t\t63199130117\n",
    "## หัวข้อ Project: การพญากรการเกิดอุบัติเหตุบนถนนในแต่ละเส้นทาง และ พื้นที่\n",
    "    \n",
    "## จุดประสงค์\n",
    "### * อุบัติเหตุตามท้องถนนที่เกิดจากรถยนต์บนเส้นทางต่างๆ เพิ่มขึ้นทุกๆปี เราจะสามารถลดปัญหาอุบัติเหตุนั้นลดลงได้อย่างไร? \n",
    "### * เพื่อให้ได้เป็นการตั้งรับหรือปรับปรุงเส้นทางให้ปลอดภัยและลดจำนวนอุบัติเหตุจากเส้นทางเหล่านั้นให้ลดลงและจะได้มีนโยบายจากทางภาครัฐลงไปแก้ปัญหาได้ตรงจุด"
   ]
  },
  {
   "cell_type": "markdown",
   "metadata": {
    "id": "4KlZWShK06Xj"
   },
   "source": [
    "## เตรียมข้อมูล"
   ]
  },
  {
   "cell_type": "code",
   "execution_count": 65,
   "metadata": {
    "id": "zolfnFoe06Xk"
   },
   "outputs": [],
   "source": [
    "import pandas as pd\n",
    "import numpy as np"
   ]
  },
  {
   "cell_type": "code",
   "execution_count": 66,
   "metadata": {
    "id": "SbGfqPTt06Xn"
   },
   "outputs": [],
   "source": [
    "df_acci = pd.read_csv(\"./datasets/ubatiehtuthaangthnn.csv\" , encoding='utf-8' , header=0 , names=['AcciYear','AcciDate','AcciTime','ReportDate','ReportTime','Acc_Code','Agencies','Route','Km','Province','Car1','AcciLocation','Assumed','CauseOfAcci','TotCar','TotDead','TotInjured','Weather','LATITUDE','LONGITUDE'])\n",
    "# df_acci = pd.read_csv(\"./datasets/ubatiehtuthaangthnn.csv\")"
   ]
  },
  {
   "cell_type": "code",
   "execution_count": 67,
   "metadata": {
    "id": "5NS-W57R4psJ"
   },
   "outputs": [],
   "source": [
    "# from google.colab import drive\n",
    "# drive.mount('/content/drive')"
   ]
  },
  {
   "cell_type": "markdown",
   "metadata": {
    "id": "b5G9AJme06Xp"
   },
   "source": [
    "### Sample Data"
   ]
  },
  {
   "cell_type": "code",
   "execution_count": 68,
   "metadata": {
    "colab": {
     "base_uri": "https://localhost:8080/",
     "height": 564
    },
    "executionInfo": {
     "elapsed": 1417,
     "status": "ok",
     "timestamp": 1604403945937,
     "user": {
      "displayName": "Thanus Benjaanuarcha",
      "photoUrl": "",
      "userId": "12182773663628112192"
     },
     "user_tz": -420
    },
    "id": "_ChsuElx06Xq",
    "outputId": "03e04632-b03c-46e8-f070-622bfe8c2427"
   },
   "outputs": [
    {
     "data": {
      "text/html": [
       "<div>\n",
       "<style scoped>\n",
       "    .dataframe tbody tr th:only-of-type {\n",
       "        vertical-align: middle;\n",
       "    }\n",
       "\n",
       "    .dataframe tbody tr th {\n",
       "        vertical-align: top;\n",
       "    }\n",
       "\n",
       "    .dataframe thead th {\n",
       "        text-align: right;\n",
       "    }\n",
       "</style>\n",
       "<table border=\"1\" class=\"dataframe\">\n",
       "  <thead>\n",
       "    <tr style=\"text-align: right;\">\n",
       "      <th></th>\n",
       "      <th>AcciYear</th>\n",
       "      <th>AcciDate</th>\n",
       "      <th>AcciTime</th>\n",
       "      <th>ReportDate</th>\n",
       "      <th>ReportTime</th>\n",
       "      <th>Acc_Code</th>\n",
       "      <th>Agencies</th>\n",
       "      <th>Route</th>\n",
       "      <th>Km</th>\n",
       "      <th>Province</th>\n",
       "      <th>Car1</th>\n",
       "      <th>AcciLocation</th>\n",
       "      <th>Assumed</th>\n",
       "      <th>CauseOfAcci</th>\n",
       "      <th>TotCar</th>\n",
       "      <th>TotDead</th>\n",
       "      <th>TotInjured</th>\n",
       "      <th>Weather</th>\n",
       "      <th>LATITUDE</th>\n",
       "      <th>LONGITUDE</th>\n",
       "    </tr>\n",
       "  </thead>\n",
       "  <tbody>\n",
       "    <tr>\n",
       "      <th>0</th>\n",
       "      <td>2019</td>\n",
       "      <td>01/01/2019</td>\n",
       "      <td>00:00</td>\n",
       "      <td>02/01/2019</td>\n",
       "      <td>06:11</td>\n",
       "      <td>201901023254</td>\n",
       "      <td>กรมทางหลวงชนบท</td>\n",
       "      <td>ทางหลวงชนบท ลบ.2029</td>\n",
       "      <td>4.00</td>\n",
       "      <td>ลพบุรี</td>\n",
       "      <td>รถจักรยานยนต์</td>\n",
       "      <td>ทางตรง+ไม่มีความลาดชัน/ที่ราบ</td>\n",
       "      <td>เมาสุรา</td>\n",
       "      <td>อื่น ๆ</td>\n",
       "      <td>1</td>\n",
       "      <td>0</td>\n",
       "      <td>2</td>\n",
       "      <td>แจ่มใส</td>\n",
       "      <td>14.959105</td>\n",
       "      <td>100.873463</td>\n",
       "    </tr>\n",
       "    <tr>\n",
       "      <th>1</th>\n",
       "      <td>2019</td>\n",
       "      <td>01/01/2019</td>\n",
       "      <td>00:03</td>\n",
       "      <td>13/02/2019</td>\n",
       "      <td>12:06</td>\n",
       "      <td>201902135341</td>\n",
       "      <td>กรมทางหลวง</td>\n",
       "      <td>ทางหลวงแผ่นดินหมายเลข 24 ตอนควบคุม 0702</td>\n",
       "      <td>419.77</td>\n",
       "      <td>อุบลราชธานี</td>\n",
       "      <td>รถยนต์นั่งส่วนบุคคล/รถยนต์นั่งสาธารณะ</td>\n",
       "      <td>ทางตรง</td>\n",
       "      <td>ขับรถเร็วเกินกำหนด</td>\n",
       "      <td>ชนอุปกรณ์งานทาง</td>\n",
       "      <td>1</td>\n",
       "      <td>0</td>\n",
       "      <td>2</td>\n",
       "      <td>แจ่มใส</td>\n",
       "      <td>15.210738</td>\n",
       "      <td>104.862689</td>\n",
       "    </tr>\n",
       "    <tr>\n",
       "      <th>2</th>\n",
       "      <td>2019</td>\n",
       "      <td>01/01/2019</td>\n",
       "      <td>00:05</td>\n",
       "      <td>01/01/2019</td>\n",
       "      <td>09:52</td>\n",
       "      <td>201901012979</td>\n",
       "      <td>กรมทางหลวง</td>\n",
       "      <td>ทางหลวงแผ่นดินหมายเลข 3168 ตอนควบคุม 0100</td>\n",
       "      <td>1.70</td>\n",
       "      <td>ประจวบคีรีขันธ์</td>\n",
       "      <td>รถจักรยานยนต์</td>\n",
       "      <td>ทางโค้งปกติ</td>\n",
       "      <td>ขับรถเร็วเกินกำหนด</td>\n",
       "      <td>ชนกัน/ชนยานพาหนะอื่นๆ</td>\n",
       "      <td>2</td>\n",
       "      <td>1</td>\n",
       "      <td>0</td>\n",
       "      <td>แจ่มใส</td>\n",
       "      <td>12.374259</td>\n",
       "      <td>99.907949</td>\n",
       "    </tr>\n",
       "    <tr>\n",
       "      <th>3</th>\n",
       "      <td>2019</td>\n",
       "      <td>01/01/2019</td>\n",
       "      <td>00:20</td>\n",
       "      <td>02/01/2019</td>\n",
       "      <td>05:12</td>\n",
       "      <td>201901023234</td>\n",
       "      <td>กรมทางหลวงชนบท</td>\n",
       "      <td>ทางหลวงชนบท ชม.4016</td>\n",
       "      <td>1.88</td>\n",
       "      <td>เชียงใหม่</td>\n",
       "      <td>รถจักรยานยนต์</td>\n",
       "      <td>ทางตรง+ไม่มีความลาดชัน/ที่ราบ</td>\n",
       "      <td>เมาสุรา</td>\n",
       "      <td>รถยนต์ชนรถไฟ</td>\n",
       "      <td>1</td>\n",
       "      <td>0</td>\n",
       "      <td>1</td>\n",
       "      <td>แจ่มใส</td>\n",
       "      <td>18.601721</td>\n",
       "      <td>98.804204</td>\n",
       "    </tr>\n",
       "    <tr>\n",
       "      <th>4</th>\n",
       "      <td>2019</td>\n",
       "      <td>01/01/2019</td>\n",
       "      <td>00:25</td>\n",
       "      <td>01/01/2019</td>\n",
       "      <td>09:54</td>\n",
       "      <td>201901012972</td>\n",
       "      <td>กรมทางหลวง</td>\n",
       "      <td>ทางหลวงแผ่นดินหมายเลข 225 ตอนควบคุม 0202</td>\n",
       "      <td>68.80</td>\n",
       "      <td>นครสวรรค์</td>\n",
       "      <td>รถยนต์นั่งส่วนบุคคล/รถยนต์นั่งสาธารณะ</td>\n",
       "      <td>ทางตรง</td>\n",
       "      <td>คนหรือรถตัดหน้ากระชั้นชิด</td>\n",
       "      <td>พลิกคว่ำตกถนน</td>\n",
       "      <td>1</td>\n",
       "      <td>0</td>\n",
       "      <td>0</td>\n",
       "      <td>แจ่มใส</td>\n",
       "      <td>15.866389</td>\n",
       "      <td>100.590010</td>\n",
       "    </tr>\n",
       "  </tbody>\n",
       "</table>\n",
       "</div>"
      ],
      "text/plain": [
       "   AcciYear    AcciDate AcciTime  ReportDate ReportTime      Acc_Code  \\\n",
       "0      2019  01/01/2019    00:00  02/01/2019      06:11  201901023254   \n",
       "1      2019  01/01/2019    00:03  13/02/2019      12:06  201902135341   \n",
       "2      2019  01/01/2019    00:05  01/01/2019      09:52  201901012979   \n",
       "3      2019  01/01/2019    00:20  02/01/2019      05:12  201901023234   \n",
       "4      2019  01/01/2019    00:25  01/01/2019      09:54  201901012972   \n",
       "\n",
       "         Agencies                                      Route      Km  \\\n",
       "0  กรมทางหลวงชนบท                        ทางหลวงชนบท ลบ.2029    4.00   \n",
       "1      กรมทางหลวง    ทางหลวงแผ่นดินหมายเลข 24 ตอนควบคุม 0702  419.77   \n",
       "2      กรมทางหลวง  ทางหลวงแผ่นดินหมายเลข 3168 ตอนควบคุม 0100    1.70   \n",
       "3  กรมทางหลวงชนบท                        ทางหลวงชนบท ชม.4016    1.88   \n",
       "4      กรมทางหลวง   ทางหลวงแผ่นดินหมายเลข 225 ตอนควบคุม 0202   68.80   \n",
       "\n",
       "          Province                                   Car1  \\\n",
       "0           ลพบุรี                          รถจักรยานยนต์   \n",
       "1      อุบลราชธานี  รถยนต์นั่งส่วนบุคคล/รถยนต์นั่งสาธารณะ   \n",
       "2  ประจวบคีรีขันธ์                          รถจักรยานยนต์   \n",
       "3        เชียงใหม่                          รถจักรยานยนต์   \n",
       "4        นครสวรรค์  รถยนต์นั่งส่วนบุคคล/รถยนต์นั่งสาธารณะ   \n",
       "\n",
       "                    AcciLocation                    Assumed  \\\n",
       "0  ทางตรง+ไม่มีความลาดชัน/ที่ราบ                    เมาสุรา   \n",
       "1                         ทางตรง         ขับรถเร็วเกินกำหนด   \n",
       "2                    ทางโค้งปกติ         ขับรถเร็วเกินกำหนด   \n",
       "3  ทางตรง+ไม่มีความลาดชัน/ที่ราบ                    เมาสุรา   \n",
       "4                         ทางตรง  คนหรือรถตัดหน้ากระชั้นชิด   \n",
       "\n",
       "             CauseOfAcci  TotCar  TotDead  TotInjured Weather   LATITUDE  \\\n",
       "0                 อื่น ๆ       1        0           2  แจ่มใส  14.959105   \n",
       "1        ชนอุปกรณ์งานทาง       1        0           2  แจ่มใส  15.210738   \n",
       "2  ชนกัน/ชนยานพาหนะอื่นๆ       2        1           0  แจ่มใส  12.374259   \n",
       "3           รถยนต์ชนรถไฟ       1        0           1  แจ่มใส  18.601721   \n",
       "4          พลิกคว่ำตกถนน       1        0           0  แจ่มใส  15.866389   \n",
       "\n",
       "    LONGITUDE  \n",
       "0  100.873463  \n",
       "1  104.862689  \n",
       "2   99.907949  \n",
       "3   98.804204  \n",
       "4  100.590010  "
      ]
     },
     "execution_count": 68,
     "metadata": {},
     "output_type": "execute_result"
    }
   ],
   "source": [
    "df_acci.head()"
   ]
  },
  {
   "cell_type": "code",
   "execution_count": 69,
   "metadata": {
    "colab": {
     "base_uri": "https://localhost:8080/",
     "height": 649
    },
    "executionInfo": {
     "elapsed": 1415,
     "status": "ok",
     "timestamp": 1604403945937,
     "user": {
      "displayName": "Thanus Benjaanuarcha",
      "photoUrl": "",
      "userId": "12182773663628112192"
     },
     "user_tz": -420
    },
    "id": "Kfx6CaUh06Xt",
    "outputId": "fa5e8b0b-42c5-4543-db0e-ab4749807cff",
    "scrolled": false
   },
   "outputs": [
    {
     "data": {
      "text/html": [
       "<div>\n",
       "<style scoped>\n",
       "    .dataframe tbody tr th:only-of-type {\n",
       "        vertical-align: middle;\n",
       "    }\n",
       "\n",
       "    .dataframe tbody tr th {\n",
       "        vertical-align: top;\n",
       "    }\n",
       "\n",
       "    .dataframe thead th {\n",
       "        text-align: right;\n",
       "    }\n",
       "</style>\n",
       "<table border=\"1\" class=\"dataframe\">\n",
       "  <thead>\n",
       "    <tr style=\"text-align: right;\">\n",
       "      <th></th>\n",
       "      <th>AcciYear</th>\n",
       "      <th>AcciDate</th>\n",
       "      <th>AcciTime</th>\n",
       "      <th>ReportDate</th>\n",
       "      <th>ReportTime</th>\n",
       "      <th>Acc_Code</th>\n",
       "      <th>Agencies</th>\n",
       "      <th>Route</th>\n",
       "      <th>Km</th>\n",
       "      <th>Province</th>\n",
       "      <th>Car1</th>\n",
       "      <th>AcciLocation</th>\n",
       "      <th>Assumed</th>\n",
       "      <th>CauseOfAcci</th>\n",
       "      <th>TotCar</th>\n",
       "      <th>TotDead</th>\n",
       "      <th>TotInjured</th>\n",
       "      <th>Weather</th>\n",
       "      <th>LATITUDE</th>\n",
       "      <th>LONGITUDE</th>\n",
       "    </tr>\n",
       "  </thead>\n",
       "  <tbody>\n",
       "    <tr>\n",
       "      <th>19960</th>\n",
       "      <td>2019</td>\n",
       "      <td>31/12/2019</td>\n",
       "      <td>23:30</td>\n",
       "      <td>01/01/2020</td>\n",
       "      <td>09:38</td>\n",
       "      <td>202001013732</td>\n",
       "      <td>กรมทางหลวง</td>\n",
       "      <td>ทางหลวงแผ่นดินหมายเลข 3549 ตอนควบคุม 0100</td>\n",
       "      <td>1.25</td>\n",
       "      <td>กาญจนบุรี</td>\n",
       "      <td>รถปิคอัพบรรทุก 4 ล้อ</td>\n",
       "      <td>ทางโค้งปกติ</td>\n",
       "      <td>ขับรถเร็วเกินกำหนด</td>\n",
       "      <td>พลิกคว่ำตกถนน</td>\n",
       "      <td>1</td>\n",
       "      <td>1</td>\n",
       "      <td>0</td>\n",
       "      <td>แจ่มใส</td>\n",
       "      <td>15.171119</td>\n",
       "      <td>98.462388</td>\n",
       "    </tr>\n",
       "    <tr>\n",
       "      <th>19961</th>\n",
       "      <td>2019</td>\n",
       "      <td>31/12/2019</td>\n",
       "      <td>23:35</td>\n",
       "      <td>01/01/2020</td>\n",
       "      <td>00:14</td>\n",
       "      <td>202001013642</td>\n",
       "      <td>กรมทางหลวง</td>\n",
       "      <td>ทางหลวงแผ่นดินหมายเลข 4034 ตอนควบคุม 0100</td>\n",
       "      <td>14.66</td>\n",
       "      <td>กระบี่</td>\n",
       "      <td>รถจักรยานยนต์</td>\n",
       "      <td>ทางแยกรูปตัว T</td>\n",
       "      <td>ไม่ให้สิทธิรถที่มาก่อนผ่านทาง เช่น ทางแยก</td>\n",
       "      <td>ชนกัน/ชนยานพาหนะอื่นๆ</td>\n",
       "      <td>2</td>\n",
       "      <td>0</td>\n",
       "      <td>2</td>\n",
       "      <td>แจ่มใส</td>\n",
       "      <td>8.092608</td>\n",
       "      <td>98.811692</td>\n",
       "    </tr>\n",
       "    <tr>\n",
       "      <th>19962</th>\n",
       "      <td>2019</td>\n",
       "      <td>31/12/2019</td>\n",
       "      <td>23:40</td>\n",
       "      <td>01/01/2020</td>\n",
       "      <td>00:58</td>\n",
       "      <td>202001013647</td>\n",
       "      <td>กรมทางหลวง</td>\n",
       "      <td>ทางหลวงแผ่นดินหมายเลข 4 ตอนควบคุม 0802</td>\n",
       "      <td>601.12</td>\n",
       "      <td>ระนอง</td>\n",
       "      <td>รถจักรยานยนต์</td>\n",
       "      <td>ทางตรง</td>\n",
       "      <td>ขับรถเร็วเกินกำหนด</td>\n",
       "      <td>ชนอุปกรณ์งานทาง</td>\n",
       "      <td>1</td>\n",
       "      <td>2</td>\n",
       "      <td>0</td>\n",
       "      <td>หมอก/ควัน</td>\n",
       "      <td>9.939225</td>\n",
       "      <td>98.633500</td>\n",
       "    </tr>\n",
       "    <tr>\n",
       "      <th>19963</th>\n",
       "      <td>2019</td>\n",
       "      <td>31/12/2019</td>\n",
       "      <td>23:40</td>\n",
       "      <td>01/01/2020</td>\n",
       "      <td>06:44</td>\n",
       "      <td>202001013681</td>\n",
       "      <td>กรมทางหลวงชนบท</td>\n",
       "      <td>ทางหลวงชนบท ชม.3029</td>\n",
       "      <td>5.60</td>\n",
       "      <td>เชียงใหม่</td>\n",
       "      <td>รถจักรยานยนต์</td>\n",
       "      <td>ทางตรง+ไม่มีความลาดชัน/ที่ราบ</td>\n",
       "      <td>คนหรือรถตัดหน้ากระชั้นชิด</td>\n",
       "      <td>ชนท้าย</td>\n",
       "      <td>2</td>\n",
       "      <td>1</td>\n",
       "      <td>0</td>\n",
       "      <td>แจ่มใส</td>\n",
       "      <td>18.829234</td>\n",
       "      <td>99.006029</td>\n",
       "    </tr>\n",
       "    <tr>\n",
       "      <th>19964</th>\n",
       "      <td>2019</td>\n",
       "      <td>31/12/2019</td>\n",
       "      <td>23:45</td>\n",
       "      <td>01/01/2020</td>\n",
       "      <td>20:42</td>\n",
       "      <td>202001013882</td>\n",
       "      <td>กรมทางหลวง</td>\n",
       "      <td>ทางหลวงแผ่นดินหมายเลข 3268 ตอนควบคุม 0103</td>\n",
       "      <td>22.00</td>\n",
       "      <td>สมุทรปราการ</td>\n",
       "      <td>รถจักรยานยนต์</td>\n",
       "      <td>ทางตรง</td>\n",
       "      <td>ขับรถเร็วเกินกำหนด</td>\n",
       "      <td>ชนรถจอด</td>\n",
       "      <td>2</td>\n",
       "      <td>1</td>\n",
       "      <td>0</td>\n",
       "      <td>แจ่มใส</td>\n",
       "      <td>13.588040</td>\n",
       "      <td>100.788317</td>\n",
       "    </tr>\n",
       "  </tbody>\n",
       "</table>\n",
       "</div>"
      ],
      "text/plain": [
       "       AcciYear    AcciDate AcciTime  ReportDate ReportTime      Acc_Code  \\\n",
       "19960      2019  31/12/2019    23:30  01/01/2020      09:38  202001013732   \n",
       "19961      2019  31/12/2019    23:35  01/01/2020      00:14  202001013642   \n",
       "19962      2019  31/12/2019    23:40  01/01/2020      00:58  202001013647   \n",
       "19963      2019  31/12/2019    23:40  01/01/2020      06:44  202001013681   \n",
       "19964      2019  31/12/2019    23:45  01/01/2020      20:42  202001013882   \n",
       "\n",
       "             Agencies                                      Route      Km  \\\n",
       "19960      กรมทางหลวง  ทางหลวงแผ่นดินหมายเลข 3549 ตอนควบคุม 0100    1.25   \n",
       "19961      กรมทางหลวง  ทางหลวงแผ่นดินหมายเลข 4034 ตอนควบคุม 0100   14.66   \n",
       "19962      กรมทางหลวง     ทางหลวงแผ่นดินหมายเลข 4 ตอนควบคุม 0802  601.12   \n",
       "19963  กรมทางหลวงชนบท                        ทางหลวงชนบท ชม.3029    5.60   \n",
       "19964      กรมทางหลวง  ทางหลวงแผ่นดินหมายเลข 3268 ตอนควบคุม 0103   22.00   \n",
       "\n",
       "          Province                  Car1                   AcciLocation  \\\n",
       "19960    กาญจนบุรี  รถปิคอัพบรรทุก 4 ล้อ                    ทางโค้งปกติ   \n",
       "19961       กระบี่         รถจักรยานยนต์                 ทางแยกรูปตัว T   \n",
       "19962        ระนอง         รถจักรยานยนต์                         ทางตรง   \n",
       "19963    เชียงใหม่         รถจักรยานยนต์  ทางตรง+ไม่มีความลาดชัน/ที่ราบ   \n",
       "19964  สมุทรปราการ         รถจักรยานยนต์                         ทางตรง   \n",
       "\n",
       "                                         Assumed            CauseOfAcci  \\\n",
       "19960                         ขับรถเร็วเกินกำหนด          พลิกคว่ำตกถนน   \n",
       "19961  ไม่ให้สิทธิรถที่มาก่อนผ่านทาง เช่น ทางแยก  ชนกัน/ชนยานพาหนะอื่นๆ   \n",
       "19962                         ขับรถเร็วเกินกำหนด        ชนอุปกรณ์งานทาง   \n",
       "19963                  คนหรือรถตัดหน้ากระชั้นชิด                 ชนท้าย   \n",
       "19964                         ขับรถเร็วเกินกำหนด                ชนรถจอด   \n",
       "\n",
       "       TotCar  TotDead  TotInjured    Weather   LATITUDE   LONGITUDE  \n",
       "19960       1        1           0     แจ่มใส  15.171119   98.462388  \n",
       "19961       2        0           2     แจ่มใส   8.092608   98.811692  \n",
       "19962       1        2           0  หมอก/ควัน   9.939225   98.633500  \n",
       "19963       2        1           0     แจ่มใส  18.829234   99.006029  \n",
       "19964       2        1           0     แจ่มใส  13.588040  100.788317  "
      ]
     },
     "execution_count": 69,
     "metadata": {},
     "output_type": "execute_result"
    }
   ],
   "source": [
    "df_acci.tail()"
   ]
  },
  {
   "cell_type": "markdown",
   "metadata": {
    "id": "IRKfp8K506Xv"
   },
   "source": [
    "## ตั้งคำถามย่อยเพื่อสำรวจข้อมูล\n",
    " - ข้อมูลมี Error มากน้อยแค่ไหน\n",
    " - ถ้ามี Error จะจัดการกัมันยังไง Drop ทิ้งเลย หรือ ปรับปรุงข้อมูลดีกว่ากัน\n",
    " - ตรวจสอบข้อมูลในแต่ละ Column ว่าแบ่งออกเป็น กี่ Category(กี่ประเภท)"
   ]
  },
  {
   "cell_type": "markdown",
   "metadata": {
    "id": "WKpxLdEE06Xw"
   },
   "source": [
    "### Data Types"
   ]
  },
  {
   "cell_type": "code",
   "execution_count": 70,
   "metadata": {
    "colab": {
     "base_uri": "https://localhost:8080/"
    },
    "executionInfo": {
     "elapsed": 1415,
     "status": "ok",
     "timestamp": 1604403945938,
     "user": {
      "displayName": "Thanus Benjaanuarcha",
      "photoUrl": "",
      "userId": "12182773663628112192"
     },
     "user_tz": -420
    },
    "id": "4teay8Yq06Xw",
    "outputId": "abfd3734-74db-417d-8237-50a663d51bfa"
   },
   "outputs": [
    {
     "name": "stdout",
     "output_type": "stream",
     "text": [
      "<class 'pandas.core.frame.DataFrame'>\n",
      "RangeIndex: 19965 entries, 0 to 19964\n",
      "Data columns (total 20 columns):\n",
      " #   Column        Non-Null Count  Dtype  \n",
      "---  ------        --------------  -----  \n",
      " 0   AcciYear      19965 non-null  int64  \n",
      " 1   AcciDate      19965 non-null  object \n",
      " 2   AcciTime      19965 non-null  object \n",
      " 3   ReportDate    19965 non-null  object \n",
      " 4   ReportTime    19965 non-null  object \n",
      " 5   Acc_Code      19965 non-null  int64  \n",
      " 6   Agencies      19965 non-null  object \n",
      " 7   Route         19965 non-null  object \n",
      " 8   Km            19965 non-null  float64\n",
      " 9   Province      19885 non-null  object \n",
      " 10  Car1          19938 non-null  object \n",
      " 11  AcciLocation  19965 non-null  object \n",
      " 12  Assumed       19965 non-null  object \n",
      " 13  CauseOfAcci   19965 non-null  object \n",
      " 14  TotCar        19965 non-null  int64  \n",
      " 15  TotDead       19965 non-null  int64  \n",
      " 16  TotInjured    19965 non-null  int64  \n",
      " 17  Weather       19965 non-null  object \n",
      " 18  LATITUDE      19164 non-null  float64\n",
      " 19  LONGITUDE     19164 non-null  float64\n",
      "dtypes: float64(3), int64(5), object(12)\n",
      "memory usage: 3.0+ MB\n"
     ]
    }
   ],
   "source": [
    "# df_acci.dtypes\n",
    "df_acci.info()"
   ]
  },
  {
   "cell_type": "markdown",
   "metadata": {
    "id": "rlRmSxwK06Xz"
   },
   "source": [
    "### Data Columns (Features)"
   ]
  },
  {
   "cell_type": "code",
   "execution_count": 71,
   "metadata": {
    "colab": {
     "base_uri": "https://localhost:8080/"
    },
    "executionInfo": {
     "elapsed": 1414,
     "status": "ok",
     "timestamp": 1604403945939,
     "user": {
      "displayName": "Thanus Benjaanuarcha",
      "photoUrl": "",
      "userId": "12182773663628112192"
     },
     "user_tz": -420
    },
    "id": "GwECowlg06Xz",
    "outputId": "59e44b70-c69d-46f0-a281-c88399a6f9f9"
   },
   "outputs": [
    {
     "data": {
      "text/plain": [
       "Index(['AcciYear', 'AcciDate', 'AcciTime', 'ReportDate', 'ReportTime',\n",
       "       'Acc_Code', 'Agencies', 'Route', 'Km', 'Province', 'Car1',\n",
       "       'AcciLocation', 'Assumed', 'CauseOfAcci', 'TotCar', 'TotDead',\n",
       "       'TotInjured', 'Weather', 'LATITUDE', 'LONGITUDE'],\n",
       "      dtype='object')"
      ]
     },
     "execution_count": 71,
     "metadata": {},
     "output_type": "execute_result"
    }
   ],
   "source": [
    "df_acci.columns"
   ]
  },
  {
   "cell_type": "code",
   "execution_count": 72,
   "metadata": {
    "colab": {
     "base_uri": "https://localhost:8080/"
    },
    "executionInfo": {
     "elapsed": 1412,
     "status": "ok",
     "timestamp": 1604403945939,
     "user": {
      "displayName": "Thanus Benjaanuarcha",
      "photoUrl": "",
      "userId": "12182773663628112192"
     },
     "user_tz": -420
    },
    "id": "fDE61RJG06X4",
    "outputId": "aaae35af-af09-41f0-d804-5bc8deed6794",
    "scrolled": true
   },
   "outputs": [
    {
     "data": {
      "text/plain": [
       "[RangeIndex(start=0, stop=19965, step=1),\n",
       " Index(['AcciYear', 'AcciDate', 'AcciTime', 'ReportDate', 'ReportTime',\n",
       "        'Acc_Code', 'Agencies', 'Route', 'Km', 'Province', 'Car1',\n",
       "        'AcciLocation', 'Assumed', 'CauseOfAcci', 'TotCar', 'TotDead',\n",
       "        'TotInjured', 'Weather', 'LATITUDE', 'LONGITUDE'],\n",
       "       dtype='object')]"
      ]
     },
     "execution_count": 72,
     "metadata": {},
     "output_type": "execute_result"
    }
   ],
   "source": [
    "df_acci.axes"
   ]
  },
  {
   "cell_type": "markdown",
   "metadata": {
    "id": "LIZSvxri06X6"
   },
   "source": [
    "### Original sample sizes"
   ]
  },
  {
   "cell_type": "code",
   "execution_count": 73,
   "metadata": {
    "colab": {
     "base_uri": "https://localhost:8080/"
    },
    "executionInfo": {
     "elapsed": 1411,
     "status": "ok",
     "timestamp": 1604403945940,
     "user": {
      "displayName": "Thanus Benjaanuarcha",
      "photoUrl": "",
      "userId": "12182773663628112192"
     },
     "user_tz": -420
    },
    "id": "dJu-lZ8r06X7",
    "outputId": "723e5ec0-2a7c-4bff-a973-141d1695443e",
    "scrolled": true
   },
   "outputs": [
    {
     "data": {
      "text/plain": [
       "(19965, 20)"
      ]
     },
     "execution_count": 73,
     "metadata": {},
     "output_type": "execute_result"
    }
   ],
   "source": [
    "df_acci.shape"
   ]
  },
  {
   "cell_type": "markdown",
   "metadata": {
    "id": "rZTgRGyf06X9"
   },
   "source": [
    "### ตรวจสอบข้อมูลเบื้องต้น"
   ]
  },
  {
   "cell_type": "code",
   "execution_count": 74,
   "metadata": {
    "colab": {
     "base_uri": "https://localhost:8080/",
     "height": 297
    },
    "executionInfo": {
     "elapsed": 1410,
     "status": "ok",
     "timestamp": 1604403945941,
     "user": {
      "displayName": "Thanus Benjaanuarcha",
      "photoUrl": "",
      "userId": "12182773663628112192"
     },
     "user_tz": -420
    },
    "id": "tpL4_I8N06X9",
    "outputId": "68f00777-f0dd-40fd-847f-2f67e38817ba",
    "scrolled": true
   },
   "outputs": [
    {
     "data": {
      "text/html": [
       "<div>\n",
       "<style scoped>\n",
       "    .dataframe tbody tr th:only-of-type {\n",
       "        vertical-align: middle;\n",
       "    }\n",
       "\n",
       "    .dataframe tbody tr th {\n",
       "        vertical-align: top;\n",
       "    }\n",
       "\n",
       "    .dataframe thead th {\n",
       "        text-align: right;\n",
       "    }\n",
       "</style>\n",
       "<table border=\"1\" class=\"dataframe\">\n",
       "  <thead>\n",
       "    <tr style=\"text-align: right;\">\n",
       "      <th></th>\n",
       "      <th>AcciYear</th>\n",
       "      <th>Acc_Code</th>\n",
       "      <th>Km</th>\n",
       "      <th>TotCar</th>\n",
       "      <th>TotDead</th>\n",
       "      <th>TotInjured</th>\n",
       "      <th>LATITUDE</th>\n",
       "      <th>LONGITUDE</th>\n",
       "    </tr>\n",
       "  </thead>\n",
       "  <tbody>\n",
       "    <tr>\n",
       "      <th>count</th>\n",
       "      <td>19965.0</td>\n",
       "      <td>1.996500e+04</td>\n",
       "      <td>19965.000000</td>\n",
       "      <td>19965.000000</td>\n",
       "      <td>19965.000000</td>\n",
       "      <td>19965.000000</td>\n",
       "      <td>19164.000000</td>\n",
       "      <td>19164.000000</td>\n",
       "    </tr>\n",
       "    <tr>\n",
       "      <th>mean</th>\n",
       "      <td>2019.0</td>\n",
       "      <td>1.842230e+11</td>\n",
       "      <td>124.940558</td>\n",
       "      <td>1.547508</td>\n",
       "      <td>0.163186</td>\n",
       "      <td>0.911145</td>\n",
       "      <td>14.311230</td>\n",
       "      <td>100.801904</td>\n",
       "    </tr>\n",
       "    <tr>\n",
       "      <th>std</th>\n",
       "      <td>0.0</td>\n",
       "      <td>5.418640e+10</td>\n",
       "      <td>209.273880</td>\n",
       "      <td>0.808013</td>\n",
       "      <td>0.490867</td>\n",
       "      <td>1.702509</td>\n",
       "      <td>3.091713</td>\n",
       "      <td>2.371218</td>\n",
       "    </tr>\n",
       "    <tr>\n",
       "      <th>min</th>\n",
       "      <td>2019.0</td>\n",
       "      <td>2.019042e+08</td>\n",
       "      <td>0.000000</td>\n",
       "      <td>0.000000</td>\n",
       "      <td>0.000000</td>\n",
       "      <td>0.000000</td>\n",
       "      <td>-0.001108</td>\n",
       "      <td>0.000000</td>\n",
       "    </tr>\n",
       "    <tr>\n",
       "      <th>25%</th>\n",
       "      <td>2019.0</td>\n",
       "      <td>2.019031e+11</td>\n",
       "      <td>10.500000</td>\n",
       "      <td>1.000000</td>\n",
       "      <td>0.000000</td>\n",
       "      <td>0.000000</td>\n",
       "      <td>13.457976</td>\n",
       "      <td>99.953297</td>\n",
       "    </tr>\n",
       "    <tr>\n",
       "      <th>50%</th>\n",
       "      <td>2019.0</td>\n",
       "      <td>2.019062e+11</td>\n",
       "      <td>40.000000</td>\n",
       "      <td>1.000000</td>\n",
       "      <td>0.000000</td>\n",
       "      <td>1.000000</td>\n",
       "      <td>14.479735</td>\n",
       "      <td>100.568929</td>\n",
       "    </tr>\n",
       "    <tr>\n",
       "      <th>75%</th>\n",
       "      <td>2019.0</td>\n",
       "      <td>2.019101e+11</td>\n",
       "      <td>134.900000</td>\n",
       "      <td>2.000000</td>\n",
       "      <td>0.000000</td>\n",
       "      <td>1.000000</td>\n",
       "      <td>16.491212</td>\n",
       "      <td>101.391040</td>\n",
       "    </tr>\n",
       "    <tr>\n",
       "      <th>max</th>\n",
       "      <td>2019.0</td>\n",
       "      <td>2.020062e+11</td>\n",
       "      <td>1310.100000</td>\n",
       "      <td>14.000000</td>\n",
       "      <td>13.000000</td>\n",
       "      <td>51.000000</td>\n",
       "      <td>41.549515</td>\n",
       "      <td>105.517239</td>\n",
       "    </tr>\n",
       "  </tbody>\n",
       "</table>\n",
       "</div>"
      ],
      "text/plain": [
       "       AcciYear      Acc_Code            Km        TotCar       TotDead  \\\n",
       "count   19965.0  1.996500e+04  19965.000000  19965.000000  19965.000000   \n",
       "mean     2019.0  1.842230e+11    124.940558      1.547508      0.163186   \n",
       "std         0.0  5.418640e+10    209.273880      0.808013      0.490867   \n",
       "min      2019.0  2.019042e+08      0.000000      0.000000      0.000000   \n",
       "25%      2019.0  2.019031e+11     10.500000      1.000000      0.000000   \n",
       "50%      2019.0  2.019062e+11     40.000000      1.000000      0.000000   \n",
       "75%      2019.0  2.019101e+11    134.900000      2.000000      0.000000   \n",
       "max      2019.0  2.020062e+11   1310.100000     14.000000     13.000000   \n",
       "\n",
       "         TotInjured      LATITUDE     LONGITUDE  \n",
       "count  19965.000000  19164.000000  19164.000000  \n",
       "mean       0.911145     14.311230    100.801904  \n",
       "std        1.702509      3.091713      2.371218  \n",
       "min        0.000000     -0.001108      0.000000  \n",
       "25%        0.000000     13.457976     99.953297  \n",
       "50%        1.000000     14.479735    100.568929  \n",
       "75%        1.000000     16.491212    101.391040  \n",
       "max       51.000000     41.549515    105.517239  "
      ]
     },
     "execution_count": 74,
     "metadata": {},
     "output_type": "execute_result"
    }
   ],
   "source": [
    "df_acci.describe()"
   ]
  },
  {
   "cell_type": "markdown",
   "metadata": {
    "id": "gxuKuw5b06X_"
   },
   "source": [
    "### ตรวจสอบดูว่าเส้นทางสังกัดกรมทาง ไหนที่รับผิดชอบ และมีกี่กรมทาง"
   ]
  },
  {
   "cell_type": "code",
   "execution_count": 75,
   "metadata": {
    "colab": {
     "base_uri": "https://localhost:8080/",
     "height": 363
    },
    "executionInfo": {
     "elapsed": 1759,
     "status": "ok",
     "timestamp": 1604403946291,
     "user": {
      "displayName": "Thanus Benjaanuarcha",
      "photoUrl": "",
      "userId": "12182773663628112192"
     },
     "user_tz": -420
    },
    "id": "l1R_tkZo06YA",
    "outputId": "fe711413-ea67-44f0-e251-f4167e85a90f",
    "scrolled": true
   },
   "outputs": [
    {
     "data": {
      "text/html": [
       "<div>\n",
       "<style scoped>\n",
       "    .dataframe tbody tr th:only-of-type {\n",
       "        vertical-align: middle;\n",
       "    }\n",
       "\n",
       "    .dataframe tbody tr th {\n",
       "        vertical-align: top;\n",
       "    }\n",
       "\n",
       "    .dataframe thead th {\n",
       "        text-align: right;\n",
       "    }\n",
       "</style>\n",
       "<table border=\"1\" class=\"dataframe\">\n",
       "  <thead>\n",
       "    <tr style=\"text-align: right;\">\n",
       "      <th></th>\n",
       "      <th>AcciYear</th>\n",
       "      <th>AcciDate</th>\n",
       "      <th>AcciTime</th>\n",
       "      <th>ReportDate</th>\n",
       "      <th>ReportTime</th>\n",
       "      <th>Acc_Code</th>\n",
       "      <th>Route</th>\n",
       "      <th>Km</th>\n",
       "      <th>Province</th>\n",
       "      <th>Car1</th>\n",
       "      <th>AcciLocation</th>\n",
       "      <th>Assumed</th>\n",
       "      <th>CauseOfAcci</th>\n",
       "      <th>TotCar</th>\n",
       "      <th>TotDead</th>\n",
       "      <th>TotInjured</th>\n",
       "      <th>Weather</th>\n",
       "      <th>LATITUDE</th>\n",
       "      <th>LONGITUDE</th>\n",
       "    </tr>\n",
       "    <tr>\n",
       "      <th>Agencies</th>\n",
       "      <th></th>\n",
       "      <th></th>\n",
       "      <th></th>\n",
       "      <th></th>\n",
       "      <th></th>\n",
       "      <th></th>\n",
       "      <th></th>\n",
       "      <th></th>\n",
       "      <th></th>\n",
       "      <th></th>\n",
       "      <th></th>\n",
       "      <th></th>\n",
       "      <th></th>\n",
       "      <th></th>\n",
       "      <th></th>\n",
       "      <th></th>\n",
       "      <th></th>\n",
       "      <th></th>\n",
       "      <th></th>\n",
       "    </tr>\n",
       "  </thead>\n",
       "  <tbody>\n",
       "    <tr>\n",
       "      <th>กรมทางหลวง</th>\n",
       "      <td>2019</td>\n",
       "      <td>01/01/2019</td>\n",
       "      <td>00:03</td>\n",
       "      <td>13/02/2019</td>\n",
       "      <td>12:06</td>\n",
       "      <td>201902135341</td>\n",
       "      <td>ทางหลวงแผ่นดินหมายเลข 24 ตอนควบคุม 0702</td>\n",
       "      <td>419.77</td>\n",
       "      <td>อุบลราชธานี</td>\n",
       "      <td>รถยนต์นั่งส่วนบุคคล/รถยนต์นั่งสาธารณะ</td>\n",
       "      <td>ทางตรง</td>\n",
       "      <td>ขับรถเร็วเกินกำหนด</td>\n",
       "      <td>ชนอุปกรณ์งานทาง</td>\n",
       "      <td>1</td>\n",
       "      <td>0</td>\n",
       "      <td>2</td>\n",
       "      <td>แจ่มใส</td>\n",
       "      <td>15.210738</td>\n",
       "      <td>104.862689</td>\n",
       "    </tr>\n",
       "    <tr>\n",
       "      <th>กรมทางหลวงชนบท</th>\n",
       "      <td>2019</td>\n",
       "      <td>01/01/2019</td>\n",
       "      <td>00:00</td>\n",
       "      <td>02/01/2019</td>\n",
       "      <td>06:11</td>\n",
       "      <td>201901023254</td>\n",
       "      <td>ทางหลวงชนบท ลบ.2029</td>\n",
       "      <td>4.00</td>\n",
       "      <td>ลพบุรี</td>\n",
       "      <td>รถจักรยานยนต์</td>\n",
       "      <td>ทางตรง+ไม่มีความลาดชัน/ที่ราบ</td>\n",
       "      <td>เมาสุรา</td>\n",
       "      <td>อื่น ๆ</td>\n",
       "      <td>1</td>\n",
       "      <td>0</td>\n",
       "      <td>2</td>\n",
       "      <td>แจ่มใส</td>\n",
       "      <td>14.959105</td>\n",
       "      <td>100.873463</td>\n",
       "    </tr>\n",
       "    <tr>\n",
       "      <th>การทางพิเศษแห่งประเทศไทย</th>\n",
       "      <td>2019</td>\n",
       "      <td>01/01/2019</td>\n",
       "      <td>03:05</td>\n",
       "      <td>02/01/2019</td>\n",
       "      <td>06:49</td>\n",
       "      <td>201901013264</td>\n",
       "      <td>บางพลี-สุขสวัสด์</td>\n",
       "      <td>0.00</td>\n",
       "      <td>สมุทรปราการ</td>\n",
       "      <td>รถยนต์นั่งส่วนบุคคล/รถยนต์นั่งสาธารณะ</td>\n",
       "      <td>ทางเข้าด่านเก็บเงิน</td>\n",
       "      <td>เมาสุรา</td>\n",
       "      <td>ชนตู้เก็บเงิน ไม้กั้นเลน อุปกรณ์เก็บเงิน</td>\n",
       "      <td>1</td>\n",
       "      <td>0</td>\n",
       "      <td>1</td>\n",
       "      <td>แจ่มใส</td>\n",
       "      <td>NaN</td>\n",
       "      <td>NaN</td>\n",
       "    </tr>\n",
       "  </tbody>\n",
       "</table>\n",
       "</div>"
      ],
      "text/plain": [
       "                          AcciYear    AcciDate AcciTime  ReportDate  \\\n",
       "Agencies                                                              \n",
       "กรมทางหลวง                    2019  01/01/2019    00:03  13/02/2019   \n",
       "กรมทางหลวงชนบท                2019  01/01/2019    00:00  02/01/2019   \n",
       "การทางพิเศษแห่งประเทศไทย      2019  01/01/2019    03:05  02/01/2019   \n",
       "\n",
       "                         ReportTime      Acc_Code  \\\n",
       "Agencies                                            \n",
       "กรมทางหลวง                    12:06  201902135341   \n",
       "กรมทางหลวงชนบท                06:11  201901023254   \n",
       "การทางพิเศษแห่งประเทศไทย      06:49  201901013264   \n",
       "\n",
       "                                                            Route      Km  \\\n",
       "Agencies                                                                    \n",
       "กรมทางหลวง                ทางหลวงแผ่นดินหมายเลข 24 ตอนควบคุม 0702  419.77   \n",
       "กรมทางหลวงชนบท                                ทางหลวงชนบท ลบ.2029    4.00   \n",
       "การทางพิเศษแห่งประเทศไทย                         บางพลี-สุขสวัสด์    0.00   \n",
       "\n",
       "                             Province                                   Car1  \\\n",
       "Agencies                                                                       \n",
       "กรมทางหลวง                อุบลราชธานี  รถยนต์นั่งส่วนบุคคล/รถยนต์นั่งสาธารณะ   \n",
       "กรมทางหลวงชนบท                 ลพบุรี                          รถจักรยานยนต์   \n",
       "การทางพิเศษแห่งประเทศไทย  สมุทรปราการ  รถยนต์นั่งส่วนบุคคล/รถยนต์นั่งสาธารณะ   \n",
       "\n",
       "                                           AcciLocation             Assumed  \\\n",
       "Agencies                                                                      \n",
       "กรมทางหลวง                                       ทางตรง  ขับรถเร็วเกินกำหนด   \n",
       "กรมทางหลวงชนบท            ทางตรง+ไม่มีความลาดชัน/ที่ราบ             เมาสุรา   \n",
       "การทางพิเศษแห่งประเทศไทย            ทางเข้าด่านเก็บเงิน             เมาสุรา   \n",
       "\n",
       "                                                       CauseOfAcci  TotCar  \\\n",
       "Agencies                                                                     \n",
       "กรมทางหลวง                                         ชนอุปกรณ์งานทาง       1   \n",
       "กรมทางหลวงชนบท                                              อื่น ๆ       1   \n",
       "การทางพิเศษแห่งประเทศไทย  ชนตู้เก็บเงิน ไม้กั้นเลน อุปกรณ์เก็บเงิน       1   \n",
       "\n",
       "                          TotDead  TotInjured Weather   LATITUDE   LONGITUDE  \n",
       "Agencies                                                                      \n",
       "กรมทางหลวง                      0           2  แจ่มใส  15.210738  104.862689  \n",
       "กรมทางหลวงชนบท                  0           2  แจ่มใส  14.959105  100.873463  \n",
       "การทางพิเศษแห่งประเทศไทย        0           1  แจ่มใส        NaN         NaN  "
      ]
     },
     "execution_count": 75,
     "metadata": {},
     "output_type": "execute_result"
    }
   ],
   "source": [
    "chkAgencies = df_acci.groupby(['Agencies'])\n",
    "chkAgencies.first()"
   ]
  },
  {
   "cell_type": "markdown",
   "metadata": {
    "id": "JaNGwA6UUcIW"
   },
   "source": [
    "### จำนวนผู้เสียชีวิตทั้งหมด"
   ]
  },
  {
   "cell_type": "code",
   "execution_count": 76,
   "metadata": {
    "id": "8DruoskkUcIX",
    "outputId": "fecf8ec7-5b1a-455c-ad36-848ce04f1fe0"
   },
   "outputs": [
    {
     "data": {
      "text/plain": [
       "3258"
      ]
     },
     "execution_count": 76,
     "metadata": {},
     "output_type": "execute_result"
    }
   ],
   "source": [
    "df_acci[\"TotDead\"].sum()"
   ]
  },
  {
   "cell_type": "markdown",
   "metadata": {
    "id": "2ICM_9d9UcIZ"
   },
   "source": [
    "### จำนวนผู้บาดเจ็บทั้งหมด"
   ]
  },
  {
   "cell_type": "code",
   "execution_count": 77,
   "metadata": {
    "id": "Cp4MbBv_UcIa",
    "outputId": "83b8bf00-b670-41e6-bea1-39ae055c8253"
   },
   "outputs": [
    {
     "data": {
      "text/plain": [
       "18191"
      ]
     },
     "execution_count": 77,
     "metadata": {},
     "output_type": "execute_result"
    }
   ],
   "source": [
    "df_acci[\"TotInjured\"].sum()"
   ]
  },
  {
   "cell_type": "markdown",
   "metadata": {
    "id": "DNAsCWk-06YC"
   },
   "source": [
    "## ทำความสะอาดข้อมูล"
   ]
  },
  {
   "cell_type": "code",
   "execution_count": 78,
   "metadata": {
    "colab": {
     "base_uri": "https://localhost:8080/"
    },
    "executionInfo": {
     "elapsed": 1758,
     "status": "ok",
     "timestamp": 1604403946292,
     "user": {
      "displayName": "Thanus Benjaanuarcha",
      "photoUrl": "",
      "userId": "12182773663628112192"
     },
     "user_tz": -420
    },
    "id": "Os9BHDKV06YC",
    "outputId": "f0c0790b-1ab4-4643-e181-25a37e7d4757"
   },
   "outputs": [
    {
     "data": {
      "text/plain": [
       "AcciYear        False\n",
       "AcciDate        False\n",
       "AcciTime        False\n",
       "ReportDate      False\n",
       "ReportTime      False\n",
       "Acc_Code        False\n",
       "Agencies        False\n",
       "Route           False\n",
       "Km              False\n",
       "Province         True\n",
       "Car1             True\n",
       "AcciLocation    False\n",
       "Assumed         False\n",
       "CauseOfAcci     False\n",
       "TotCar          False\n",
       "TotDead         False\n",
       "TotInjured      False\n",
       "Weather         False\n",
       "LATITUDE         True\n",
       "LONGITUDE        True\n",
       "dtype: bool"
      ]
     },
     "execution_count": 78,
     "metadata": {},
     "output_type": "execute_result"
    }
   ],
   "source": [
    "df_acci.isnull().any()"
   ]
  },
  {
   "cell_type": "code",
   "execution_count": 79,
   "metadata": {
    "colab": {
     "base_uri": "https://localhost:8080/"
    },
    "executionInfo": {
     "elapsed": 1758,
     "status": "ok",
     "timestamp": 1604403946293,
     "user": {
      "displayName": "Thanus Benjaanuarcha",
      "photoUrl": "",
      "userId": "12182773663628112192"
     },
     "user_tz": -420
    },
    "id": "0mW1IQhm06YF",
    "outputId": "87f929c5-fe60-40d9-98f1-b45577933887",
    "scrolled": false
   },
   "outputs": [
    {
     "data": {
      "text/plain": [
       "AcciYear          0\n",
       "AcciDate          0\n",
       "AcciTime          0\n",
       "ReportDate        0\n",
       "ReportTime        0\n",
       "Acc_Code          0\n",
       "Agencies          0\n",
       "Route             0\n",
       "Km                0\n",
       "Province         80\n",
       "Car1             27\n",
       "AcciLocation      0\n",
       "Assumed           0\n",
       "CauseOfAcci       0\n",
       "TotCar            0\n",
       "TotDead           0\n",
       "TotInjured        0\n",
       "Weather           0\n",
       "LATITUDE        801\n",
       "LONGITUDE       801\n",
       "dtype: int64"
      ]
     },
     "execution_count": 79,
     "metadata": {},
     "output_type": "execute_result"
    }
   ],
   "source": [
    "df_acci.isna().sum()"
   ]
  },
  {
   "cell_type": "markdown",
   "metadata": {
    "id": "1uAL6hNl06YH"
   },
   "source": [
    "### เนื่องจากว่าข้อมูล LATITUDE / LONGITUDE ถ้าทำการ Drop NaN ทิ้งไปจะทำให้ข้อมูลในส่วนที่มีความสำคัญใน Column อื่นๆหายไปด้วย เลย Replace ค่า NaN ใน LATITUDE/LONGITUDE ให้เป็น 0"
   ]
  },
  {
   "cell_type": "code",
   "execution_count": 80,
   "metadata": {
    "id": "e4qSMU7P06YI"
   },
   "outputs": [],
   "source": [
    "df_acci['LATITUDE'] = df_acci['LATITUDE'].replace(np.nan,0)\n",
    "df_acci['LONGITUDE'] = df_acci['LONGITUDE'].replace(np.nan,0)"
   ]
  },
  {
   "cell_type": "code",
   "execution_count": 81,
   "metadata": {
    "colab": {
     "base_uri": "https://localhost:8080/"
    },
    "executionInfo": {
     "elapsed": 1758,
     "status": "ok",
     "timestamp": 1604403946297,
     "user": {
      "displayName": "Thanus Benjaanuarcha",
      "photoUrl": "",
      "userId": "12182773663628112192"
     },
     "user_tz": -420
    },
    "id": "F3nn8mzW06YJ",
    "outputId": "147221c2-9f21-4943-d9dd-751df50b6a83",
    "scrolled": true
   },
   "outputs": [
    {
     "data": {
      "text/plain": [
       "AcciYear         0\n",
       "AcciDate         0\n",
       "AcciTime         0\n",
       "ReportDate       0\n",
       "ReportTime       0\n",
       "Acc_Code         0\n",
       "Agencies         0\n",
       "Route            0\n",
       "Km               0\n",
       "Province        80\n",
       "Car1            27\n",
       "AcciLocation     0\n",
       "Assumed          0\n",
       "CauseOfAcci      0\n",
       "TotCar           0\n",
       "TotDead          0\n",
       "TotInjured       0\n",
       "Weather          0\n",
       "LATITUDE         0\n",
       "LONGITUDE        0\n",
       "dtype: int64"
      ]
     },
     "execution_count": 81,
     "metadata": {},
     "output_type": "execute_result"
    }
   ],
   "source": [
    "df_acci.isna().sum()"
   ]
  },
  {
   "cell_type": "markdown",
   "metadata": {
    "id": "R6ycnMxc06YL"
   },
   "source": [
    "### หลังจาก Replace ข้อมูลเรียบร้อยแล้วก็ทำการ Drop ข้อมูลที่คาดว่าจะเป็น Error / Outliner ทิ้งเช่นข้อมูลใน Province ที่ไม่ระบุเข้ามา"
   ]
  },
  {
   "cell_type": "code",
   "execution_count": 82,
   "metadata": {
    "id": "htd9RIhV06YM"
   },
   "outputs": [],
   "source": [
    "dfacci = df_acci.dropna()"
   ]
  },
  {
   "cell_type": "code",
   "execution_count": 83,
   "metadata": {
    "colab": {
     "base_uri": "https://localhost:8080/"
    },
    "executionInfo": {
     "elapsed": 1756,
     "status": "ok",
     "timestamp": 1604403946298,
     "user": {
      "displayName": "Thanus Benjaanuarcha",
      "photoUrl": "",
      "userId": "12182773663628112192"
     },
     "user_tz": -420
    },
    "id": "PE7d6zL_06YO",
    "outputId": "18d843c2-2718-43c6-e3ee-0a9fc2f03817",
    "scrolled": false
   },
   "outputs": [
    {
     "data": {
      "text/plain": [
       "AcciYear        False\n",
       "AcciDate        False\n",
       "AcciTime        False\n",
       "ReportDate      False\n",
       "ReportTime      False\n",
       "Acc_Code        False\n",
       "Agencies        False\n",
       "Route           False\n",
       "Km              False\n",
       "Province        False\n",
       "Car1            False\n",
       "AcciLocation    False\n",
       "Assumed         False\n",
       "CauseOfAcci     False\n",
       "TotCar          False\n",
       "TotDead         False\n",
       "TotInjured      False\n",
       "Weather         False\n",
       "LATITUDE        False\n",
       "LONGITUDE       False\n",
       "dtype: bool"
      ]
     },
     "execution_count": 83,
     "metadata": {},
     "output_type": "execute_result"
    }
   ],
   "source": [
    "dfacci.isnull().any()"
   ]
  },
  {
   "cell_type": "code",
   "execution_count": 84,
   "metadata": {
    "colab": {
     "base_uri": "https://localhost:8080/"
    },
    "executionInfo": {
     "elapsed": 1754,
     "status": "ok",
     "timestamp": 1604403946298,
     "user": {
      "displayName": "Thanus Benjaanuarcha",
      "photoUrl": "",
      "userId": "12182773663628112192"
     },
     "user_tz": -420
    },
    "id": "_lsxAly106YQ",
    "outputId": "8877ae4c-fab4-4bfb-f9ea-772c9d9f9a02"
   },
   "outputs": [
    {
     "data": {
      "text/plain": [
       "(19858, 20)"
      ]
     },
     "execution_count": 84,
     "metadata": {},
     "output_type": "execute_result"
    }
   ],
   "source": [
    "dfacci.shape"
   ]
  },
  {
   "cell_type": "markdown",
   "metadata": {
    "id": "0xcHASul06YS"
   },
   "source": [
    "## Features Modifications : Adding or Modifying New Features\n",
    "    Add New Column Month of Accident"
   ]
  },
  {
   "cell_type": "code",
   "execution_count": 85,
   "metadata": {
    "colab": {
     "base_uri": "https://localhost:8080/"
    },
    "executionInfo": {
     "elapsed": 1754,
     "status": "ok",
     "timestamp": 1604403946300,
     "user": {
      "displayName": "Thanus Benjaanuarcha",
      "photoUrl": "",
      "userId": "12182773663628112192"
     },
     "user_tz": -420
    },
    "id": "RmOi9ek806YT",
    "outputId": "079b598d-cb8d-445c-b1f3-925e4c7a5acf"
   },
   "outputs": [
    {
     "name": "stderr",
     "output_type": "stream",
     "text": [
      "C:\\Users\\BoyThanus\\anaconda3\\lib\\site-packages\\ipykernel_launcher.py:1: SettingWithCopyWarning: \n",
      "A value is trying to be set on a copy of a slice from a DataFrame.\n",
      "Try using .loc[row_indexer,col_indexer] = value instead\n",
      "\n",
      "See the caveats in the documentation: https://pandas.pydata.org/pandas-docs/stable/user_guide/indexing.html#returning-a-view-versus-a-copy\n",
      "  \"\"\"Entry point for launching an IPython kernel.\n"
     ]
    }
   ],
   "source": [
    "dfacci['AcciMonth'] = pd.DatetimeIndex(dfacci['AcciDate']).month"
   ]
  },
  {
   "cell_type": "code",
   "execution_count": 86,
   "metadata": {
    "colab": {
     "base_uri": "https://localhost:8080/",
     "height": 419
    },
    "executionInfo": {
     "elapsed": 2169,
     "status": "ok",
     "timestamp": 1604403946716,
     "user": {
      "displayName": "Thanus Benjaanuarcha",
      "photoUrl": "",
      "userId": "12182773663628112192"
     },
     "user_tz": -420
    },
    "id": "J4yvglXW06YV",
    "outputId": "64900da0-afe7-4eb3-fd52-963ec7eb09d2"
   },
   "outputs": [
    {
     "data": {
      "text/html": [
       "<div>\n",
       "<style scoped>\n",
       "    .dataframe tbody tr th:only-of-type {\n",
       "        vertical-align: middle;\n",
       "    }\n",
       "\n",
       "    .dataframe tbody tr th {\n",
       "        vertical-align: top;\n",
       "    }\n",
       "\n",
       "    .dataframe thead th {\n",
       "        text-align: right;\n",
       "    }\n",
       "</style>\n",
       "<table border=\"1\" class=\"dataframe\">\n",
       "  <thead>\n",
       "    <tr style=\"text-align: right;\">\n",
       "      <th></th>\n",
       "      <th>AcciDate</th>\n",
       "      <th>AcciMonth</th>\n",
       "    </tr>\n",
       "  </thead>\n",
       "  <tbody>\n",
       "    <tr>\n",
       "      <th>0</th>\n",
       "      <td>01/01/2019</td>\n",
       "      <td>1</td>\n",
       "    </tr>\n",
       "    <tr>\n",
       "      <th>1</th>\n",
       "      <td>01/01/2019</td>\n",
       "      <td>1</td>\n",
       "    </tr>\n",
       "    <tr>\n",
       "      <th>2</th>\n",
       "      <td>01/01/2019</td>\n",
       "      <td>1</td>\n",
       "    </tr>\n",
       "    <tr>\n",
       "      <th>3</th>\n",
       "      <td>01/01/2019</td>\n",
       "      <td>1</td>\n",
       "    </tr>\n",
       "    <tr>\n",
       "      <th>4</th>\n",
       "      <td>01/01/2019</td>\n",
       "      <td>1</td>\n",
       "    </tr>\n",
       "    <tr>\n",
       "      <th>...</th>\n",
       "      <td>...</td>\n",
       "      <td>...</td>\n",
       "    </tr>\n",
       "    <tr>\n",
       "      <th>19960</th>\n",
       "      <td>31/12/2019</td>\n",
       "      <td>12</td>\n",
       "    </tr>\n",
       "    <tr>\n",
       "      <th>19961</th>\n",
       "      <td>31/12/2019</td>\n",
       "      <td>12</td>\n",
       "    </tr>\n",
       "    <tr>\n",
       "      <th>19962</th>\n",
       "      <td>31/12/2019</td>\n",
       "      <td>12</td>\n",
       "    </tr>\n",
       "    <tr>\n",
       "      <th>19963</th>\n",
       "      <td>31/12/2019</td>\n",
       "      <td>12</td>\n",
       "    </tr>\n",
       "    <tr>\n",
       "      <th>19964</th>\n",
       "      <td>31/12/2019</td>\n",
       "      <td>12</td>\n",
       "    </tr>\n",
       "  </tbody>\n",
       "</table>\n",
       "<p>19858 rows × 2 columns</p>\n",
       "</div>"
      ],
      "text/plain": [
       "         AcciDate  AcciMonth\n",
       "0      01/01/2019          1\n",
       "1      01/01/2019          1\n",
       "2      01/01/2019          1\n",
       "3      01/01/2019          1\n",
       "4      01/01/2019          1\n",
       "...           ...        ...\n",
       "19960  31/12/2019         12\n",
       "19961  31/12/2019         12\n",
       "19962  31/12/2019         12\n",
       "19963  31/12/2019         12\n",
       "19964  31/12/2019         12\n",
       "\n",
       "[19858 rows x 2 columns]"
      ]
     },
     "execution_count": 86,
     "metadata": {},
     "output_type": "execute_result"
    }
   ],
   "source": [
    "dfacci[['AcciDate','AcciMonth']]"
   ]
  },
  {
   "cell_type": "code",
   "execution_count": 87,
   "metadata": {
    "colab": {
     "base_uri": "https://localhost:8080/"
    },
    "executionInfo": {
     "elapsed": 2168,
     "status": "ok",
     "timestamp": 1604403946717,
     "user": {
      "displayName": "Thanus Benjaanuarcha",
      "photoUrl": "",
      "userId": "12182773663628112192"
     },
     "user_tz": -420
    },
    "id": "CUl1CMqa06YX",
    "outputId": "be9fd89a-5dd1-41b5-9ea3-c010797c1ff2"
   },
   "outputs": [
    {
     "name": "stderr",
     "output_type": "stream",
     "text": [
      "C:\\Users\\BoyThanus\\anaconda3\\lib\\site-packages\\ipykernel_launcher.py:1: SettingWithCopyWarning: \n",
      "A value is trying to be set on a copy of a slice from a DataFrame.\n",
      "Try using .loc[row_indexer,col_indexer] = value instead\n",
      "\n",
      "See the caveats in the documentation: https://pandas.pydata.org/pandas-docs/stable/user_guide/indexing.html#returning-a-view-versus-a-copy\n",
      "  \"\"\"Entry point for launching an IPython kernel.\n"
     ]
    }
   ],
   "source": [
    "dfacci['AcciMonth'] = dfacci['AcciMonth'].astype('category')"
   ]
  },
  {
   "cell_type": "code",
   "execution_count": 88,
   "metadata": {
    "colab": {
     "base_uri": "https://localhost:8080/"
    },
    "executionInfo": {
     "elapsed": 2167,
     "status": "ok",
     "timestamp": 1604403946717,
     "user": {
      "displayName": "Thanus Benjaanuarcha",
      "photoUrl": "",
      "userId": "12182773663628112192"
     },
     "user_tz": -420
    },
    "id": "gzM4kxBc06YZ",
    "outputId": "dfe78f93-6dfb-4967-dba0-55078e9e8832",
    "scrolled": true
   },
   "outputs": [
    {
     "data": {
      "text/plain": [
       "AcciYear           int64\n",
       "AcciDate          object\n",
       "AcciTime          object\n",
       "ReportDate        object\n",
       "ReportTime        object\n",
       "Acc_Code           int64\n",
       "Agencies          object\n",
       "Route             object\n",
       "Km               float64\n",
       "Province          object\n",
       "Car1              object\n",
       "AcciLocation      object\n",
       "Assumed           object\n",
       "CauseOfAcci       object\n",
       "TotCar             int64\n",
       "TotDead            int64\n",
       "TotInjured         int64\n",
       "Weather           object\n",
       "LATITUDE         float64\n",
       "LONGITUDE        float64\n",
       "AcciMonth       category\n",
       "dtype: object"
      ]
     },
     "execution_count": 88,
     "metadata": {},
     "output_type": "execute_result"
    }
   ],
   "source": [
    "dfacci.dtypes"
   ]
  },
  {
   "cell_type": "markdown",
   "metadata": {
    "id": "cg-rEei-UcIz"
   },
   "source": [
    "# สร้าง visualizations"
   ]
  },
  {
   "cell_type": "code",
   "execution_count": 89,
   "metadata": {
    "id": "nAruGO6cUcI0"
   },
   "outputs": [],
   "source": [
    "# load seaborn library\n",
    "import seaborn as sns\n",
    "\n",
    "from matplotlib import font_manager as fm, rcParams\n",
    "import matplotlib.pyplot as plt\n",
    "\n",
    "# make the plot appear without explicitly show()\n",
    "%matplotlib inline"
   ]
  },
  {
   "cell_type": "code",
   "execution_count": 90,
   "metadata": {
    "id": "IARZVTqpUcI1",
    "outputId": "fcc45912-e853-4de7-b552-aa5b6dd752ad"
   },
   "outputs": [
    {
     "name": "stdout",
     "output_type": "stream",
     "text": [
      "['AcciYear', 'AcciDate', 'AcciTime', 'ReportDate', 'ReportTime', 'Acc_Code', 'Agencies', 'Route', 'Km', 'Province', 'Car1', 'AcciLocation', 'Assumed', 'CauseOfAcci', 'TotCar', 'TotDead', 'TotInjured', 'Weather', 'LATITUDE', 'LONGITUDE', 'AcciMonth']\n"
     ]
    }
   ],
   "source": [
    "allcols = list(dfacci.columns)\n",
    "features = allcols[0:99]  #ตัด columnสุดท้ายออก\n",
    "print(features)"
   ]
  },
  {
   "cell_type": "markdown",
   "metadata": {
    "id": "M0SAmcqJ06Yb"
   },
   "source": [
    "### แสดงข้อมูลการเกิดเหตุ ในแต่ละจังหวัด"
   ]
  },
  {
   "cell_type": "code",
   "execution_count": 91,
   "metadata": {
    "colab": {
     "base_uri": "https://localhost:8080/"
    },
    "executionInfo": {
     "elapsed": 2166,
     "status": "ok",
     "timestamp": 1604403946718,
     "user": {
      "displayName": "Thanus Benjaanuarcha",
      "photoUrl": "",
      "userId": "12182773663628112192"
     },
     "user_tz": -420
    },
    "id": "_3zOsEEw06Yb",
    "outputId": "b3c5bc48-43d6-4297-f53e-39a3dec76606"
   },
   "outputs": [
    {
     "data": {
      "text/plain": [
       "กรุงเทพมหานคร    1844\n",
       "ชลบุรี            936\n",
       "นครราชสีมา        876\n",
       "สุพรรณบุรี        727\n",
       "สมุทรปราการ       648\n",
       "                 ... \n",
       "ยะลา               72\n",
       "พังงา              72\n",
       "ชัยภูมิ            69\n",
       "อำนาจเจริญ         51\n",
       "ระนอง              35\n",
       "Name: Province, Length: 77, dtype: int64"
      ]
     },
     "execution_count": 91,
     "metadata": {},
     "output_type": "execute_result"
    }
   ],
   "source": [
    "plt.rcParams['font.sans-serif']=['Tahoma']\n",
    "plt.rcParams['axes.unicode_minus']=False   \n",
    "\n",
    "tag_count = dfacci['Province'].value_counts()\n",
    "tag_count"
   ]
  },
  {
   "cell_type": "code",
   "execution_count": 92,
   "metadata": {
    "colab": {
     "base_uri": "https://localhost:8080/",
     "height": 1000
    },
    "executionInfo": {
     "elapsed": 3537,
     "status": "ok",
     "timestamp": 1604403948090,
     "user": {
      "displayName": "Thanus Benjaanuarcha",
      "photoUrl": "",
      "userId": "12182773663628112192"
     },
     "user_tz": -420
    },
    "id": "-u-4rXc706Yd",
    "outputId": "4a04188c-605e-4d39-9c24-a70b90e4ccd9",
    "scrolled": false
   },
   "outputs": [
    {
     "data": {
      "text/plain": [
       "<matplotlib.axes._subplots.AxesSubplot at 0x1aacf364d88>"
      ]
     },
     "execution_count": 92,
     "metadata": {},
     "output_type": "execute_result"
    },
    {
     "data": {
      "image/png": "[encoded data removed]",
      "text/plain": [
       "<Figure size 1080x720 with 1 Axes>"
      ]
     },
     "metadata": {
      "needs_background": "light"
     },
     "output_type": "display_data"
    }
   ],
   "source": [
    "tag_count.plot(kind='bar', figsize=(15,10))"
   ]
  },
  {
   "cell_type": "markdown",
   "metadata": {
    "id": "zHZAzTzS06Yg"
   },
   "source": [
    "### Group เส้นทาง กับ จุดเกิดเหตุ"
   ]
  },
  {
   "cell_type": "code",
   "execution_count": 93,
   "metadata": {
    "colab": {
     "base_uri": "https://localhost:8080/",
     "height": 1000
    },
    "executionInfo": {
     "elapsed": 1338,
     "status": "ok",
     "timestamp": 1604404072207,
     "user": {
      "displayName": "Thanus Benjaanuarcha",
      "photoUrl": "",
      "userId": "12182773663628112192"
     },
     "user_tz": -420
    },
    "id": "6r32lqm306Yg",
    "outputId": "a6d4a913-ed32-4a85-def4-d199da4d4252",
    "scrolled": true
   },
   "outputs": [
    {
     "data": {
      "text/html": [
       "<div>\n",
       "<style scoped>\n",
       "    .dataframe tbody tr th:only-of-type {\n",
       "        vertical-align: middle;\n",
       "    }\n",
       "\n",
       "    .dataframe tbody tr th {\n",
       "        vertical-align: top;\n",
       "    }\n",
       "\n",
       "    .dataframe thead th {\n",
       "        text-align: right;\n",
       "    }\n",
       "</style>\n",
       "<table border=\"1\" class=\"dataframe\">\n",
       "  <thead>\n",
       "    <tr style=\"text-align: right;\">\n",
       "      <th></th>\n",
       "      <th></th>\n",
       "      <th>AcciYear</th>\n",
       "      <th>AcciDate</th>\n",
       "      <th>AcciTime</th>\n",
       "      <th>ReportDate</th>\n",
       "      <th>ReportTime</th>\n",
       "      <th>Acc_Code</th>\n",
       "      <th>Agencies</th>\n",
       "      <th>Km</th>\n",
       "      <th>Province</th>\n",
       "      <th>Car1</th>\n",
       "      <th>Assumed</th>\n",
       "      <th>CauseOfAcci</th>\n",
       "      <th>TotCar</th>\n",
       "      <th>TotDead</th>\n",
       "      <th>TotInjured</th>\n",
       "      <th>Weather</th>\n",
       "      <th>LATITUDE</th>\n",
       "      <th>LONGITUDE</th>\n",
       "      <th>AcciMonth</th>\n",
       "    </tr>\n",
       "    <tr>\n",
       "      <th>Route</th>\n",
       "      <th>AcciLocation</th>\n",
       "      <th></th>\n",
       "      <th></th>\n",
       "      <th></th>\n",
       "      <th></th>\n",
       "      <th></th>\n",
       "      <th></th>\n",
       "      <th></th>\n",
       "      <th></th>\n",
       "      <th></th>\n",
       "      <th></th>\n",
       "      <th></th>\n",
       "      <th></th>\n",
       "      <th></th>\n",
       "      <th></th>\n",
       "      <th></th>\n",
       "      <th></th>\n",
       "      <th></th>\n",
       "      <th></th>\n",
       "      <th></th>\n",
       "    </tr>\n",
       "  </thead>\n",
       "  <tbody>\n",
       "    <tr>\n",
       "      <th rowspan=\"5\" valign=\"top\">ฉลองรัช</th>\n",
       "      <th>ทางตรง</th>\n",
       "      <td>2019</td>\n",
       "      <td>08/01/2019</td>\n",
       "      <td>09:58</td>\n",
       "      <td>08/01/2019</td>\n",
       "      <td>10:41</td>\n",
       "      <td>201901083736</td>\n",
       "      <td>การทางพิเศษแห่งประเทศไทย</td>\n",
       "      <td>0.000</td>\n",
       "      <td>กรุงเทพมหานคร</td>\n",
       "      <td>รถตู้</td>\n",
       "      <td>ไม่ให้สัญญาณจอด / ชะลอ / เลี้ยว</td>\n",
       "      <td>ชนท้าย</td>\n",
       "      <td>3</td>\n",
       "      <td>0</td>\n",
       "      <td>1</td>\n",
       "      <td>แจ่มใส</td>\n",
       "      <td>0.000000</td>\n",
       "      <td>0.000000</td>\n",
       "      <td>8</td>\n",
       "    </tr>\n",
       "    <tr>\n",
       "      <th>ทางร่วม</th>\n",
       "      <td>2019</td>\n",
       "      <td>07/07/2019</td>\n",
       "      <td>04:35</td>\n",
       "      <td>07/07/2019</td>\n",
       "      <td>05:34</td>\n",
       "      <td>201907073542</td>\n",
       "      <td>การทางพิเศษแห่งประเทศไทย</td>\n",
       "      <td>0.000</td>\n",
       "      <td>กรุงเทพมหานคร</td>\n",
       "      <td>รถยนต์นั่งส่วนบุคคล/รถยนต์นั่งสาธารณะ</td>\n",
       "      <td>ไม่ให้สัญญาณจอด / ชะลอ / เลี้ยว</td>\n",
       "      <td>อื่น ๆ</td>\n",
       "      <td>1</td>\n",
       "      <td>0</td>\n",
       "      <td>0</td>\n",
       "      <td>แจ่มใส</td>\n",
       "      <td>0.000000</td>\n",
       "      <td>0.000000</td>\n",
       "      <td>7</td>\n",
       "    </tr>\n",
       "    <tr>\n",
       "      <th>ทางลาด</th>\n",
       "      <td>2019</td>\n",
       "      <td>04/05/2019</td>\n",
       "      <td>12:38</td>\n",
       "      <td>04/05/2019</td>\n",
       "      <td>01:25</td>\n",
       "      <td>20190504746</td>\n",
       "      <td>การทางพิเศษแห่งประเทศไทย</td>\n",
       "      <td>4.800</td>\n",
       "      <td>กรุงเทพมหานคร</td>\n",
       "      <td>รถยนต์นั่งส่วนบุคคล/รถยนต์นั่งสาธารณะ</td>\n",
       "      <td>อื่น ๆ</td>\n",
       "      <td>ชนท้าย</td>\n",
       "      <td>3</td>\n",
       "      <td>0</td>\n",
       "      <td>0</td>\n",
       "      <td>แจ่มใส</td>\n",
       "      <td>0.000000</td>\n",
       "      <td>0.000000</td>\n",
       "      <td>4</td>\n",
       "    </tr>\n",
       "    <tr>\n",
       "      <th>ทางเข้าด่านเก็บเงิน</th>\n",
       "      <td>2019</td>\n",
       "      <td>19/03/2019</td>\n",
       "      <td>15:12</td>\n",
       "      <td>05/04/2019</td>\n",
       "      <td>09:35</td>\n",
       "      <td>201903198086</td>\n",
       "      <td>การทางพิเศษแห่งประเทศไทย</td>\n",
       "      <td>0.000</td>\n",
       "      <td>กรุงเทพมหานคร</td>\n",
       "      <td>รถโดยสารมากกว่า 4 ล้อ</td>\n",
       "      <td>อื่น ๆ</td>\n",
       "      <td>อื่น ๆ</td>\n",
       "      <td>1</td>\n",
       "      <td>0</td>\n",
       "      <td>0</td>\n",
       "      <td>แจ่มใส</td>\n",
       "      <td>0.000000</td>\n",
       "      <td>0.000000</td>\n",
       "      <td>3</td>\n",
       "    </tr>\n",
       "    <tr>\n",
       "      <th>ทางแยก</th>\n",
       "      <td>2019</td>\n",
       "      <td>19/10/2019</td>\n",
       "      <td>04:50</td>\n",
       "      <td>19/10/2019</td>\n",
       "      <td>05:45</td>\n",
       "      <td>201910198388</td>\n",
       "      <td>การทางพิเศษแห่งประเทศไทย</td>\n",
       "      <td>12.000</td>\n",
       "      <td>กรุงเทพมหานคร</td>\n",
       "      <td>รถยนต์นั่งส่วนบุคคล/รถยนต์นั่งสาธารณะ</td>\n",
       "      <td>หลับใน</td>\n",
       "      <td>พลิกคว่ำ</td>\n",
       "      <td>1</td>\n",
       "      <td>0</td>\n",
       "      <td>0</td>\n",
       "      <td>แจ่มใส</td>\n",
       "      <td>0.000000</td>\n",
       "      <td>0.000000</td>\n",
       "      <td>10</td>\n",
       "    </tr>\n",
       "    <tr>\n",
       "      <th>...</th>\n",
       "      <th>...</th>\n",
       "      <td>...</td>\n",
       "      <td>...</td>\n",
       "      <td>...</td>\n",
       "      <td>...</td>\n",
       "      <td>...</td>\n",
       "      <td>...</td>\n",
       "      <td>...</td>\n",
       "      <td>...</td>\n",
       "      <td>...</td>\n",
       "      <td>...</td>\n",
       "      <td>...</td>\n",
       "      <td>...</td>\n",
       "      <td>...</td>\n",
       "      <td>...</td>\n",
       "      <td>...</td>\n",
       "      <td>...</td>\n",
       "      <td>...</td>\n",
       "      <td>...</td>\n",
       "      <td>...</td>\n",
       "    </tr>\n",
       "    <tr>\n",
       "      <th>แยกทางหลวงหมายเลข 2051 (กม.ที่ 16+000) - แหล่งท่องเที่ยวมอหินขาว</th>\n",
       "      <th>ทางโค้งหักศอก+ไม่มีความลาดชัน/ที่ราบ</th>\n",
       "      <td>2019</td>\n",
       "      <td>17/05/2019</td>\n",
       "      <td>19:54</td>\n",
       "      <td>10/06/2019</td>\n",
       "      <td>10:06</td>\n",
       "      <td>201906102306</td>\n",
       "      <td>กรมทางหลวงชนบท</td>\n",
       "      <td>1.250</td>\n",
       "      <td>ชัยภูมิ</td>\n",
       "      <td>รถบรรทุก 6 ล้อ</td>\n",
       "      <td>ขับรถเร็วเกินกำหนด</td>\n",
       "      <td>พลิกคว่ำตกถนน</td>\n",
       "      <td>1</td>\n",
       "      <td>0</td>\n",
       "      <td>1</td>\n",
       "      <td>อื่น ๆ</td>\n",
       "      <td>15.971774</td>\n",
       "      <td>102.025782</td>\n",
       "      <td>5</td>\n",
       "    </tr>\n",
       "    <tr>\n",
       "      <th>แยกทางหลวงหมายเลข 207 (กม.ที่ 21+600) - บ้านหนองแวง</th>\n",
       "      <th>ทางโค้งกว้าง+ไม่มีความลาดชัน/ที่ราบ</th>\n",
       "      <td>2019</td>\n",
       "      <td>10/08/2019</td>\n",
       "      <td>12:00</td>\n",
       "      <td>02/09/2019</td>\n",
       "      <td>11:30</td>\n",
       "      <td>201909026243</td>\n",
       "      <td>กรมทางหลวงชนบท</td>\n",
       "      <td>1.700</td>\n",
       "      <td>ขอนแก่น</td>\n",
       "      <td>รถจักรยานยนต์</td>\n",
       "      <td>ขับรถเร็วเกินกำหนด</td>\n",
       "      <td>อื่น ๆ</td>\n",
       "      <td>1</td>\n",
       "      <td>1</td>\n",
       "      <td>0</td>\n",
       "      <td>แจ่มใส</td>\n",
       "      <td>15.740198</td>\n",
       "      <td>102.807429</td>\n",
       "      <td>10</td>\n",
       "    </tr>\n",
       "    <tr>\n",
       "      <th>แยกทางหลวงหมายเลข 3238 (กม.ที่  3+300) - อำเภอบ้านโป่ง</th>\n",
       "      <th>ทางตรง+ไม่มีความลาดชัน/ที่ราบ</th>\n",
       "      <td>2019</td>\n",
       "      <td>13/04/2019</td>\n",
       "      <td>11:00</td>\n",
       "      <td>14/04/2019</td>\n",
       "      <td>06:31</td>\n",
       "      <td>201904149137</td>\n",
       "      <td>กรมทางหลวงชนบท</td>\n",
       "      <td>3.550</td>\n",
       "      <td>ราชบุรี</td>\n",
       "      <td>รถปิคอัพโดยสาร</td>\n",
       "      <td>ขับรถเร็วเกินกำหนด</td>\n",
       "      <td>อื่น ๆ</td>\n",
       "      <td>1</td>\n",
       "      <td>0</td>\n",
       "      <td>4</td>\n",
       "      <td>แจ่มใส</td>\n",
       "      <td>13.651960</td>\n",
       "      <td>99.831165</td>\n",
       "      <td>4</td>\n",
       "    </tr>\n",
       "    <tr>\n",
       "      <th>แยกทางหลวงหมายเลข 3520 (กม.ที่ 1+000) - บ้านคชสิทธิ์</th>\n",
       "      <th>ทางตรง+ไม่มีความลาดชัน/ที่ราบ</th>\n",
       "      <td>2019</td>\n",
       "      <td>10/08/2019</td>\n",
       "      <td>21:45</td>\n",
       "      <td>02/09/2019</td>\n",
       "      <td>11:30</td>\n",
       "      <td>201909026246</td>\n",
       "      <td>กรมทางหลวงชนบท</td>\n",
       "      <td>1.085</td>\n",
       "      <td>สระบุรี</td>\n",
       "      <td>รถยนต์นั่งส่วนบุคคล/รถยนต์นั่งสาธารณะ</td>\n",
       "      <td>ขับล้ำเข้าไปในช่องจราจรฝั่งรถสวน</td>\n",
       "      <td>ชนในทิศทางตรงกันข้าม (ไม่ใช่การแซง)</td>\n",
       "      <td>2</td>\n",
       "      <td>3</td>\n",
       "      <td>0</td>\n",
       "      <td>แจ่มใส</td>\n",
       "      <td>14.346873</td>\n",
       "      <td>100.846412</td>\n",
       "      <td>10</td>\n",
       "    </tr>\n",
       "    <tr>\n",
       "      <th>แยกเฉลิมบูรพาชลทิต (กม.ที่ 52+870) - หาดแหลมเสด็จ</th>\n",
       "      <th>ทางตรง+ไม่มีความลาดชัน/ที่ราบ</th>\n",
       "      <td>2019</td>\n",
       "      <td>23/08/2019</td>\n",
       "      <td>20:35</td>\n",
       "      <td>02/09/2019</td>\n",
       "      <td>11:32</td>\n",
       "      <td>201909026255</td>\n",
       "      <td>กรมทางหลวงชนบท</td>\n",
       "      <td>0.818</td>\n",
       "      <td>จันทบุรี</td>\n",
       "      <td>รถจักรยานยนต์</td>\n",
       "      <td>ขับรถเร็วเกินกำหนด</td>\n",
       "      <td>อื่น ๆ</td>\n",
       "      <td>1</td>\n",
       "      <td>1</td>\n",
       "      <td>0</td>\n",
       "      <td>แจ่มใส</td>\n",
       "      <td>12.567325</td>\n",
       "      <td>101.904949</td>\n",
       "      <td>8</td>\n",
       "    </tr>\n",
       "  </tbody>\n",
       "</table>\n",
       "<p>4775 rows × 19 columns</p>\n",
       "</div>"
      ],
      "text/plain": [
       "                                                                                         AcciYear  \\\n",
       "Route                                              AcciLocation                                     \n",
       "ฉลองรัช                                            ทางตรง                                    2019   \n",
       "                                                   ทางร่วม                                   2019   \n",
       "                                                   ทางลาด                                    2019   \n",
       "                                                   ทางเข้าด่านเก็บเงิน                       2019   \n",
       "                                                   ทางแยก                                    2019   \n",
       "...                                                                                           ...   \n",
       "แยกทางหลวงหมายเลข 2051 (กม.ที่ 16+000) - แหล่งท... ทางโค้งหักศอก+ไม่มีความลาดชัน/ที่ราบ      2019   \n",
       "แยกทางหลวงหมายเลข 207 (กม.ที่ 21+600) - บ้านหนอ... ทางโค้งกว้าง+ไม่มีความลาดชัน/ที่ราบ       2019   \n",
       "แยกทางหลวงหมายเลข 3238 (กม.ที่  3+300) - อำเภอบ... ทางตรง+ไม่มีความลาดชัน/ที่ราบ             2019   \n",
       "แยกทางหลวงหมายเลข 3520 (กม.ที่ 1+000) - บ้านคชส... ทางตรง+ไม่มีความลาดชัน/ที่ราบ             2019   \n",
       "แยกเฉลิมบูรพาชลทิต (กม.ที่ 52+870) - หาดแหลมเสด็จ  ทางตรง+ไม่มีความลาดชัน/ที่ราบ             2019   \n",
       "\n",
       "                                                                                           AcciDate  \\\n",
       "Route                                              AcciLocation                                       \n",
       "ฉลองรัช                                            ทางตรง                                08/01/2019   \n",
       "                                                   ทางร่วม                               07/07/2019   \n",
       "                                                   ทางลาด                                04/05/2019   \n",
       "                                                   ทางเข้าด่านเก็บเงิน                   19/03/2019   \n",
       "                                                   ทางแยก                                19/10/2019   \n",
       "...                                                                                             ...   \n",
       "แยกทางหลวงหมายเลข 2051 (กม.ที่ 16+000) - แหล่งท... ทางโค้งหักศอก+ไม่มีความลาดชัน/ที่ราบ  17/05/2019   \n",
       "แยกทางหลวงหมายเลข 207 (กม.ที่ 21+600) - บ้านหนอ... ทางโค้งกว้าง+ไม่มีความลาดชัน/ที่ราบ   10/08/2019   \n",
       "แยกทางหลวงหมายเลข 3238 (กม.ที่  3+300) - อำเภอบ... ทางตรง+ไม่มีความลาดชัน/ที่ราบ         13/04/2019   \n",
       "แยกทางหลวงหมายเลข 3520 (กม.ที่ 1+000) - บ้านคชส... ทางตรง+ไม่มีความลาดชัน/ที่ราบ         10/08/2019   \n",
       "แยกเฉลิมบูรพาชลทิต (กม.ที่ 52+870) - หาดแหลมเสด็จ  ทางตรง+ไม่มีความลาดชัน/ที่ราบ         23/08/2019   \n",
       "\n",
       "                                                                                        AcciTime  \\\n",
       "Route                                              AcciLocation                                    \n",
       "ฉลองรัช                                            ทางตรง                                  09:58   \n",
       "                                                   ทางร่วม                                 04:35   \n",
       "                                                   ทางลาด                                  12:38   \n",
       "                                                   ทางเข้าด่านเก็บเงิน                     15:12   \n",
       "                                                   ทางแยก                                  04:50   \n",
       "...                                                                                          ...   \n",
       "แยกทางหลวงหมายเลข 2051 (กม.ที่ 16+000) - แหล่งท... ทางโค้งหักศอก+ไม่มีความลาดชัน/ที่ราบ    19:54   \n",
       "แยกทางหลวงหมายเลข 207 (กม.ที่ 21+600) - บ้านหนอ... ทางโค้งกว้าง+ไม่มีความลาดชัน/ที่ราบ     12:00   \n",
       "แยกทางหลวงหมายเลข 3238 (กม.ที่  3+300) - อำเภอบ... ทางตรง+ไม่มีความลาดชัน/ที่ราบ           11:00   \n",
       "แยกทางหลวงหมายเลข 3520 (กม.ที่ 1+000) - บ้านคชส... ทางตรง+ไม่มีความลาดชัน/ที่ราบ           21:45   \n",
       "แยกเฉลิมบูรพาชลทิต (กม.ที่ 52+870) - หาดแหลมเสด็จ  ทางตรง+ไม่มีความลาดชัน/ที่ราบ           20:35   \n",
       "\n",
       "                                                                                         ReportDate  \\\n",
       "Route                                              AcciLocation                                       \n",
       "ฉลองรัช                                            ทางตรง                                08/01/2019   \n",
       "                                                   ทางร่วม                               07/07/2019   \n",
       "                                                   ทางลาด                                04/05/2019   \n",
       "                                                   ทางเข้าด่านเก็บเงิน                   05/04/2019   \n",
       "                                                   ทางแยก                                19/10/2019   \n",
       "...                                                                                             ...   \n",
       "แยกทางหลวงหมายเลข 2051 (กม.ที่ 16+000) - แหล่งท... ทางโค้งหักศอก+ไม่มีความลาดชัน/ที่ราบ  10/06/2019   \n",
       "แยกทางหลวงหมายเลข 207 (กม.ที่ 21+600) - บ้านหนอ... ทางโค้งกว้าง+ไม่มีความลาดชัน/ที่ราบ   02/09/2019   \n",
       "แยกทางหลวงหมายเลข 3238 (กม.ที่  3+300) - อำเภอบ... ทางตรง+ไม่มีความลาดชัน/ที่ราบ         14/04/2019   \n",
       "แยกทางหลวงหมายเลข 3520 (กม.ที่ 1+000) - บ้านคชส... ทางตรง+ไม่มีความลาดชัน/ที่ราบ         02/09/2019   \n",
       "แยกเฉลิมบูรพาชลทิต (กม.ที่ 52+870) - หาดแหลมเสด็จ  ทางตรง+ไม่มีความลาดชัน/ที่ราบ         02/09/2019   \n",
       "\n",
       "                                                                                        ReportTime  \\\n",
       "Route                                              AcciLocation                                      \n",
       "ฉลองรัช                                            ทางตรง                                    10:41   \n",
       "                                                   ทางร่วม                                   05:34   \n",
       "                                                   ทางลาด                                    01:25   \n",
       "                                                   ทางเข้าด่านเก็บเงิน                       09:35   \n",
       "                                                   ทางแยก                                    05:45   \n",
       "...                                                                                            ...   \n",
       "แยกทางหลวงหมายเลข 2051 (กม.ที่ 16+000) - แหล่งท... ทางโค้งหักศอก+ไม่มีความลาดชัน/ที่ราบ      10:06   \n",
       "แยกทางหลวงหมายเลข 207 (กม.ที่ 21+600) - บ้านหนอ... ทางโค้งกว้าง+ไม่มีความลาดชัน/ที่ราบ       11:30   \n",
       "แยกทางหลวงหมายเลข 3238 (กม.ที่  3+300) - อำเภอบ... ทางตรง+ไม่มีความลาดชัน/ที่ราบ             06:31   \n",
       "แยกทางหลวงหมายเลข 3520 (กม.ที่ 1+000) - บ้านคชส... ทางตรง+ไม่มีความลาดชัน/ที่ราบ             11:30   \n",
       "แยกเฉลิมบูรพาชลทิต (กม.ที่ 52+870) - หาดแหลมเสด็จ  ทางตรง+ไม่มีความลาดชัน/ที่ราบ             11:32   \n",
       "\n",
       "                                                                                             Acc_Code  \\\n",
       "Route                                              AcciLocation                                         \n",
       "ฉลองรัช                                            ทางตรง                                201901083736   \n",
       "                                                   ทางร่วม                               201907073542   \n",
       "                                                   ทางลาด                                 20190504746   \n",
       "                                                   ทางเข้าด่านเก็บเงิน                   201903198086   \n",
       "                                                   ทางแยก                                201910198388   \n",
       "...                                                                                               ...   \n",
       "แยกทางหลวงหมายเลข 2051 (กม.ที่ 16+000) - แหล่งท... ทางโค้งหักศอก+ไม่มีความลาดชัน/ที่ราบ  201906102306   \n",
       "แยกทางหลวงหมายเลข 207 (กม.ที่ 21+600) - บ้านหนอ... ทางโค้งกว้าง+ไม่มีความลาดชัน/ที่ราบ   201909026243   \n",
       "แยกทางหลวงหมายเลข 3238 (กม.ที่  3+300) - อำเภอบ... ทางตรง+ไม่มีความลาดชัน/ที่ราบ         201904149137   \n",
       "แยกทางหลวงหมายเลข 3520 (กม.ที่ 1+000) - บ้านคชส... ทางตรง+ไม่มีความลาดชัน/ที่ราบ         201909026246   \n",
       "แยกเฉลิมบูรพาชลทิต (กม.ที่ 52+870) - หาดแหลมเสด็จ  ทางตรง+ไม่มีความลาดชัน/ที่ราบ         201909026255   \n",
       "\n",
       "                                                                                                         Agencies  \\\n",
       "Route                                              AcciLocation                                                     \n",
       "ฉลองรัช                                            ทางตรง                                การทางพิเศษแห่งประเทศไทย   \n",
       "                                                   ทางร่วม                               การทางพิเศษแห่งประเทศไทย   \n",
       "                                                   ทางลาด                                การทางพิเศษแห่งประเทศไทย   \n",
       "                                                   ทางเข้าด่านเก็บเงิน                   การทางพิเศษแห่งประเทศไทย   \n",
       "                                                   ทางแยก                                การทางพิเศษแห่งประเทศไทย   \n",
       "...                                                                                                           ...   \n",
       "แยกทางหลวงหมายเลข 2051 (กม.ที่ 16+000) - แหล่งท... ทางโค้งหักศอก+ไม่มีความลาดชัน/ที่ราบ            กรมทางหลวงชนบท   \n",
       "แยกทางหลวงหมายเลข 207 (กม.ที่ 21+600) - บ้านหนอ... ทางโค้งกว้าง+ไม่มีความลาดชัน/ที่ราบ             กรมทางหลวงชนบท   \n",
       "แยกทางหลวงหมายเลข 3238 (กม.ที่  3+300) - อำเภอบ... ทางตรง+ไม่มีความลาดชัน/ที่ราบ                   กรมทางหลวงชนบท   \n",
       "แยกทางหลวงหมายเลข 3520 (กม.ที่ 1+000) - บ้านคชส... ทางตรง+ไม่มีความลาดชัน/ที่ราบ                   กรมทางหลวงชนบท   \n",
       "แยกเฉลิมบูรพาชลทิต (กม.ที่ 52+870) - หาดแหลมเสด็จ  ทางตรง+ไม่มีความลาดชัน/ที่ราบ                   กรมทางหลวงชนบท   \n",
       "\n",
       "                                                                                             Km  \\\n",
       "Route                                              AcciLocation                                   \n",
       "ฉลองรัช                                            ทางตรง                                 0.000   \n",
       "                                                   ทางร่วม                                0.000   \n",
       "                                                   ทางลาด                                 4.800   \n",
       "                                                   ทางเข้าด่านเก็บเงิน                    0.000   \n",
       "                                                   ทางแยก                                12.000   \n",
       "...                                                                                         ...   \n",
       "แยกทางหลวงหมายเลข 2051 (กม.ที่ 16+000) - แหล่งท... ทางโค้งหักศอก+ไม่มีความลาดชัน/ที่ราบ   1.250   \n",
       "แยกทางหลวงหมายเลข 207 (กม.ที่ 21+600) - บ้านหนอ... ทางโค้งกว้าง+ไม่มีความลาดชัน/ที่ราบ    1.700   \n",
       "แยกทางหลวงหมายเลข 3238 (กม.ที่  3+300) - อำเภอบ... ทางตรง+ไม่มีความลาดชัน/ที่ราบ          3.550   \n",
       "แยกทางหลวงหมายเลข 3520 (กม.ที่ 1+000) - บ้านคชส... ทางตรง+ไม่มีความลาดชัน/ที่ราบ          1.085   \n",
       "แยกเฉลิมบูรพาชลทิต (กม.ที่ 52+870) - หาดแหลมเสด็จ  ทางตรง+ไม่มีความลาดชัน/ที่ราบ          0.818   \n",
       "\n",
       "                                                                                              Province  \\\n",
       "Route                                              AcciLocation                                          \n",
       "ฉลองรัช                                            ทางตรง                                กรุงเทพมหานคร   \n",
       "                                                   ทางร่วม                               กรุงเทพมหานคร   \n",
       "                                                   ทางลาด                                กรุงเทพมหานคร   \n",
       "                                                   ทางเข้าด่านเก็บเงิน                   กรุงเทพมหานคร   \n",
       "                                                   ทางแยก                                กรุงเทพมหานคร   \n",
       "...                                                                                                ...   \n",
       "แยกทางหลวงหมายเลข 2051 (กม.ที่ 16+000) - แหล่งท... ทางโค้งหักศอก+ไม่มีความลาดชัน/ที่ราบ        ชัยภูมิ   \n",
       "แยกทางหลวงหมายเลข 207 (กม.ที่ 21+600) - บ้านหนอ... ทางโค้งกว้าง+ไม่มีความลาดชัน/ที่ราบ         ขอนแก่น   \n",
       "แยกทางหลวงหมายเลข 3238 (กม.ที่  3+300) - อำเภอบ... ทางตรง+ไม่มีความลาดชัน/ที่ราบ               ราชบุรี   \n",
       "แยกทางหลวงหมายเลข 3520 (กม.ที่ 1+000) - บ้านคชส... ทางตรง+ไม่มีความลาดชัน/ที่ราบ               สระบุรี   \n",
       "แยกเฉลิมบูรพาชลทิต (กม.ที่ 52+870) - หาดแหลมเสด็จ  ทางตรง+ไม่มีความลาดชัน/ที่ราบ              จันทบุรี   \n",
       "\n",
       "                                                                                                                          Car1  \\\n",
       "Route                                              AcciLocation                                                                  \n",
       "ฉลองรัช                                            ทางตรง                                                                รถตู้   \n",
       "                                                   ทางร่วม                               รถยนต์นั่งส่วนบุคคล/รถยนต์นั่งสาธารณะ   \n",
       "                                                   ทางลาด                                รถยนต์นั่งส่วนบุคคล/รถยนต์นั่งสาธารณะ   \n",
       "                                                   ทางเข้าด่านเก็บเงิน                                   รถโดยสารมากกว่า 4 ล้อ   \n",
       "                                                   ทางแยก                                รถยนต์นั่งส่วนบุคคล/รถยนต์นั่งสาธารณะ   \n",
       "...                                                                                                                        ...   \n",
       "แยกทางหลวงหมายเลข 2051 (กม.ที่ 16+000) - แหล่งท... ทางโค้งหักศอก+ไม่มีความลาดชัน/ที่ราบ                         รถบรรทุก 6 ล้อ   \n",
       "แยกทางหลวงหมายเลข 207 (กม.ที่ 21+600) - บ้านหนอ... ทางโค้งกว้าง+ไม่มีความลาดชัน/ที่ราบ                           รถจักรยานยนต์   \n",
       "แยกทางหลวงหมายเลข 3238 (กม.ที่  3+300) - อำเภอบ... ทางตรง+ไม่มีความลาดชัน/ที่ราบ                                รถปิคอัพโดยสาร   \n",
       "แยกทางหลวงหมายเลข 3520 (กม.ที่ 1+000) - บ้านคชส... ทางตรง+ไม่มีความลาดชัน/ที่ราบ         รถยนต์นั่งส่วนบุคคล/รถยนต์นั่งสาธารณะ   \n",
       "แยกเฉลิมบูรพาชลทิต (กม.ที่ 52+870) - หาดแหลมเสด็จ  ทางตรง+ไม่มีความลาดชัน/ที่ราบ                                 รถจักรยานยนต์   \n",
       "\n",
       "                                                                                                                  Assumed  \\\n",
       "Route                                              AcciLocation                                                             \n",
       "ฉลองรัช                                            ทางตรง                                 ไม่ให้สัญญาณจอด / ชะลอ / เลี้ยว   \n",
       "                                                   ทางร่วม                                ไม่ให้สัญญาณจอด / ชะลอ / เลี้ยว   \n",
       "                                                   ทางลาด                                                          อื่น ๆ   \n",
       "                                                   ทางเข้าด่านเก็บเงิน                                             อื่น ๆ   \n",
       "                                                   ทางแยก                                                          หลับใน   \n",
       "...                                                                                                                   ...   \n",
       "แยกทางหลวงหมายเลข 2051 (กม.ที่ 16+000) - แหล่งท... ทางโค้งหักศอก+ไม่มีความลาดชัน/ที่ราบ                ขับรถเร็วเกินกำหนด   \n",
       "แยกทางหลวงหมายเลข 207 (กม.ที่ 21+600) - บ้านหนอ... ทางโค้งกว้าง+ไม่มีความลาดชัน/ที่ราบ                 ขับรถเร็วเกินกำหนด   \n",
       "แยกทางหลวงหมายเลข 3238 (กม.ที่  3+300) - อำเภอบ... ทางตรง+ไม่มีความลาดชัน/ที่ราบ                       ขับรถเร็วเกินกำหนด   \n",
       "แยกทางหลวงหมายเลข 3520 (กม.ที่ 1+000) - บ้านคชส... ทางตรง+ไม่มีความลาดชัน/ที่ราบ         ขับล้ำเข้าไปในช่องจราจรฝั่งรถสวน   \n",
       "แยกเฉลิมบูรพาชลทิต (กม.ที่ 52+870) - หาดแหลมเสด็จ  ทางตรง+ไม่มีความลาดชัน/ที่ราบ                       ขับรถเร็วเกินกำหนด   \n",
       "\n",
       "                                                                                                                 CauseOfAcci  \\\n",
       "Route                                              AcciLocation                                                                \n",
       "ฉลองรัช                                            ทางตรง                                                             ชนท้าย   \n",
       "                                                   ทางร่วม                                                            อื่น ๆ   \n",
       "                                                   ทางลาด                                                             ชนท้าย   \n",
       "                                                   ทางเข้าด่านเก็บเงิน                                                อื่น ๆ   \n",
       "                                                   ทางแยก                                                           พลิกคว่ำ   \n",
       "...                                                                                                                      ...   \n",
       "แยกทางหลวงหมายเลข 2051 (กม.ที่ 16+000) - แหล่งท... ทางโค้งหักศอก+ไม่มีความลาดชัน/ที่ราบ                        พลิกคว่ำตกถนน   \n",
       "แยกทางหลวงหมายเลข 207 (กม.ที่ 21+600) - บ้านหนอ... ทางโค้งกว้าง+ไม่มีความลาดชัน/ที่ราบ                                อื่น ๆ   \n",
       "แยกทางหลวงหมายเลข 3238 (กม.ที่  3+300) - อำเภอบ... ทางตรง+ไม่มีความลาดชัน/ที่ราบ                                      อื่น ๆ   \n",
       "แยกทางหลวงหมายเลข 3520 (กม.ที่ 1+000) - บ้านคชส... ทางตรง+ไม่มีความลาดชัน/ที่ราบ         ชนในทิศทางตรงกันข้าม (ไม่ใช่การแซง)   \n",
       "แยกเฉลิมบูรพาชลทิต (กม.ที่ 52+870) - หาดแหลมเสด็จ  ทางตรง+ไม่มีความลาดชัน/ที่ราบ                                      อื่น ๆ   \n",
       "\n",
       "                                                                                         TotCar  \\\n",
       "Route                                              AcciLocation                                   \n",
       "ฉลองรัช                                            ทางตรง                                     3   \n",
       "                                                   ทางร่วม                                    1   \n",
       "                                                   ทางลาด                                     3   \n",
       "                                                   ทางเข้าด่านเก็บเงิน                        1   \n",
       "                                                   ทางแยก                                     1   \n",
       "...                                                                                         ...   \n",
       "แยกทางหลวงหมายเลข 2051 (กม.ที่ 16+000) - แหล่งท... ทางโค้งหักศอก+ไม่มีความลาดชัน/ที่ราบ       1   \n",
       "แยกทางหลวงหมายเลข 207 (กม.ที่ 21+600) - บ้านหนอ... ทางโค้งกว้าง+ไม่มีความลาดชัน/ที่ราบ        1   \n",
       "แยกทางหลวงหมายเลข 3238 (กม.ที่  3+300) - อำเภอบ... ทางตรง+ไม่มีความลาดชัน/ที่ราบ              1   \n",
       "แยกทางหลวงหมายเลข 3520 (กม.ที่ 1+000) - บ้านคชส... ทางตรง+ไม่มีความลาดชัน/ที่ราบ              2   \n",
       "แยกเฉลิมบูรพาชลทิต (กม.ที่ 52+870) - หาดแหลมเสด็จ  ทางตรง+ไม่มีความลาดชัน/ที่ราบ              1   \n",
       "\n",
       "                                                                                         TotDead  \\\n",
       "Route                                              AcciLocation                                    \n",
       "ฉลองรัช                                            ทางตรง                                      0   \n",
       "                                                   ทางร่วม                                     0   \n",
       "                                                   ทางลาด                                      0   \n",
       "                                                   ทางเข้าด่านเก็บเงิน                         0   \n",
       "                                                   ทางแยก                                      0   \n",
       "...                                                                                          ...   \n",
       "แยกทางหลวงหมายเลข 2051 (กม.ที่ 16+000) - แหล่งท... ทางโค้งหักศอก+ไม่มีความลาดชัน/ที่ราบ        0   \n",
       "แยกทางหลวงหมายเลข 207 (กม.ที่ 21+600) - บ้านหนอ... ทางโค้งกว้าง+ไม่มีความลาดชัน/ที่ราบ         1   \n",
       "แยกทางหลวงหมายเลข 3238 (กม.ที่  3+300) - อำเภอบ... ทางตรง+ไม่มีความลาดชัน/ที่ราบ               0   \n",
       "แยกทางหลวงหมายเลข 3520 (กม.ที่ 1+000) - บ้านคชส... ทางตรง+ไม่มีความลาดชัน/ที่ราบ               3   \n",
       "แยกเฉลิมบูรพาชลทิต (กม.ที่ 52+870) - หาดแหลมเสด็จ  ทางตรง+ไม่มีความลาดชัน/ที่ราบ               1   \n",
       "\n",
       "                                                                                         TotInjured  \\\n",
       "Route                                              AcciLocation                                       \n",
       "ฉลองรัช                                            ทางตรง                                         1   \n",
       "                                                   ทางร่วม                                        0   \n",
       "                                                   ทางลาด                                         0   \n",
       "                                                   ทางเข้าด่านเก็บเงิน                            0   \n",
       "                                                   ทางแยก                                         0   \n",
       "...                                                                                             ...   \n",
       "แยกทางหลวงหมายเลข 2051 (กม.ที่ 16+000) - แหล่งท... ทางโค้งหักศอก+ไม่มีความลาดชัน/ที่ราบ           1   \n",
       "แยกทางหลวงหมายเลข 207 (กม.ที่ 21+600) - บ้านหนอ... ทางโค้งกว้าง+ไม่มีความลาดชัน/ที่ราบ            0   \n",
       "แยกทางหลวงหมายเลข 3238 (กม.ที่  3+300) - อำเภอบ... ทางตรง+ไม่มีความลาดชัน/ที่ราบ                  4   \n",
       "แยกทางหลวงหมายเลข 3520 (กม.ที่ 1+000) - บ้านคชส... ทางตรง+ไม่มีความลาดชัน/ที่ราบ                  0   \n",
       "แยกเฉลิมบูรพาชลทิต (กม.ที่ 52+870) - หาดแหลมเสด็จ  ทางตรง+ไม่มีความลาดชัน/ที่ราบ                  0   \n",
       "\n",
       "                                                                                        Weather  \\\n",
       "Route                                              AcciLocation                                   \n",
       "ฉลองรัช                                            ทางตรง                                แจ่มใส   \n",
       "                                                   ทางร่วม                               แจ่มใส   \n",
       "                                                   ทางลาด                                แจ่มใส   \n",
       "                                                   ทางเข้าด่านเก็บเงิน                   แจ่มใส   \n",
       "                                                   ทางแยก                                แจ่มใส   \n",
       "...                                                                                         ...   \n",
       "แยกทางหลวงหมายเลข 2051 (กม.ที่ 16+000) - แหล่งท... ทางโค้งหักศอก+ไม่มีความลาดชัน/ที่ราบ  อื่น ๆ   \n",
       "แยกทางหลวงหมายเลข 207 (กม.ที่ 21+600) - บ้านหนอ... ทางโค้งกว้าง+ไม่มีความลาดชัน/ที่ราบ   แจ่มใส   \n",
       "แยกทางหลวงหมายเลข 3238 (กม.ที่  3+300) - อำเภอบ... ทางตรง+ไม่มีความลาดชัน/ที่ราบ         แจ่มใส   \n",
       "แยกทางหลวงหมายเลข 3520 (กม.ที่ 1+000) - บ้านคชส... ทางตรง+ไม่มีความลาดชัน/ที่ราบ         แจ่มใส   \n",
       "แยกเฉลิมบูรพาชลทิต (กม.ที่ 52+870) - หาดแหลมเสด็จ  ทางตรง+ไม่มีความลาดชัน/ที่ราบ         แจ่มใส   \n",
       "\n",
       "                                                                                          LATITUDE  \\\n",
       "Route                                              AcciLocation                                      \n",
       "ฉลองรัช                                            ทางตรง                                 0.000000   \n",
       "                                                   ทางร่วม                                0.000000   \n",
       "                                                   ทางลาด                                 0.000000   \n",
       "                                                   ทางเข้าด่านเก็บเงิน                    0.000000   \n",
       "                                                   ทางแยก                                 0.000000   \n",
       "...                                                                                            ...   \n",
       "แยกทางหลวงหมายเลข 2051 (กม.ที่ 16+000) - แหล่งท... ทางโค้งหักศอก+ไม่มีความลาดชัน/ที่ราบ  15.971774   \n",
       "แยกทางหลวงหมายเลข 207 (กม.ที่ 21+600) - บ้านหนอ... ทางโค้งกว้าง+ไม่มีความลาดชัน/ที่ราบ   15.740198   \n",
       "แยกทางหลวงหมายเลข 3238 (กม.ที่  3+300) - อำเภอบ... ทางตรง+ไม่มีความลาดชัน/ที่ราบ         13.651960   \n",
       "แยกทางหลวงหมายเลข 3520 (กม.ที่ 1+000) - บ้านคชส... ทางตรง+ไม่มีความลาดชัน/ที่ราบ         14.346873   \n",
       "แยกเฉลิมบูรพาชลทิต (กม.ที่ 52+870) - หาดแหลมเสด็จ  ทางตรง+ไม่มีความลาดชัน/ที่ราบ         12.567325   \n",
       "\n",
       "                                                                                          LONGITUDE  \\\n",
       "Route                                              AcciLocation                                       \n",
       "ฉลองรัช                                            ทางตรง                                  0.000000   \n",
       "                                                   ทางร่วม                                 0.000000   \n",
       "                                                   ทางลาด                                  0.000000   \n",
       "                                                   ทางเข้าด่านเก็บเงิน                     0.000000   \n",
       "                                                   ทางแยก                                  0.000000   \n",
       "...                                                                                             ...   \n",
       "แยกทางหลวงหมายเลข 2051 (กม.ที่ 16+000) - แหล่งท... ทางโค้งหักศอก+ไม่มีความลาดชัน/ที่ราบ  102.025782   \n",
       "แยกทางหลวงหมายเลข 207 (กม.ที่ 21+600) - บ้านหนอ... ทางโค้งกว้าง+ไม่มีความลาดชัน/ที่ราบ   102.807429   \n",
       "แยกทางหลวงหมายเลข 3238 (กม.ที่  3+300) - อำเภอบ... ทางตรง+ไม่มีความลาดชัน/ที่ราบ          99.831165   \n",
       "แยกทางหลวงหมายเลข 3520 (กม.ที่ 1+000) - บ้านคชส... ทางตรง+ไม่มีความลาดชัน/ที่ราบ         100.846412   \n",
       "แยกเฉลิมบูรพาชลทิต (กม.ที่ 52+870) - หาดแหลมเสด็จ  ทางตรง+ไม่มีความลาดชัน/ที่ราบ         101.904949   \n",
       "\n",
       "                                                                                        AcciMonth  \n",
       "Route                                              AcciLocation                                    \n",
       "ฉลองรัช                                            ทางตรง                                       8  \n",
       "                                                   ทางร่วม                                      7  \n",
       "                                                   ทางลาด                                       4  \n",
       "                                                   ทางเข้าด่านเก็บเงิน                          3  \n",
       "                                                   ทางแยก                                      10  \n",
       "...                                                                                           ...  \n",
       "แยกทางหลวงหมายเลข 2051 (กม.ที่ 16+000) - แหล่งท... ทางโค้งหักศอก+ไม่มีความลาดชัน/ที่ราบ         5  \n",
       "แยกทางหลวงหมายเลข 207 (กม.ที่ 21+600) - บ้านหนอ... ทางโค้งกว้าง+ไม่มีความลาดชัน/ที่ราบ         10  \n",
       "แยกทางหลวงหมายเลข 3238 (กม.ที่  3+300) - อำเภอบ... ทางตรง+ไม่มีความลาดชัน/ที่ราบ                4  \n",
       "แยกทางหลวงหมายเลข 3520 (กม.ที่ 1+000) - บ้านคชส... ทางตรง+ไม่มีความลาดชัน/ที่ราบ               10  \n",
       "แยกเฉลิมบูรพาชลทิต (กม.ที่ 52+870) - หาดแหลมเสด็จ  ทางตรง+ไม่มีความลาดชัน/ที่ราบ                8  \n",
       "\n",
       "[4775 rows x 19 columns]"
      ]
     },
     "execution_count": 93,
     "metadata": {},
     "output_type": "execute_result"
    }
   ],
   "source": [
    "groupLoc = dfacci.groupby(['Route','AcciLocation'])\n",
    "groupLoc.first()"
   ]
  },
  {
   "cell_type": "code",
   "execution_count": 94,
   "metadata": {
    "colab": {
     "base_uri": "https://localhost:8080/",
     "height": 408
    },
    "executionInfo": {
     "elapsed": 1331,
     "status": "ok",
     "timestamp": 1604404072208,
     "user": {
      "displayName": "Thanus Benjaanuarcha",
      "photoUrl": "",
      "userId": "12182773663628112192"
     },
     "user_tz": -420
    },
    "id": "-Sp7Mqzh06Yj",
    "outputId": "812ca0c0-fdbd-4eed-d853-af221ab5aaa2",
    "scrolled": true
   },
   "outputs": [
    {
     "data": {
      "text/html": [
       "<div>\n",
       "<style scoped>\n",
       "    .dataframe tbody tr th:only-of-type {\n",
       "        vertical-align: middle;\n",
       "    }\n",
       "\n",
       "    .dataframe tbody tr th {\n",
       "        vertical-align: top;\n",
       "    }\n",
       "\n",
       "    .dataframe thead th {\n",
       "        text-align: right;\n",
       "    }\n",
       "</style>\n",
       "<table border=\"1\" class=\"dataframe\">\n",
       "  <thead>\n",
       "    <tr style=\"text-align: right;\">\n",
       "      <th></th>\n",
       "      <th>AcciYear</th>\n",
       "      <th>AcciDate</th>\n",
       "      <th>AcciTime</th>\n",
       "      <th>ReportDate</th>\n",
       "      <th>ReportTime</th>\n",
       "      <th>Acc_Code</th>\n",
       "      <th>Agencies</th>\n",
       "      <th>Route</th>\n",
       "      <th>Km</th>\n",
       "      <th>Province</th>\n",
       "      <th>Car1</th>\n",
       "      <th>AcciLocation</th>\n",
       "      <th>CauseOfAcci</th>\n",
       "      <th>TotCar</th>\n",
       "      <th>TotDead</th>\n",
       "      <th>TotInjured</th>\n",
       "      <th>Weather</th>\n",
       "      <th>LATITUDE</th>\n",
       "      <th>LONGITUDE</th>\n",
       "      <th>AcciMonth</th>\n",
       "    </tr>\n",
       "    <tr>\n",
       "      <th>Assumed</th>\n",
       "      <th></th>\n",
       "      <th></th>\n",
       "      <th></th>\n",
       "      <th></th>\n",
       "      <th></th>\n",
       "      <th></th>\n",
       "      <th></th>\n",
       "      <th></th>\n",
       "      <th></th>\n",
       "      <th></th>\n",
       "      <th></th>\n",
       "      <th></th>\n",
       "      <th></th>\n",
       "      <th></th>\n",
       "      <th></th>\n",
       "      <th></th>\n",
       "      <th></th>\n",
       "      <th></th>\n",
       "      <th></th>\n",
       "      <th></th>\n",
       "    </tr>\n",
       "  </thead>\n",
       "  <tbody>\n",
       "    <tr>\n",
       "      <th>ขับตามหลังรถอื่นในระยะกระชั้นชิด</th>\n",
       "      <td>30</td>\n",
       "      <td>30</td>\n",
       "      <td>30</td>\n",
       "      <td>30</td>\n",
       "      <td>30</td>\n",
       "      <td>30</td>\n",
       "      <td>30</td>\n",
       "      <td>30</td>\n",
       "      <td>30</td>\n",
       "      <td>30</td>\n",
       "      <td>30</td>\n",
       "      <td>30</td>\n",
       "      <td>30</td>\n",
       "      <td>30</td>\n",
       "      <td>30</td>\n",
       "      <td>30</td>\n",
       "      <td>30</td>\n",
       "      <td>30</td>\n",
       "      <td>30</td>\n",
       "      <td>30</td>\n",
       "    </tr>\n",
       "    <tr>\n",
       "      <th>ขับรถผิดช่องทาง</th>\n",
       "      <td>6</td>\n",
       "      <td>6</td>\n",
       "      <td>6</td>\n",
       "      <td>6</td>\n",
       "      <td>6</td>\n",
       "      <td>6</td>\n",
       "      <td>6</td>\n",
       "      <td>6</td>\n",
       "      <td>6</td>\n",
       "      <td>6</td>\n",
       "      <td>6</td>\n",
       "      <td>6</td>\n",
       "      <td>6</td>\n",
       "      <td>6</td>\n",
       "      <td>6</td>\n",
       "      <td>6</td>\n",
       "      <td>6</td>\n",
       "      <td>6</td>\n",
       "      <td>6</td>\n",
       "      <td>6</td>\n",
       "    </tr>\n",
       "    <tr>\n",
       "      <th>ขับรถย้อนศร</th>\n",
       "      <td>5</td>\n",
       "      <td>5</td>\n",
       "      <td>5</td>\n",
       "      <td>5</td>\n",
       "      <td>5</td>\n",
       "      <td>5</td>\n",
       "      <td>5</td>\n",
       "      <td>5</td>\n",
       "      <td>5</td>\n",
       "      <td>5</td>\n",
       "      <td>5</td>\n",
       "      <td>5</td>\n",
       "      <td>5</td>\n",
       "      <td>5</td>\n",
       "      <td>5</td>\n",
       "      <td>5</td>\n",
       "      <td>5</td>\n",
       "      <td>5</td>\n",
       "      <td>5</td>\n",
       "      <td>5</td>\n",
       "    </tr>\n",
       "    <tr>\n",
       "      <th>ขับรถเร็วเกินกำหนด</th>\n",
       "      <td>14158</td>\n",
       "      <td>14158</td>\n",
       "      <td>14158</td>\n",
       "      <td>14158</td>\n",
       "      <td>14158</td>\n",
       "      <td>14158</td>\n",
       "      <td>14158</td>\n",
       "      <td>14158</td>\n",
       "      <td>14158</td>\n",
       "      <td>14158</td>\n",
       "      <td>14158</td>\n",
       "      <td>14158</td>\n",
       "      <td>14158</td>\n",
       "      <td>14158</td>\n",
       "      <td>14158</td>\n",
       "      <td>14158</td>\n",
       "      <td>14158</td>\n",
       "      <td>14158</td>\n",
       "      <td>14158</td>\n",
       "      <td>14158</td>\n",
       "    </tr>\n",
       "    <tr>\n",
       "      <th>ขับรถไม่ชำนาญ / ไม่เป็น</th>\n",
       "      <td>201</td>\n",
       "      <td>201</td>\n",
       "      <td>201</td>\n",
       "      <td>201</td>\n",
       "      <td>201</td>\n",
       "      <td>201</td>\n",
       "      <td>201</td>\n",
       "      <td>201</td>\n",
       "      <td>201</td>\n",
       "      <td>201</td>\n",
       "      <td>201</td>\n",
       "      <td>201</td>\n",
       "      <td>201</td>\n",
       "      <td>201</td>\n",
       "      <td>201</td>\n",
       "      <td>201</td>\n",
       "      <td>201</td>\n",
       "      <td>201</td>\n",
       "      <td>201</td>\n",
       "      <td>201</td>\n",
       "    </tr>\n",
       "  </tbody>\n",
       "</table>\n",
       "</div>"
      ],
      "text/plain": [
       "                                  AcciYear  AcciDate  AcciTime  ReportDate  \\\n",
       "Assumed                                                                      \n",
       "ขับตามหลังรถอื่นในระยะกระชั้นชิด        30        30        30          30   \n",
       "ขับรถผิดช่องทาง                          6         6         6           6   \n",
       "ขับรถย้อนศร                              5         5         5           5   \n",
       "ขับรถเร็วเกินกำหนด                   14158     14158     14158       14158   \n",
       "ขับรถไม่ชำนาญ / ไม่เป็น                201       201       201         201   \n",
       "\n",
       "                                  ReportTime  Acc_Code  Agencies  Route  \\\n",
       "Assumed                                                                   \n",
       "ขับตามหลังรถอื่นในระยะกระชั้นชิด          30        30        30     30   \n",
       "ขับรถผิดช่องทาง                            6         6         6      6   \n",
       "ขับรถย้อนศร                                5         5         5      5   \n",
       "ขับรถเร็วเกินกำหนด                     14158     14158     14158  14158   \n",
       "ขับรถไม่ชำนาญ / ไม่เป็น                  201       201       201    201   \n",
       "\n",
       "                                     Km  Province   Car1  AcciLocation  \\\n",
       "Assumed                                                                  \n",
       "ขับตามหลังรถอื่นในระยะกระชั้นชิด     30        30     30            30   \n",
       "ขับรถผิดช่องทาง                       6         6      6             6   \n",
       "ขับรถย้อนศร                           5         5      5             5   \n",
       "ขับรถเร็วเกินกำหนด                14158     14158  14158         14158   \n",
       "ขับรถไม่ชำนาญ / ไม่เป็น             201       201    201           201   \n",
       "\n",
       "                                  CauseOfAcci  TotCar  TotDead  TotInjured  \\\n",
       "Assumed                                                                      \n",
       "ขับตามหลังรถอื่นในระยะกระชั้นชิด           30      30       30          30   \n",
       "ขับรถผิดช่องทาง                             6       6        6           6   \n",
       "ขับรถย้อนศร                                 5       5        5           5   \n",
       "ขับรถเร็วเกินกำหนด                      14158   14158    14158       14158   \n",
       "ขับรถไม่ชำนาญ / ไม่เป็น                   201     201      201         201   \n",
       "\n",
       "                                  Weather  LATITUDE  LONGITUDE  AcciMonth  \n",
       "Assumed                                                                    \n",
       "ขับตามหลังรถอื่นในระยะกระชั้นชิด       30        30         30         30  \n",
       "ขับรถผิดช่องทาง                         6         6          6          6  \n",
       "ขับรถย้อนศร                             5         5          5          5  \n",
       "ขับรถเร็วเกินกำหนด                  14158     14158      14158      14158  \n",
       "ขับรถไม่ชำนาญ / ไม่เป็น               201       201        201        201  "
      ]
     },
     "execution_count": 94,
     "metadata": {},
     "output_type": "execute_result"
    }
   ],
   "source": [
    "mprimary = dfacci.groupby(['Assumed']).count()\n",
    "mprimary.head()"
   ]
  },
  {
   "cell_type": "markdown",
   "metadata": {
    "id": "hAz3i9jDUcJA"
   },
   "source": [
    "### จำนวนผู้บาดเจ็บ / ตาย ในแต่ละเหตุการณ์"
   ]
  },
  {
   "cell_type": "code",
   "execution_count": 95,
   "metadata": {},
   "outputs": [
    {
     "data": {
      "text/html": [
       "<div>\n",
       "<style scoped>\n",
       "    .dataframe tbody tr th:only-of-type {\n",
       "        vertical-align: middle;\n",
       "    }\n",
       "\n",
       "    .dataframe tbody tr th {\n",
       "        vertical-align: top;\n",
       "    }\n",
       "\n",
       "    .dataframe thead th {\n",
       "        text-align: right;\n",
       "    }\n",
       "</style>\n",
       "<table border=\"1\" class=\"dataframe\">\n",
       "  <thead>\n",
       "    <tr style=\"text-align: right;\">\n",
       "      <th></th>\n",
       "      <th>TotInjured</th>\n",
       "      <th>TotDead</th>\n",
       "    </tr>\n",
       "    <tr>\n",
       "      <th>Assumed</th>\n",
       "      <th></th>\n",
       "      <th></th>\n",
       "    </tr>\n",
       "  </thead>\n",
       "  <tbody>\n",
       "    <tr>\n",
       "      <th>ขับตามหลังรถอื่นในระยะกระชั้นชิด</th>\n",
       "      <td>30</td>\n",
       "      <td>30</td>\n",
       "    </tr>\n",
       "    <tr>\n",
       "      <th>ขับรถผิดช่องทาง</th>\n",
       "      <td>6</td>\n",
       "      <td>6</td>\n",
       "    </tr>\n",
       "    <tr>\n",
       "      <th>ขับรถย้อนศร</th>\n",
       "      <td>5</td>\n",
       "      <td>5</td>\n",
       "    </tr>\n",
       "    <tr>\n",
       "      <th>ขับรถเร็วเกินกำหนด</th>\n",
       "      <td>14158</td>\n",
       "      <td>14158</td>\n",
       "    </tr>\n",
       "    <tr>\n",
       "      <th>ขับรถไม่ชำนาญ / ไม่เป็น</th>\n",
       "      <td>201</td>\n",
       "      <td>201</td>\n",
       "    </tr>\n",
       "    <tr>\n",
       "      <th>ขับรถไม่เปิดไฟ / ไม่ใช้แสงสว่างตามกำหนด</th>\n",
       "      <td>8</td>\n",
       "      <td>8</td>\n",
       "    </tr>\n",
       "    <tr>\n",
       "      <th>ขับล้ำเข้าไปในช่องจราจรฝั่งรถสวน</th>\n",
       "      <td>12</td>\n",
       "      <td>12</td>\n",
       "    </tr>\n",
       "    <tr>\n",
       "      <th>คนหรือรถตัดหน้ากระชั้นชิด</th>\n",
       "      <td>1647</td>\n",
       "      <td>1647</td>\n",
       "    </tr>\n",
       "    <tr>\n",
       "      <th>ชนสิ่งกีดขวาง</th>\n",
       "      <td>55</td>\n",
       "      <td>55</td>\n",
       "    </tr>\n",
       "    <tr>\n",
       "      <th>บรรทุกเกินอัตรา</th>\n",
       "      <td>47</td>\n",
       "      <td>47</td>\n",
       "    </tr>\n",
       "    <tr>\n",
       "      <th>ฝ่าฝืนป้ายหยุดรถขณะออกจากทางร่วมแยก</th>\n",
       "      <td>16</td>\n",
       "      <td>16</td>\n",
       "    </tr>\n",
       "    <tr>\n",
       "      <th>ฝ่าฝืนสัญญาณไฟ/เครื่องหมายจราจร</th>\n",
       "      <td>229</td>\n",
       "      <td>229</td>\n",
       "    </tr>\n",
       "    <tr>\n",
       "      <th>มีรถอื่นเข้าจอด หรือออกจากที่จอด</th>\n",
       "      <td>11</td>\n",
       "      <td>11</td>\n",
       "    </tr>\n",
       "    <tr>\n",
       "      <th>รถเสียไม่แสดงเครื่องหมายหรือสัญญาณตามที่กำหนด</th>\n",
       "      <td>11</td>\n",
       "      <td>11</td>\n",
       "    </tr>\n",
       "    <tr>\n",
       "      <th>หยุดรถกะทันหัน</th>\n",
       "      <td>15</td>\n",
       "      <td>15</td>\n",
       "    </tr>\n",
       "    <tr>\n",
       "      <th>หลับใน</th>\n",
       "      <td>1399</td>\n",
       "      <td>1399</td>\n",
       "    </tr>\n",
       "    <tr>\n",
       "      <th>อื่น ๆ</th>\n",
       "      <td>320</td>\n",
       "      <td>320</td>\n",
       "    </tr>\n",
       "    <tr>\n",
       "      <th>อุปกรณ์ชำรุด</th>\n",
       "      <td>3</td>\n",
       "      <td>3</td>\n",
       "    </tr>\n",
       "    <tr>\n",
       "      <th>อุปกรณ์รถบกพร่อง</th>\n",
       "      <td>663</td>\n",
       "      <td>663</td>\n",
       "    </tr>\n",
       "    <tr>\n",
       "      <th>เปลี่ยนช่องทางกะทันหัน</th>\n",
       "      <td>26</td>\n",
       "      <td>26</td>\n",
       "    </tr>\n",
       "    <tr>\n",
       "      <th>เมาสุรา</th>\n",
       "      <td>558</td>\n",
       "      <td>558</td>\n",
       "    </tr>\n",
       "    <tr>\n",
       "      <th>แซงรถอย่างผิดกฎหมาย</th>\n",
       "      <td>125</td>\n",
       "      <td>125</td>\n",
       "    </tr>\n",
       "    <tr>\n",
       "      <th>โรคประจำตัว</th>\n",
       "      <td>10</td>\n",
       "      <td>10</td>\n",
       "    </tr>\n",
       "    <tr>\n",
       "      <th>ใช้โทรศัพท์เคลื่อนที่ขณะขับรถ</th>\n",
       "      <td>8</td>\n",
       "      <td>8</td>\n",
       "    </tr>\n",
       "    <tr>\n",
       "      <th>ไม่ขับรถในช่องทางเดินรถซ้ายสุดในถนนที่มี 4 ช่องจราจร</th>\n",
       "      <td>8</td>\n",
       "      <td>8</td>\n",
       "    </tr>\n",
       "    <tr>\n",
       "      <th>ไม่ยอมให้รถที่มีสิทธิ์ไปก่อน</th>\n",
       "      <td>9</td>\n",
       "      <td>9</td>\n",
       "    </tr>\n",
       "    <tr>\n",
       "      <th>ไม่ให้สัญญาณจอด / ชะลอ / เลี้ยว</th>\n",
       "      <td>253</td>\n",
       "      <td>253</td>\n",
       "    </tr>\n",
       "    <tr>\n",
       "      <th>ไม่ให้สิทธิรถที่มาก่อนผ่านทาง เช่น ทางแยก</th>\n",
       "      <td>25</td>\n",
       "      <td>25</td>\n",
       "    </tr>\n",
       "  </tbody>\n",
       "</table>\n",
       "</div>"
      ],
      "text/plain": [
       "                                                    TotInjured  TotDead\n",
       "Assumed                                                                \n",
       "ขับตามหลังรถอื่นในระยะกระชั้นชิด                            30       30\n",
       "ขับรถผิดช่องทาง                                              6        6\n",
       "ขับรถย้อนศร                                                  5        5\n",
       "ขับรถเร็วเกินกำหนด                                       14158    14158\n",
       "ขับรถไม่ชำนาญ / ไม่เป็น                                    201      201\n",
       "ขับรถไม่เปิดไฟ / ไม่ใช้แสงสว่างตามกำหนด                      8        8\n",
       "ขับล้ำเข้าไปในช่องจราจรฝั่งรถสวน                            12       12\n",
       "คนหรือรถตัดหน้ากระชั้นชิด                                 1647     1647\n",
       "ชนสิ่งกีดขวาง                                               55       55\n",
       "บรรทุกเกินอัตรา                                             47       47\n",
       "ฝ่าฝืนป้ายหยุดรถขณะออกจากทางร่วมแยก                         16       16\n",
       "ฝ่าฝืนสัญญาณไฟ/เครื่องหมายจราจร                            229      229\n",
       "มีรถอื่นเข้าจอด หรือออกจากที่จอด                            11       11\n",
       "รถเสียไม่แสดงเครื่องหมายหรือสัญญาณตามที่กำหนด               11       11\n",
       "หยุดรถกะทันหัน                                              15       15\n",
       "หลับใน                                                    1399     1399\n",
       "อื่น ๆ                                                     320      320\n",
       "อุปกรณ์ชำรุด                                                 3        3\n",
       "อุปกรณ์รถบกพร่อง                                           663      663\n",
       "เปลี่ยนช่องทางกะทันหัน                                      26       26\n",
       "เมาสุรา                                                    558      558\n",
       "แซงรถอย่างผิดกฎหมาย                                        125      125\n",
       "โรคประจำตัว                                                 10       10\n",
       "ใช้โทรศัพท์เคลื่อนที่ขณะขับรถ                                8        8\n",
       "ไม่ขับรถในช่องทางเดินรถซ้ายสุดในถนนที่มี 4 ช่อง...           8        8\n",
       "ไม่ยอมให้รถที่มีสิทธิ์ไปก่อน                                 9        9\n",
       "ไม่ให้สัญญาณจอด / ชะลอ / เลี้ยว                            253      253\n",
       "ไม่ให้สิทธิรถที่มาก่อนผ่านทาง เช่น ทางแยก                   25       25"
      ]
     },
     "execution_count": 95,
     "metadata": {},
     "output_type": "execute_result"
    }
   ],
   "source": [
    "dead_injured"
   ]
  },
  {
   "cell_type": "code",
   "execution_count": 96,
   "metadata": {
    "colab": {
     "base_uri": "https://localhost:8080/",
     "height": 1000
    },
    "executionInfo": {
     "elapsed": 2225,
     "status": "ok",
     "timestamp": 1604404073107,
     "user": {
      "displayName": "Thanus Benjaanuarcha",
      "photoUrl": "",
      "userId": "12182773663628112192"
     },
     "user_tz": -420
    },
    "id": "7hJikWjj06Yl",
    "outputId": "d659b2e0-834c-4244-e2a3-2a12f2b3fa97",
    "scrolled": false
   },
   "outputs": [
    {
     "data": {
      "text/plain": [
       "<matplotlib.axes._subplots.AxesSubplot at 0x1aacb79ae48>"
      ]
     },
     "execution_count": 96,
     "metadata": {},
     "output_type": "execute_result"
    },
    {
     "data": {
      "image/png": "[encoded data removed]",
      "text/plain": [
       "<Figure size 432x288 with 1 Axes>"
      ]
     },
     "metadata": {
      "needs_background": "light"
     },
     "output_type": "display_data"
    }
   ],
   "source": [
    "# mprimary['TotDead'].plot.pie(figsize=(10,10), autopct='%.2f')\n",
    "dead_injured = mprimary[['TotInjured','TotDead']]\n",
    "dead_injured.plot(kind='barh', stacked=True)"
   ]
  },
  {
   "cell_type": "markdown",
   "metadata": {
    "id": "RHhrKC4UUcJC"
   },
   "source": [
    "### จำนวนผู้เสียชีวิต ในแต่ละเดือน"
   ]
  },
  {
   "cell_type": "code",
   "execution_count": null,
   "metadata": {},
   "outputs": [],
   "source": []
  },
  {
   "cell_type": "code",
   "execution_count": 97,
   "metadata": {
    "id": "C4M8uUIHUcJD",
    "outputId": "632b0533-d078-4a21-ff15-838a873618f6"
   },
   "outputs": [
    {
     "data": {
      "text/plain": [
       "<matplotlib.axes._subplots.AxesSubplot at 0x1aad1c2b948>"
      ]
     },
     "execution_count": 97,
     "metadata": {},
     "output_type": "execute_result"
    },
    {
     "data": {
      "image/png": "[encoded data removed]",
      "text/plain": [
       "<Figure size 432x288 with 1 Axes>"
      ]
     },
     "metadata": {
      "needs_background": "light"
     },
     "output_type": "display_data"
    }
   ],
   "source": [
    "sns.regplot(y=dfacci['AcciMonth'], x=dfacci['TotDead'])"
   ]
  },
  {
   "cell_type": "markdown",
   "metadata": {
    "id": "hQsZCmto06Yn"
   },
   "source": [
    "### Group by Month และแสดงข้อมูลจำนวนปริมาณการเกิดเหตุแต่ละเดือน"
   ]
  },
  {
   "cell_type": "code",
   "execution_count": 98,
   "metadata": {
    "colab": {
     "base_uri": "https://localhost:8080/",
     "height": 472
    },
    "executionInfo": {
     "elapsed": 5189,
     "status": "ok",
     "timestamp": 1604403949749,
     "user": {
      "displayName": "Thanus Benjaanuarcha",
      "photoUrl": "",
      "userId": "12182773663628112192"
     },
     "user_tz": -420
    },
    "id": "7pVxfbIu06Yn",
    "outputId": "4d03130c-876e-43f4-8f7c-f94189b0f0a6",
    "scrolled": false
   },
   "outputs": [
    {
     "data": {
      "text/html": [
       "<div>\n",
       "<style scoped>\n",
       "    .dataframe tbody tr th:only-of-type {\n",
       "        vertical-align: middle;\n",
       "    }\n",
       "\n",
       "    .dataframe tbody tr th {\n",
       "        vertical-align: top;\n",
       "    }\n",
       "\n",
       "    .dataframe thead th {\n",
       "        text-align: right;\n",
       "    }\n",
       "</style>\n",
       "<table border=\"1\" class=\"dataframe\">\n",
       "  <thead>\n",
       "    <tr style=\"text-align: right;\">\n",
       "      <th></th>\n",
       "      <th>AcciYear</th>\n",
       "      <th>AcciDate</th>\n",
       "      <th>AcciTime</th>\n",
       "      <th>ReportDate</th>\n",
       "      <th>ReportTime</th>\n",
       "      <th>Acc_Code</th>\n",
       "      <th>Agencies</th>\n",
       "      <th>Route</th>\n",
       "      <th>Km</th>\n",
       "      <th>Province</th>\n",
       "      <th>Car1</th>\n",
       "      <th>AcciLocation</th>\n",
       "      <th>Assumed</th>\n",
       "      <th>CauseOfAcci</th>\n",
       "      <th>TotCar</th>\n",
       "      <th>TotDead</th>\n",
       "      <th>TotInjured</th>\n",
       "      <th>Weather</th>\n",
       "      <th>LATITUDE</th>\n",
       "      <th>LONGITUDE</th>\n",
       "    </tr>\n",
       "    <tr>\n",
       "      <th>AcciMonth</th>\n",
       "      <th></th>\n",
       "      <th></th>\n",
       "      <th></th>\n",
       "      <th></th>\n",
       "      <th></th>\n",
       "      <th></th>\n",
       "      <th></th>\n",
       "      <th></th>\n",
       "      <th></th>\n",
       "      <th></th>\n",
       "      <th></th>\n",
       "      <th></th>\n",
       "      <th></th>\n",
       "      <th></th>\n",
       "      <th></th>\n",
       "      <th></th>\n",
       "      <th></th>\n",
       "      <th></th>\n",
       "      <th></th>\n",
       "      <th></th>\n",
       "    </tr>\n",
       "  </thead>\n",
       "  <tbody>\n",
       "    <tr>\n",
       "      <th>1</th>\n",
       "      <td>1717</td>\n",
       "      <td>1717</td>\n",
       "      <td>1717</td>\n",
       "      <td>1717</td>\n",
       "      <td>1717</td>\n",
       "      <td>1717</td>\n",
       "      <td>1717</td>\n",
       "      <td>1717</td>\n",
       "      <td>1717</td>\n",
       "      <td>1717</td>\n",
       "      <td>1717</td>\n",
       "      <td>1717</td>\n",
       "      <td>1717</td>\n",
       "      <td>1717</td>\n",
       "      <td>1717</td>\n",
       "      <td>1717</td>\n",
       "      <td>1717</td>\n",
       "      <td>1717</td>\n",
       "      <td>1717</td>\n",
       "      <td>1717</td>\n",
       "    </tr>\n",
       "    <tr>\n",
       "      <th>2</th>\n",
       "      <td>1500</td>\n",
       "      <td>1500</td>\n",
       "      <td>1500</td>\n",
       "      <td>1500</td>\n",
       "      <td>1500</td>\n",
       "      <td>1500</td>\n",
       "      <td>1500</td>\n",
       "      <td>1500</td>\n",
       "      <td>1500</td>\n",
       "      <td>1500</td>\n",
       "      <td>1500</td>\n",
       "      <td>1500</td>\n",
       "      <td>1500</td>\n",
       "      <td>1500</td>\n",
       "      <td>1500</td>\n",
       "      <td>1500</td>\n",
       "      <td>1500</td>\n",
       "      <td>1500</td>\n",
       "      <td>1500</td>\n",
       "      <td>1500</td>\n",
       "    </tr>\n",
       "    <tr>\n",
       "      <th>3</th>\n",
       "      <td>1567</td>\n",
       "      <td>1567</td>\n",
       "      <td>1567</td>\n",
       "      <td>1567</td>\n",
       "      <td>1567</td>\n",
       "      <td>1567</td>\n",
       "      <td>1567</td>\n",
       "      <td>1567</td>\n",
       "      <td>1567</td>\n",
       "      <td>1567</td>\n",
       "      <td>1567</td>\n",
       "      <td>1567</td>\n",
       "      <td>1567</td>\n",
       "      <td>1567</td>\n",
       "      <td>1567</td>\n",
       "      <td>1567</td>\n",
       "      <td>1567</td>\n",
       "      <td>1567</td>\n",
       "      <td>1567</td>\n",
       "      <td>1567</td>\n",
       "    </tr>\n",
       "    <tr>\n",
       "      <th>4</th>\n",
       "      <td>2275</td>\n",
       "      <td>2275</td>\n",
       "      <td>2275</td>\n",
       "      <td>2275</td>\n",
       "      <td>2275</td>\n",
       "      <td>2275</td>\n",
       "      <td>2275</td>\n",
       "      <td>2275</td>\n",
       "      <td>2275</td>\n",
       "      <td>2275</td>\n",
       "      <td>2275</td>\n",
       "      <td>2275</td>\n",
       "      <td>2275</td>\n",
       "      <td>2275</td>\n",
       "      <td>2275</td>\n",
       "      <td>2275</td>\n",
       "      <td>2275</td>\n",
       "      <td>2275</td>\n",
       "      <td>2275</td>\n",
       "      <td>2275</td>\n",
       "    </tr>\n",
       "    <tr>\n",
       "      <th>5</th>\n",
       "      <td>1362</td>\n",
       "      <td>1362</td>\n",
       "      <td>1362</td>\n",
       "      <td>1362</td>\n",
       "      <td>1362</td>\n",
       "      <td>1362</td>\n",
       "      <td>1362</td>\n",
       "      <td>1362</td>\n",
       "      <td>1362</td>\n",
       "      <td>1362</td>\n",
       "      <td>1362</td>\n",
       "      <td>1362</td>\n",
       "      <td>1362</td>\n",
       "      <td>1362</td>\n",
       "      <td>1362</td>\n",
       "      <td>1362</td>\n",
       "      <td>1362</td>\n",
       "      <td>1362</td>\n",
       "      <td>1362</td>\n",
       "      <td>1362</td>\n",
       "    </tr>\n",
       "    <tr>\n",
       "      <th>6</th>\n",
       "      <td>1293</td>\n",
       "      <td>1293</td>\n",
       "      <td>1293</td>\n",
       "      <td>1293</td>\n",
       "      <td>1293</td>\n",
       "      <td>1293</td>\n",
       "      <td>1293</td>\n",
       "      <td>1293</td>\n",
       "      <td>1293</td>\n",
       "      <td>1293</td>\n",
       "      <td>1293</td>\n",
       "      <td>1293</td>\n",
       "      <td>1293</td>\n",
       "      <td>1293</td>\n",
       "      <td>1293</td>\n",
       "      <td>1293</td>\n",
       "      <td>1293</td>\n",
       "      <td>1293</td>\n",
       "      <td>1293</td>\n",
       "      <td>1293</td>\n",
       "    </tr>\n",
       "    <tr>\n",
       "      <th>7</th>\n",
       "      <td>1359</td>\n",
       "      <td>1359</td>\n",
       "      <td>1359</td>\n",
       "      <td>1359</td>\n",
       "      <td>1359</td>\n",
       "      <td>1359</td>\n",
       "      <td>1359</td>\n",
       "      <td>1359</td>\n",
       "      <td>1359</td>\n",
       "      <td>1359</td>\n",
       "      <td>1359</td>\n",
       "      <td>1359</td>\n",
       "      <td>1359</td>\n",
       "      <td>1359</td>\n",
       "      <td>1359</td>\n",
       "      <td>1359</td>\n",
       "      <td>1359</td>\n",
       "      <td>1359</td>\n",
       "      <td>1359</td>\n",
       "      <td>1359</td>\n",
       "    </tr>\n",
       "    <tr>\n",
       "      <th>8</th>\n",
       "      <td>1371</td>\n",
       "      <td>1371</td>\n",
       "      <td>1371</td>\n",
       "      <td>1371</td>\n",
       "      <td>1371</td>\n",
       "      <td>1371</td>\n",
       "      <td>1371</td>\n",
       "      <td>1371</td>\n",
       "      <td>1371</td>\n",
       "      <td>1371</td>\n",
       "      <td>1371</td>\n",
       "      <td>1371</td>\n",
       "      <td>1371</td>\n",
       "      <td>1371</td>\n",
       "      <td>1371</td>\n",
       "      <td>1371</td>\n",
       "      <td>1371</td>\n",
       "      <td>1371</td>\n",
       "      <td>1371</td>\n",
       "      <td>1371</td>\n",
       "    </tr>\n",
       "    <tr>\n",
       "      <th>9</th>\n",
       "      <td>1322</td>\n",
       "      <td>1322</td>\n",
       "      <td>1322</td>\n",
       "      <td>1322</td>\n",
       "      <td>1322</td>\n",
       "      <td>1322</td>\n",
       "      <td>1322</td>\n",
       "      <td>1322</td>\n",
       "      <td>1322</td>\n",
       "      <td>1322</td>\n",
       "      <td>1322</td>\n",
       "      <td>1322</td>\n",
       "      <td>1322</td>\n",
       "      <td>1322</td>\n",
       "      <td>1322</td>\n",
       "      <td>1322</td>\n",
       "      <td>1322</td>\n",
       "      <td>1322</td>\n",
       "      <td>1322</td>\n",
       "      <td>1322</td>\n",
       "    </tr>\n",
       "    <tr>\n",
       "      <th>10</th>\n",
       "      <td>1568</td>\n",
       "      <td>1568</td>\n",
       "      <td>1568</td>\n",
       "      <td>1568</td>\n",
       "      <td>1568</td>\n",
       "      <td>1568</td>\n",
       "      <td>1568</td>\n",
       "      <td>1568</td>\n",
       "      <td>1568</td>\n",
       "      <td>1568</td>\n",
       "      <td>1568</td>\n",
       "      <td>1568</td>\n",
       "      <td>1568</td>\n",
       "      <td>1568</td>\n",
       "      <td>1568</td>\n",
       "      <td>1568</td>\n",
       "      <td>1568</td>\n",
       "      <td>1568</td>\n",
       "      <td>1568</td>\n",
       "      <td>1568</td>\n",
       "    </tr>\n",
       "    <tr>\n",
       "      <th>11</th>\n",
       "      <td>1586</td>\n",
       "      <td>1586</td>\n",
       "      <td>1586</td>\n",
       "      <td>1586</td>\n",
       "      <td>1586</td>\n",
       "      <td>1586</td>\n",
       "      <td>1586</td>\n",
       "      <td>1586</td>\n",
       "      <td>1586</td>\n",
       "      <td>1586</td>\n",
       "      <td>1586</td>\n",
       "      <td>1586</td>\n",
       "      <td>1586</td>\n",
       "      <td>1586</td>\n",
       "      <td>1586</td>\n",
       "      <td>1586</td>\n",
       "      <td>1586</td>\n",
       "      <td>1586</td>\n",
       "      <td>1586</td>\n",
       "      <td>1586</td>\n",
       "    </tr>\n",
       "    <tr>\n",
       "      <th>12</th>\n",
       "      <td>2938</td>\n",
       "      <td>2938</td>\n",
       "      <td>2938</td>\n",
       "      <td>2938</td>\n",
       "      <td>2938</td>\n",
       "      <td>2938</td>\n",
       "      <td>2938</td>\n",
       "      <td>2938</td>\n",
       "      <td>2938</td>\n",
       "      <td>2938</td>\n",
       "      <td>2938</td>\n",
       "      <td>2938</td>\n",
       "      <td>2938</td>\n",
       "      <td>2938</td>\n",
       "      <td>2938</td>\n",
       "      <td>2938</td>\n",
       "      <td>2938</td>\n",
       "      <td>2938</td>\n",
       "      <td>2938</td>\n",
       "      <td>2938</td>\n",
       "    </tr>\n",
       "  </tbody>\n",
       "</table>\n",
       "</div>"
      ],
      "text/plain": [
       "           AcciYear  AcciDate  AcciTime  ReportDate  ReportTime  Acc_Code  \\\n",
       "AcciMonth                                                                   \n",
       "1              1717      1717      1717        1717        1717      1717   \n",
       "2              1500      1500      1500        1500        1500      1500   \n",
       "3              1567      1567      1567        1567        1567      1567   \n",
       "4              2275      2275      2275        2275        2275      2275   \n",
       "5              1362      1362      1362        1362        1362      1362   \n",
       "6              1293      1293      1293        1293        1293      1293   \n",
       "7              1359      1359      1359        1359        1359      1359   \n",
       "8              1371      1371      1371        1371        1371      1371   \n",
       "9              1322      1322      1322        1322        1322      1322   \n",
       "10             1568      1568      1568        1568        1568      1568   \n",
       "11             1586      1586      1586        1586        1586      1586   \n",
       "12             2938      2938      2938        2938        2938      2938   \n",
       "\n",
       "           Agencies  Route    Km  Province  Car1  AcciLocation  Assumed  \\\n",
       "AcciMonth                                                                 \n",
       "1              1717   1717  1717      1717  1717          1717     1717   \n",
       "2              1500   1500  1500      1500  1500          1500     1500   \n",
       "3              1567   1567  1567      1567  1567          1567     1567   \n",
       "4              2275   2275  2275      2275  2275          2275     2275   \n",
       "5              1362   1362  1362      1362  1362          1362     1362   \n",
       "6              1293   1293  1293      1293  1293          1293     1293   \n",
       "7              1359   1359  1359      1359  1359          1359     1359   \n",
       "8              1371   1371  1371      1371  1371          1371     1371   \n",
       "9              1322   1322  1322      1322  1322          1322     1322   \n",
       "10             1568   1568  1568      1568  1568          1568     1568   \n",
       "11             1586   1586  1586      1586  1586          1586     1586   \n",
       "12             2938   2938  2938      2938  2938          2938     2938   \n",
       "\n",
       "           CauseOfAcci  TotCar  TotDead  TotInjured  Weather  LATITUDE  \\\n",
       "AcciMonth                                                                \n",
       "1                 1717    1717     1717        1717     1717      1717   \n",
       "2                 1500    1500     1500        1500     1500      1500   \n",
       "3                 1567    1567     1567        1567     1567      1567   \n",
       "4                 2275    2275     2275        2275     2275      2275   \n",
       "5                 1362    1362     1362        1362     1362      1362   \n",
       "6                 1293    1293     1293        1293     1293      1293   \n",
       "7                 1359    1359     1359        1359     1359      1359   \n",
       "8                 1371    1371     1371        1371     1371      1371   \n",
       "9                 1322    1322     1322        1322     1322      1322   \n",
       "10                1568    1568     1568        1568     1568      1568   \n",
       "11                1586    1586     1586        1586     1586      1586   \n",
       "12                2938    2938     2938        2938     2938      2938   \n",
       "\n",
       "           LONGITUDE  \n",
       "AcciMonth             \n",
       "1               1717  \n",
       "2               1500  \n",
       "3               1567  \n",
       "4               2275  \n",
       "5               1362  \n",
       "6               1293  \n",
       "7               1359  \n",
       "8               1371  \n",
       "9               1322  \n",
       "10              1568  \n",
       "11              1586  \n",
       "12              2938  "
      ]
     },
     "execution_count": 98,
     "metadata": {},
     "output_type": "execute_result"
    }
   ],
   "source": [
    "grpmth = dfacci.groupby('AcciMonth')\n",
    "grpmth.count()"
   ]
  },
  {
   "cell_type": "markdown",
   "metadata": {
    "id": "h32aWhWRUcJI"
   },
   "source": []
  },
  {
   "cell_type": "code",
   "execution_count": 99,
   "metadata": {
    "colab": {
     "base_uri": "https://localhost:8080/",
     "height": 298
    },
    "executionInfo": {
     "elapsed": 5188,
     "status": "ok",
     "timestamp": 1604403949750,
     "user": {
      "displayName": "Thanus Benjaanuarcha",
      "photoUrl": "",
      "userId": "12182773663628112192"
     },
     "user_tz": -420
    },
    "id": "rjGABKkz06Yp",
    "outputId": "af8804aa-1833-40a2-ab46-a30c8cbec84c",
    "scrolled": true
   },
   "outputs": [
    {
     "data": {
      "text/plain": [
       "<matplotlib.axes._subplots.AxesSubplot at 0x1aacfa24948>"
      ]
     },
     "execution_count": 99,
     "metadata": {},
     "output_type": "execute_result"
    },
    {
     "data": {
      "image/png": "[encoded data removed]",
      "text/plain": [
       "<Figure size 432x288 with 1 Axes>"
      ]
     },
     "metadata": {
      "needs_background": "light"
     },
     "output_type": "display_data"
    }
   ],
   "source": [
    "grpmth['AcciMonth'].count().plot()"
   ]
  },
  {
   "cell_type": "code",
   "execution_count": 100,
   "metadata": {
    "colab": {
     "base_uri": "https://localhost:8080/"
    },
    "executionInfo": {
     "elapsed": 1050,
     "status": "ok",
     "timestamp": 1604408080517,
     "user": {
      "displayName": "Thanus Benjaanuarcha",
      "photoUrl": "",
      "userId": "12182773663628112192"
     },
     "user_tz": -420
    },
    "id": "QIhpuQT3LG2V",
    "outputId": "9bfa2ee1-dbd5-430a-d872-038ed2440c70"
   },
   "outputs": [
    {
     "data": {
      "text/plain": [
       "12    2938\n",
       "4     2275\n",
       "1     1717\n",
       "11    1586\n",
       "10    1568\n",
       "3     1567\n",
       "2     1500\n",
       "8     1371\n",
       "5     1362\n",
       "7     1359\n",
       "9     1322\n",
       "6     1293\n",
       "Name: AcciMonth, dtype: int64"
      ]
     },
     "execution_count": 100,
     "metadata": {},
     "output_type": "execute_result"
    }
   ],
   "source": [
    "#ปริมาณการเกิดอุบัติเหตุ แต่ละเดือน\n",
    "dfacci[\"AcciMonth\"].value_counts()"
   ]
  },
  {
   "cell_type": "markdown",
   "metadata": {},
   "source": [
    "### Group by date และแสดงข้อมูลจำนวนปริมาณการเกิดเหตุแต่ละวัน"
   ]
  },
  {
   "cell_type": "code",
   "execution_count": 101,
   "metadata": {},
   "outputs": [
    {
     "data": {
      "text/html": [
       "<div>\n",
       "<style scoped>\n",
       "    .dataframe tbody tr th:only-of-type {\n",
       "        vertical-align: middle;\n",
       "    }\n",
       "\n",
       "    .dataframe tbody tr th {\n",
       "        vertical-align: top;\n",
       "    }\n",
       "\n",
       "    .dataframe thead th {\n",
       "        text-align: right;\n",
       "    }\n",
       "</style>\n",
       "<table border=\"1\" class=\"dataframe\">\n",
       "  <thead>\n",
       "    <tr style=\"text-align: right;\">\n",
       "      <th></th>\n",
       "      <th>AcciYear</th>\n",
       "      <th>AcciTime</th>\n",
       "      <th>ReportDate</th>\n",
       "      <th>ReportTime</th>\n",
       "      <th>Acc_Code</th>\n",
       "      <th>Agencies</th>\n",
       "      <th>Route</th>\n",
       "      <th>Km</th>\n",
       "      <th>Province</th>\n",
       "      <th>Car1</th>\n",
       "      <th>AcciLocation</th>\n",
       "      <th>Assumed</th>\n",
       "      <th>CauseOfAcci</th>\n",
       "      <th>TotCar</th>\n",
       "      <th>TotDead</th>\n",
       "      <th>TotInjured</th>\n",
       "      <th>Weather</th>\n",
       "      <th>LATITUDE</th>\n",
       "      <th>LONGITUDE</th>\n",
       "      <th>AcciMonth</th>\n",
       "    </tr>\n",
       "    <tr>\n",
       "      <th>AcciDate</th>\n",
       "      <th></th>\n",
       "      <th></th>\n",
       "      <th></th>\n",
       "      <th></th>\n",
       "      <th></th>\n",
       "      <th></th>\n",
       "      <th></th>\n",
       "      <th></th>\n",
       "      <th></th>\n",
       "      <th></th>\n",
       "      <th></th>\n",
       "      <th></th>\n",
       "      <th></th>\n",
       "      <th></th>\n",
       "      <th></th>\n",
       "      <th></th>\n",
       "      <th></th>\n",
       "      <th></th>\n",
       "      <th></th>\n",
       "      <th></th>\n",
       "    </tr>\n",
       "  </thead>\n",
       "  <tbody>\n",
       "    <tr>\n",
       "      <th>01/01/2019</th>\n",
       "      <td>314</td>\n",
       "      <td>314</td>\n",
       "      <td>314</td>\n",
       "      <td>314</td>\n",
       "      <td>314</td>\n",
       "      <td>314</td>\n",
       "      <td>314</td>\n",
       "      <td>314</td>\n",
       "      <td>314</td>\n",
       "      <td>314</td>\n",
       "      <td>314</td>\n",
       "      <td>314</td>\n",
       "      <td>314</td>\n",
       "      <td>314</td>\n",
       "      <td>314</td>\n",
       "      <td>314</td>\n",
       "      <td>314</td>\n",
       "      <td>314</td>\n",
       "      <td>314</td>\n",
       "      <td>314</td>\n",
       "    </tr>\n",
       "    <tr>\n",
       "      <th>01/02/2019</th>\n",
       "      <td>48</td>\n",
       "      <td>48</td>\n",
       "      <td>48</td>\n",
       "      <td>48</td>\n",
       "      <td>48</td>\n",
       "      <td>48</td>\n",
       "      <td>48</td>\n",
       "      <td>48</td>\n",
       "      <td>48</td>\n",
       "      <td>48</td>\n",
       "      <td>48</td>\n",
       "      <td>48</td>\n",
       "      <td>48</td>\n",
       "      <td>48</td>\n",
       "      <td>48</td>\n",
       "      <td>48</td>\n",
       "      <td>48</td>\n",
       "      <td>48</td>\n",
       "      <td>48</td>\n",
       "      <td>48</td>\n",
       "    </tr>\n",
       "    <tr>\n",
       "      <th>01/03/2019</th>\n",
       "      <td>44</td>\n",
       "      <td>44</td>\n",
       "      <td>44</td>\n",
       "      <td>44</td>\n",
       "      <td>44</td>\n",
       "      <td>44</td>\n",
       "      <td>44</td>\n",
       "      <td>44</td>\n",
       "      <td>44</td>\n",
       "      <td>44</td>\n",
       "      <td>44</td>\n",
       "      <td>44</td>\n",
       "      <td>44</td>\n",
       "      <td>44</td>\n",
       "      <td>44</td>\n",
       "      <td>44</td>\n",
       "      <td>44</td>\n",
       "      <td>44</td>\n",
       "      <td>44</td>\n",
       "      <td>44</td>\n",
       "    </tr>\n",
       "    <tr>\n",
       "      <th>01/04/2019</th>\n",
       "      <td>66</td>\n",
       "      <td>66</td>\n",
       "      <td>66</td>\n",
       "      <td>66</td>\n",
       "      <td>66</td>\n",
       "      <td>66</td>\n",
       "      <td>66</td>\n",
       "      <td>66</td>\n",
       "      <td>66</td>\n",
       "      <td>66</td>\n",
       "      <td>66</td>\n",
       "      <td>66</td>\n",
       "      <td>66</td>\n",
       "      <td>66</td>\n",
       "      <td>66</td>\n",
       "      <td>66</td>\n",
       "      <td>66</td>\n",
       "      <td>66</td>\n",
       "      <td>66</td>\n",
       "      <td>66</td>\n",
       "    </tr>\n",
       "    <tr>\n",
       "      <th>01/05/2019</th>\n",
       "      <td>43</td>\n",
       "      <td>43</td>\n",
       "      <td>43</td>\n",
       "      <td>43</td>\n",
       "      <td>43</td>\n",
       "      <td>43</td>\n",
       "      <td>43</td>\n",
       "      <td>43</td>\n",
       "      <td>43</td>\n",
       "      <td>43</td>\n",
       "      <td>43</td>\n",
       "      <td>43</td>\n",
       "      <td>43</td>\n",
       "      <td>43</td>\n",
       "      <td>43</td>\n",
       "      <td>43</td>\n",
       "      <td>43</td>\n",
       "      <td>43</td>\n",
       "      <td>43</td>\n",
       "      <td>43</td>\n",
       "    </tr>\n",
       "    <tr>\n",
       "      <th>...</th>\n",
       "      <td>...</td>\n",
       "      <td>...</td>\n",
       "      <td>...</td>\n",
       "      <td>...</td>\n",
       "      <td>...</td>\n",
       "      <td>...</td>\n",
       "      <td>...</td>\n",
       "      <td>...</td>\n",
       "      <td>...</td>\n",
       "      <td>...</td>\n",
       "      <td>...</td>\n",
       "      <td>...</td>\n",
       "      <td>...</td>\n",
       "      <td>...</td>\n",
       "      <td>...</td>\n",
       "      <td>...</td>\n",
       "      <td>...</td>\n",
       "      <td>...</td>\n",
       "      <td>...</td>\n",
       "      <td>...</td>\n",
       "    </tr>\n",
       "    <tr>\n",
       "      <th>31/05/2019</th>\n",
       "      <td>35</td>\n",
       "      <td>35</td>\n",
       "      <td>35</td>\n",
       "      <td>35</td>\n",
       "      <td>35</td>\n",
       "      <td>35</td>\n",
       "      <td>35</td>\n",
       "      <td>35</td>\n",
       "      <td>35</td>\n",
       "      <td>35</td>\n",
       "      <td>35</td>\n",
       "      <td>35</td>\n",
       "      <td>35</td>\n",
       "      <td>35</td>\n",
       "      <td>35</td>\n",
       "      <td>35</td>\n",
       "      <td>35</td>\n",
       "      <td>35</td>\n",
       "      <td>35</td>\n",
       "      <td>35</td>\n",
       "    </tr>\n",
       "    <tr>\n",
       "      <th>31/07/2019</th>\n",
       "      <td>56</td>\n",
       "      <td>56</td>\n",
       "      <td>56</td>\n",
       "      <td>56</td>\n",
       "      <td>56</td>\n",
       "      <td>56</td>\n",
       "      <td>56</td>\n",
       "      <td>56</td>\n",
       "      <td>56</td>\n",
       "      <td>56</td>\n",
       "      <td>56</td>\n",
       "      <td>56</td>\n",
       "      <td>56</td>\n",
       "      <td>56</td>\n",
       "      <td>56</td>\n",
       "      <td>56</td>\n",
       "      <td>56</td>\n",
       "      <td>56</td>\n",
       "      <td>56</td>\n",
       "      <td>56</td>\n",
       "    </tr>\n",
       "    <tr>\n",
       "      <th>31/08/2019</th>\n",
       "      <td>41</td>\n",
       "      <td>41</td>\n",
       "      <td>41</td>\n",
       "      <td>41</td>\n",
       "      <td>41</td>\n",
       "      <td>41</td>\n",
       "      <td>41</td>\n",
       "      <td>41</td>\n",
       "      <td>41</td>\n",
       "      <td>41</td>\n",
       "      <td>41</td>\n",
       "      <td>41</td>\n",
       "      <td>41</td>\n",
       "      <td>41</td>\n",
       "      <td>41</td>\n",
       "      <td>41</td>\n",
       "      <td>41</td>\n",
       "      <td>41</td>\n",
       "      <td>41</td>\n",
       "      <td>41</td>\n",
       "    </tr>\n",
       "    <tr>\n",
       "      <th>31/10/2019</th>\n",
       "      <td>36</td>\n",
       "      <td>36</td>\n",
       "      <td>36</td>\n",
       "      <td>36</td>\n",
       "      <td>36</td>\n",
       "      <td>36</td>\n",
       "      <td>36</td>\n",
       "      <td>36</td>\n",
       "      <td>36</td>\n",
       "      <td>36</td>\n",
       "      <td>36</td>\n",
       "      <td>36</td>\n",
       "      <td>36</td>\n",
       "      <td>36</td>\n",
       "      <td>36</td>\n",
       "      <td>36</td>\n",
       "      <td>36</td>\n",
       "      <td>36</td>\n",
       "      <td>36</td>\n",
       "      <td>36</td>\n",
       "    </tr>\n",
       "    <tr>\n",
       "      <th>31/12/2019</th>\n",
       "      <td>270</td>\n",
       "      <td>270</td>\n",
       "      <td>270</td>\n",
       "      <td>270</td>\n",
       "      <td>270</td>\n",
       "      <td>270</td>\n",
       "      <td>270</td>\n",
       "      <td>270</td>\n",
       "      <td>270</td>\n",
       "      <td>270</td>\n",
       "      <td>270</td>\n",
       "      <td>270</td>\n",
       "      <td>270</td>\n",
       "      <td>270</td>\n",
       "      <td>270</td>\n",
       "      <td>270</td>\n",
       "      <td>270</td>\n",
       "      <td>270</td>\n",
       "      <td>270</td>\n",
       "      <td>270</td>\n",
       "    </tr>\n",
       "  </tbody>\n",
       "</table>\n",
       "<p>365 rows × 20 columns</p>\n",
       "</div>"
      ],
      "text/plain": [
       "            AcciYear  AcciTime  ReportDate  ReportTime  Acc_Code  Agencies  \\\n",
       "AcciDate                                                                     \n",
       "01/01/2019       314       314         314         314       314       314   \n",
       "01/02/2019        48        48          48          48        48        48   \n",
       "01/03/2019        44        44          44          44        44        44   \n",
       "01/04/2019        66        66          66          66        66        66   \n",
       "01/05/2019        43        43          43          43        43        43   \n",
       "...              ...       ...         ...         ...       ...       ...   \n",
       "31/05/2019        35        35          35          35        35        35   \n",
       "31/07/2019        56        56          56          56        56        56   \n",
       "31/08/2019        41        41          41          41        41        41   \n",
       "31/10/2019        36        36          36          36        36        36   \n",
       "31/12/2019       270       270         270         270       270       270   \n",
       "\n",
       "            Route   Km  Province  Car1  AcciLocation  Assumed  CauseOfAcci  \\\n",
       "AcciDate                                                                     \n",
       "01/01/2019    314  314       314   314           314      314          314   \n",
       "01/02/2019     48   48        48    48            48       48           48   \n",
       "01/03/2019     44   44        44    44            44       44           44   \n",
       "01/04/2019     66   66        66    66            66       66           66   \n",
       "01/05/2019     43   43        43    43            43       43           43   \n",
       "...           ...  ...       ...   ...           ...      ...          ...   \n",
       "31/05/2019     35   35        35    35            35       35           35   \n",
       "31/07/2019     56   56        56    56            56       56           56   \n",
       "31/08/2019     41   41        41    41            41       41           41   \n",
       "31/10/2019     36   36        36    36            36       36           36   \n",
       "31/12/2019    270  270       270   270           270      270          270   \n",
       "\n",
       "            TotCar  TotDead  TotInjured  Weather  LATITUDE  LONGITUDE  \\\n",
       "AcciDate                                                                \n",
       "01/01/2019     314      314         314      314       314        314   \n",
       "01/02/2019      48       48          48       48        48         48   \n",
       "01/03/2019      44       44          44       44        44         44   \n",
       "01/04/2019      66       66          66       66        66         66   \n",
       "01/05/2019      43       43          43       43        43         43   \n",
       "...            ...      ...         ...      ...       ...        ...   \n",
       "31/05/2019      35       35          35       35        35         35   \n",
       "31/07/2019      56       56          56       56        56         56   \n",
       "31/08/2019      41       41          41       41        41         41   \n",
       "31/10/2019      36       36          36       36        36         36   \n",
       "31/12/2019     270      270         270      270       270        270   \n",
       "\n",
       "            AcciMonth  \n",
       "AcciDate               \n",
       "01/01/2019        314  \n",
       "01/02/2019         48  \n",
       "01/03/2019         44  \n",
       "01/04/2019         66  \n",
       "01/05/2019         43  \n",
       "...               ...  \n",
       "31/05/2019         35  \n",
       "31/07/2019         56  \n",
       "31/08/2019         41  \n",
       "31/10/2019         36  \n",
       "31/12/2019        270  \n",
       "\n",
       "[365 rows x 20 columns]"
      ]
     },
     "execution_count": 101,
     "metadata": {},
     "output_type": "execute_result"
    }
   ],
   "source": [
    "grpdate = dfacci.groupby('AcciDate')\n",
    "grpdate.count()"
   ]
  },
  {
   "cell_type": "markdown",
   "metadata": {},
   "source": [
    "### ข้อมูลช่วงเวลาที่เกิดเหตุ "
   ]
  },
  {
   "cell_type": "code",
   "execution_count": 102,
   "metadata": {},
   "outputs": [
    {
     "data": {
      "text/plain": [
       "09:35    104\n",
       "08:12    102\n",
       "10:03     83\n",
       "10:06     71\n",
       "09:29     69\n",
       "09:47     68\n",
       "09:43     67\n",
       "10:04     66\n",
       "10:13     66\n",
       "11:09     65\n",
       "Name: ReportTime, dtype: int64"
      ]
     },
     "execution_count": 102,
     "metadata": {},
     "output_type": "execute_result"
    }
   ],
   "source": [
    "dattime = dfacci['ReportTime']\n",
    "dattime_count=dattime.value_counts()\n",
    "dattime_count.head(10)"
   ]
  },
  {
   "cell_type": "code",
   "execution_count": 113,
   "metadata": {},
   "outputs": [
    {
     "data": {
      "text/plain": [
       "<matplotlib.axes._subplots.AxesSubplot at 0x1aad4ab4a08>"
      ]
     },
     "execution_count": 113,
     "metadata": {},
     "output_type": "execute_result"
    },
    {
     "data": {
      "image/png": "[encoded data removed]",
      "text/plain": [
       "<Figure size 1080x720 with 1 Axes>"
      ]
     },
     "metadata": {
      "needs_background": "light"
     },
     "output_type": "display_data"
    }
   ],
   "source": [
    "dattime_count.plot(kind='bar', figsize=(15,10))"
   ]
  },
  {
   "cell_type": "markdown",
   "metadata": {
    "id": "IejP1gxb06Yr"
   },
   "source": [
    "### ลักษณะถนนที่เกิดอุบัติเหตุ"
   ]
  },
  {
   "cell_type": "code",
   "execution_count": 111,
   "metadata": {
    "colab": {
     "base_uri": "https://localhost:8080/"
    },
    "executionInfo": {
     "elapsed": 5187,
     "status": "ok",
     "timestamp": 1604403949750,
     "user": {
      "displayName": "Thanus Benjaanuarcha",
      "photoUrl": "",
      "userId": "12182773663628112192"
     },
     "user_tz": -420
    },
    "id": "Cj_qvVn706Ys",
    "outputId": "0a5feafd-7867-41db-f749-5f579db9495f"
   },
   "outputs": [
    {
     "data": {
      "text/plain": [
       "ทางตรง                                                       13485\n",
       "ทางโค้งปกติ                                                   2386\n",
       "ทางตรง+ไม่มีความลาดชัน/ที่ราบ                                  688\n",
       "ทางแยกรูปตัว T                                                 649\n",
       "บนช่วงลาดชัน                                                   550\n",
       "ทางแยกรูปตัว +                                                 488\n",
       "ทางโค้งกว้าง+ไม่มีความลาดชัน/ที่ราบ                            309\n",
       "ทางเชื่อมเข้าพื้นที่สาธารณะหรือเชิงพานิชย์ จำนวนช่องจราจร      289\n",
       "ทางแยกรูปตัว Y                                                 146\n",
       "ทางเชื่อมเข้าพื้นที่ส่วนบุคคล จำนวนช่องจราจร                   134\n",
       "ทางสี่แยก                                                      107\n",
       "ทางโค้งหักศอก                                                   78\n",
       "ทางแยกต่างระดับ                                                 68\n",
       "ทางโค้ง                                                         64\n",
       "ทางเข้าด่านเก็บเงิน                                             58\n",
       "ทางลาด                                                          49\n",
       "ทางรถจักรยานยนต์                                                40\n",
       "ทางเชื่อมเข้าสถานศึกษา / สถานที่ราชการ จำนวนช่องจราจร           36\n",
       "ทางโค้งกว้าง+โค้งดิ่ง/ที่ลาดชัน                                 35\n",
       "จุดกลับรถต่างระดับ                                              34\n",
       "ทางโค้งหักศอก+ไม่มีความลาดชัน/ที่ราบ                            32\n",
       "ทางแยก                                                          30\n",
       "สะพาน                                                           25\n",
       "อื่น ๆ                                                          17\n",
       "ทางตรง+โค้งดิ่ง/ที่ลาดชัน                                       17\n",
       "ทางโค้งหักศอก+โค้งดิ่ง/ที่ลาดชัน                                12\n",
       "ทางร่วม                                                         12\n",
       "วงเวียน                                                         10\n",
       "ทางจักรยาน                                                       5\n",
       "ทางลอด                                                           2\n",
       "ทางคนเดินเท้า                                                    2\n",
       "ทางม้าลาย/คนเดินข้าม                                             1\n",
       "Name: AcciLocation, dtype: int64"
      ]
     },
     "execution_count": 111,
     "metadata": {},
     "output_type": "execute_result"
    }
   ],
   "source": [
    "dfacci['AcciLocation'].value_counts()"
   ]
  },
  {
   "cell_type": "markdown",
   "metadata": {},
   "source": [
    "### สภาพอากาศ \n",
    "ทำให้ทราบว่าสภาพอากาศแจ่มใสเกิดอุบัติเหตุบ่อยมากที่สุด "
   ]
  },
  {
   "cell_type": "code",
   "execution_count": 127,
   "metadata": {
    "id": "xgNyp1WfUcJO",
    "outputId": "b7cd110d-952c-4566-cd59-8b6a2539b1ad"
   },
   "outputs": [
    {
     "data": {
      "text/plain": [
       "แจ่มใส                           17363\n",
       "ฝนตก                              2175\n",
       "อื่น ๆ                             157\n",
       "หมอก/ควัน                          149\n",
       "ภัยธรรมชาติ เช่น พายุ,น้ำท่วม       14\n",
       "Name: Weather, dtype: int64"
      ]
     },
     "execution_count": 127,
     "metadata": {},
     "output_type": "execute_result"
    }
   ],
   "source": [
    "dfacci['Weather'].value_counts()"
   ]
  },
  {
   "cell_type": "markdown",
   "metadata": {
    "id": "q4PImU9e36dd"
   },
   "source": [
    "### จำนวนการเกิดอุบัติเหตุจำแนกตามประเภทยานพาหนะ"
   ]
  },
  {
   "cell_type": "code",
   "execution_count": 104,
   "metadata": {
    "colab": {
     "base_uri": "https://localhost:8080/"
    },
    "executionInfo": {
     "elapsed": 878,
     "status": "ok",
     "timestamp": 1604407491410,
     "user": {
      "displayName": "Thanus Benjaanuarcha",
      "photoUrl": "",
      "userId": "12182773663628112192"
     },
     "user_tz": -420
    },
    "id": "67-kkZFQ3YxC",
    "outputId": "e222c18b-ec56-48e6-cf1e-624afc373517",
    "scrolled": true
   },
   "outputs": [
    {
     "data": {
      "text/plain": [
       "รถปิคอัพบรรทุก 4 ล้อ                     6404\n",
       "รถยนต์นั่งส่วนบุคคล/รถยนต์นั่งสาธารณะ    5490\n",
       "รถจักรยานยนต์                            3831\n",
       "รถบรรทุกมากกว่า 10 ล้อ (รถพ่วง)          1412\n",
       "อื่น ๆ                                    797\n",
       "รถบรรทุก 6 ล้อ                            676\n",
       "รถบรรทุกมากกว่า 6 ล้อ ไม่เกิน 10 ล้อ      598\n",
       "รถตู้                                     290\n",
       "รถโดยสารมากกว่า 4 ล้อ                     157\n",
       "รถปิคอัพโดยสาร                             74\n",
       "คนเดินเท้า                                 64\n",
       "รถสามล้อเครื่อง                            55\n",
       "รถอีแต๋น                                   10\n",
       "Name: Car1, dtype: int64"
      ]
     },
     "execution_count": 104,
     "metadata": {},
     "output_type": "execute_result"
    }
   ],
   "source": [
    "dfaccicar = dfacci[\"Car1\"].value_counts()\n",
    "dfaccicar"
   ]
  },
  {
   "cell_type": "code",
   "execution_count": 105,
   "metadata": {
    "id": "352QSkjXUcJS",
    "outputId": "a026151c-54d0-4590-840a-58eac8a5c75a"
   },
   "outputs": [
    {
     "data": {
      "text/plain": [
       "<matplotlib.axes._subplots.AxesSubplot at 0x1aad49df588>"
      ]
     },
     "execution_count": 105,
     "metadata": {},
     "output_type": "execute_result"
    },
    {
     "data": {
      "image/png": "[encoded data removed]",
      "text/plain": [
       "<Figure size 1080x720 with 1 Axes>"
      ]
     },
     "metadata": {
      "needs_background": "light"
     },
     "output_type": "display_data"
    }
   ],
   "source": [
    "dfaccicar.plot(kind='bar', figsize=(15,10))"
   ]
  },
  {
   "cell_type": "markdown",
   "metadata": {
    "id": "N8b5_EM768jS"
   },
   "source": [
    "### จำนวนครั้งการเกิดอุบัติเหตุ  จำแนกตามสาเหตุ"
   ]
  },
  {
   "cell_type": "code",
   "execution_count": 106,
   "metadata": {
    "colab": {
     "base_uri": "https://localhost:8080/"
    },
    "executionInfo": {
     "elapsed": 883,
     "status": "ok",
     "timestamp": 1604404471326,
     "user": {
      "displayName": "Thanus Benjaanuarcha",
      "photoUrl": "",
      "userId": "12182773663628112192"
     },
     "user_tz": -420
    },
    "id": "uZXdOdC39Gam",
    "outputId": "26adb235-2def-4b09-d5b0-5fef5a18c118",
    "scrolled": true
   },
   "outputs": [
    {
     "data": {
      "text/plain": [
       "ขับรถเร็วเกินกำหนด                                      14158\n",
       "คนหรือรถตัดหน้ากระชั้นชิด                                1647\n",
       "หลับใน                                                   1399\n",
       "อุปกรณ์รถบกพร่อง                                          663\n",
       "เมาสุรา                                                   558\n",
       "อื่น ๆ                                                    320\n",
       "ไม่ให้สัญญาณจอด / ชะลอ / เลี้ยว                           253\n",
       "ฝ่าฝืนสัญญาณไฟ/เครื่องหมายจราจร                           229\n",
       "ขับรถไม่ชำนาญ / ไม่เป็น                                   201\n",
       "แซงรถอย่างผิดกฎหมาย                                       125\n",
       "ชนสิ่งกีดขวาง                                              55\n",
       "บรรทุกเกินอัตรา                                            47\n",
       "ขับตามหลังรถอื่นในระยะกระชั้นชิด                           30\n",
       "เปลี่ยนช่องทางกะทันหัน                                     26\n",
       "ไม่ให้สิทธิรถที่มาก่อนผ่านทาง เช่น ทางแยก                  25\n",
       "ฝ่าฝืนป้ายหยุดรถขณะออกจากทางร่วมแยก                        16\n",
       "หยุดรถกะทันหัน                                             15\n",
       "ขับล้ำเข้าไปในช่องจราจรฝั่งรถสวน                           12\n",
       "รถเสียไม่แสดงเครื่องหมายหรือสัญญาณตามที่กำหนด              11\n",
       "มีรถอื่นเข้าจอด หรือออกจากที่จอด                           11\n",
       "โรคประจำตัว                                                10\n",
       "ไม่ยอมให้รถที่มีสิทธิ์ไปก่อน                                9\n",
       "ขับรถไม่เปิดไฟ / ไม่ใช้แสงสว่างตามกำหนด                     8\n",
       "ไม่ขับรถในช่องทางเดินรถซ้ายสุดในถนนที่มี 4 ช่องจราจร        8\n",
       "ใช้โทรศัพท์เคลื่อนที่ขณะขับรถ                               8\n",
       "ขับรถผิดช่องทาง                                             6\n",
       "ขับรถย้อนศร                                                 5\n",
       "อุปกรณ์ชำรุด                                                3\n",
       "Name: Assumed, dtype: int64"
      ]
     },
     "execution_count": 106,
     "metadata": {},
     "output_type": "execute_result"
    }
   ],
   "source": [
    "cnt_acci = dfacci[\"Assumed\"].value_counts()\n",
    "cnt_acci"
   ]
  },
  {
   "cell_type": "code",
   "execution_count": 107,
   "metadata": {
    "id": "Bq7s-XWUUcJa",
    "outputId": "322a3a58-ff8f-4e18-9fd4-8a1ef17bb1cc"
   },
   "outputs": [
    {
     "data": {
      "text/plain": [
       "<matplotlib.axes._subplots.AxesSubplot at 0x1aad2ed44c8>"
      ]
     },
     "execution_count": 107,
     "metadata": {},
     "output_type": "execute_result"
    },
    {
     "data": {
      "image/png": "[encoded data removed]",
      "text/plain": [
       "<Figure size 1080x720 with 1 Axes>"
      ]
     },
     "metadata": {
      "needs_background": "light"
     },
     "output_type": "display_data"
    }
   ],
   "source": [
    "cnt_acci.plot(kind='bar', figsize=(15,10))"
   ]
  },
  {
   "cell_type": "code",
   "execution_count": 108,
   "metadata": {
    "id": "Y5Lsy27gUcJb",
    "outputId": "c63173c0-fc43-4870-f9b1-6cf860578bf0"
   },
   "outputs": [
    {
     "data": {
      "text/plain": [
       "<matplotlib.axes._subplots.AxesSubplot at 0x1aad5274808>"
      ]
     },
     "execution_count": 108,
     "metadata": {},
     "output_type": "execute_result"
    },
    {
     "data": {
      "image/png": "[encoded data removed]",
      "text/plain": [
       "<Figure size 432x288 with 1 Axes>"
      ]
     },
     "metadata": {
      "needs_background": "light"
     },
     "output_type": "display_data"
    }
   ],
   "source": [
    "#Can do entire dataframe with orient='h'\n",
    "sns.boxplot(data=dfacci,palette='coolwarm',orient='h')"
   ]
  },
  {
   "cell_type": "code",
   "execution_count": 114,
   "metadata": {},
   "outputs": [
    {
     "data": {
      "text/plain": [
       "พลิกคว่ำตกถนน                               8460\n",
       "ชนท้าย                                      4206\n",
       "ชนอุปกรณ์งานทาง                             1669\n",
       "ชนกัน/ชนยานพาหนะอื่นๆ                       1505\n",
       "เฉี่ยวชน                                     963\n",
       "ชนกันหรือเฉี่ยวชน                            816\n",
       "อื่น ๆ                                       405\n",
       "เสียหลัก ไปอยู่ในช่องจราจรอื่นๆ              312\n",
       "ชนคนเดินเท้า                                 279\n",
       "ชนขอบทาง                                     225\n",
       "ชนรถจอด                                      197\n",
       "ชนสิ่งกีดขวาง                                196\n",
       "ชนในทิศทางตรงกันข้าม (ไม่ใช่การแซง)          154\n",
       "ชนเป็นมุมบริเวณทางแยก                        144\n",
       "พลิกคว่ำ                                      87\n",
       "ชนตู้เก็บเงิน ไม้กั้นเลน อุปกรณ์เก็บเงิน      38\n",
       "ชนขณะแซง                                      33\n",
       "รถยนต์ชนสัตว์ รถลากจูงด้วยสัตว์               28\n",
       "รถยนต์ชนวัตถุ สิ่งของ                         26\n",
       "รถยนต์ชนรถไฟ                                  23\n",
       "รถยนต์ชนรถจักรยานยนต์/รถสามล้อ                20\n",
       "เลี้ยว/ถอยชน                                  19\n",
       "รถจักรยานยนต์ชนคน                             17\n",
       "รถจักรยานยนต์ชนกับรถจักรยาน รถสามล้อ          13\n",
       "รถจักรยานยนต์ชนรถจักรยานพลิกคว่ำ ตกถนน         8\n",
       "ตกจากรถ                                        7\n",
       "รถยนต์พลิกคว่ำ ตกถนน                           3\n",
       "รถจักรยานยนต์ชนรถยนต์                          2\n",
       "รถยนต์ชนกัน                                    2\n",
       "ชนรถไฟ                                         1\n",
       "Name: CauseOfAcci, dtype: int64"
      ]
     },
     "execution_count": 114,
     "metadata": {},
     "output_type": "execute_result"
    }
   ],
   "source": [
    "dfacci['CauseOfAcci'].value_counts()"
   ]
  },
  {
   "cell_type": "markdown",
   "metadata": {
    "id": "rmL0V_gb1WBI"
   },
   "source": [
    "### จำนวนผู้บาดเจ็บและเสียชีวิต  จำแนกตามประเภทพาหนะ"
   ]
  },
  {
   "cell_type": "code",
   "execution_count": 109,
   "metadata": {
    "colab": {
     "base_uri": "https://localhost:8080/",
     "height": 483
    },
    "executionInfo": {
     "elapsed": 1039,
     "status": "ok",
     "timestamp": 1604415509583,
     "user": {
      "displayName": "Thanus Benjaanuarcha",
      "photoUrl": "",
      "userId": "12182773663628112192"
     },
     "user_tz": -420
    },
    "id": "44ZTOxtMncnv",
    "outputId": "f8f6dbca-7e93-4960-f3a8-4f69c19f2988",
    "scrolled": true
   },
   "outputs": [
    {
     "data": {
      "text/html": [
       "<div>\n",
       "<style scoped>\n",
       "    .dataframe tbody tr th:only-of-type {\n",
       "        vertical-align: middle;\n",
       "    }\n",
       "\n",
       "    .dataframe tbody tr th {\n",
       "        vertical-align: top;\n",
       "    }\n",
       "\n",
       "    .dataframe thead th {\n",
       "        text-align: right;\n",
       "    }\n",
       "</style>\n",
       "<table border=\"1\" class=\"dataframe\">\n",
       "  <thead>\n",
       "    <tr style=\"text-align: right;\">\n",
       "      <th></th>\n",
       "      <th>AcciYear</th>\n",
       "      <th>Acc_Code</th>\n",
       "      <th>Km</th>\n",
       "      <th>TotCar</th>\n",
       "      <th>TotDead</th>\n",
       "      <th>TotInjured</th>\n",
       "      <th>LATITUDE</th>\n",
       "      <th>LONGITUDE</th>\n",
       "    </tr>\n",
       "    <tr>\n",
       "      <th>Car1</th>\n",
       "      <th></th>\n",
       "      <th></th>\n",
       "      <th></th>\n",
       "      <th></th>\n",
       "      <th></th>\n",
       "      <th></th>\n",
       "      <th></th>\n",
       "      <th></th>\n",
       "    </tr>\n",
       "  </thead>\n",
       "  <tbody>\n",
       "    <tr>\n",
       "      <th>คนเดินเท้า</th>\n",
       "      <td>129216</td>\n",
       "      <td>11105259221224</td>\n",
       "      <td>6044.431</td>\n",
       "      <td>57</td>\n",
       "      <td>52</td>\n",
       "      <td>24</td>\n",
       "      <td>976.677465</td>\n",
       "      <td>6474.752950</td>\n",
       "    </tr>\n",
       "    <tr>\n",
       "      <th>รถจักรยานยนต์</th>\n",
       "      <td>7734789</td>\n",
       "      <td>719090180526245</td>\n",
       "      <td>369564.982</td>\n",
       "      <td>6504</td>\n",
       "      <td>1402</td>\n",
       "      <td>3831</td>\n",
       "      <td>55750.263431</td>\n",
       "      <td>386101.253212</td>\n",
       "    </tr>\n",
       "    <tr>\n",
       "      <th>รถตู้</th>\n",
       "      <td>585510</td>\n",
       "      <td>53209093553083</td>\n",
       "      <td>42142.971</td>\n",
       "      <td>432</td>\n",
       "      <td>74</td>\n",
       "      <td>706</td>\n",
       "      <td>3822.094787</td>\n",
       "      <td>27332.958727</td>\n",
       "    </tr>\n",
       "    <tr>\n",
       "      <th>รถบรรทุก 6 ล้อ</th>\n",
       "      <td>1364844</td>\n",
       "      <td>121862127482187</td>\n",
       "      <td>90002.488</td>\n",
       "      <td>958</td>\n",
       "      <td>90</td>\n",
       "      <td>547</td>\n",
       "      <td>9208.498050</td>\n",
       "      <td>64416.683971</td>\n",
       "    </tr>\n",
       "    <tr>\n",
       "      <th>รถบรรทุกมากกว่า 10 ล้อ (รถพ่วง)</th>\n",
       "      <td>2850828</td>\n",
       "      <td>258560171524660</td>\n",
       "      <td>173127.261</td>\n",
       "      <td>2071</td>\n",
       "      <td>164</td>\n",
       "      <td>746</td>\n",
       "      <td>19342.820504</td>\n",
       "      <td>135688.025337</td>\n",
       "    </tr>\n",
       "    <tr>\n",
       "      <th>รถบรรทุกมากกว่า 6 ล้อ ไม่เกิน 10 ล้อ</th>\n",
       "      <td>1207362</td>\n",
       "      <td>107546392650512</td>\n",
       "      <td>72084.328</td>\n",
       "      <td>904</td>\n",
       "      <td>62</td>\n",
       "      <td>436</td>\n",
       "      <td>7894.112695</td>\n",
       "      <td>56672.592617</td>\n",
       "    </tr>\n",
       "    <tr>\n",
       "      <th>รถปิคอัพบรรทุก 4 ล้อ</th>\n",
       "      <td>12929676</td>\n",
       "      <td>1176278617952285</td>\n",
       "      <td>976843.801</td>\n",
       "      <td>9132</td>\n",
       "      <td>673</td>\n",
       "      <td>5912</td>\n",
       "      <td>88260.298962</td>\n",
       "      <td>624224.107143</td>\n",
       "    </tr>\n",
       "    <tr>\n",
       "      <th>รถปิคอัพโดยสาร</th>\n",
       "      <td>149406</td>\n",
       "      <td>14196231720187</td>\n",
       "      <td>6702.987</td>\n",
       "      <td>112</td>\n",
       "      <td>19</td>\n",
       "      <td>161</td>\n",
       "      <td>1127.600877</td>\n",
       "      <td>7443.757297</td>\n",
       "    </tr>\n",
       "    <tr>\n",
       "      <th>รถยนต์นั่งส่วนบุคคล/รถยนต์นั่งสาธารณะ</th>\n",
       "      <td>11084310</td>\n",
       "      <td>1011764409680768</td>\n",
       "      <td>658794.253</td>\n",
       "      <td>9258</td>\n",
       "      <td>558</td>\n",
       "      <td>4710</td>\n",
       "      <td>72553.843289</td>\n",
       "      <td>515363.840611</td>\n",
       "    </tr>\n",
       "    <tr>\n",
       "      <th>รถสามล้อเครื่อง</th>\n",
       "      <td>111045</td>\n",
       "      <td>10178268925865</td>\n",
       "      <td>6197.048</td>\n",
       "      <td>107</td>\n",
       "      <td>29</td>\n",
       "      <td>71</td>\n",
       "      <td>786.424849</td>\n",
       "      <td>5551.170798</td>\n",
       "    </tr>\n",
       "    <tr>\n",
       "      <th>รถอีแต๋น</th>\n",
       "      <td>20190</td>\n",
       "      <td>2019072028419</td>\n",
       "      <td>240.782</td>\n",
       "      <td>18</td>\n",
       "      <td>5</td>\n",
       "      <td>26</td>\n",
       "      <td>164.572322</td>\n",
       "      <td>1013.488197</td>\n",
       "    </tr>\n",
       "    <tr>\n",
       "      <th>รถโดยสารมากกว่า 4 ล้อ</th>\n",
       "      <td>316983</td>\n",
       "      <td>28228831128275</td>\n",
       "      <td>23044.147</td>\n",
       "      <td>254</td>\n",
       "      <td>30</td>\n",
       "      <td>774</td>\n",
       "      <td>2179.529596</td>\n",
       "      <td>15249.027065</td>\n",
       "    </tr>\n",
       "    <tr>\n",
       "      <th>อื่น ๆ</th>\n",
       "      <td>1609143</td>\n",
       "      <td>146384611232000</td>\n",
       "      <td>69301.970</td>\n",
       "      <td>955</td>\n",
       "      <td>93</td>\n",
       "      <td>192</td>\n",
       "      <td>10695.215480</td>\n",
       "      <td>75560.320154</td>\n",
       "    </tr>\n",
       "  </tbody>\n",
       "</table>\n",
       "</div>"
      ],
      "text/plain": [
       "                                       AcciYear          Acc_Code          Km  \\\n",
       "Car1                                                                            \n",
       "คนเดินเท้า                               129216    11105259221224    6044.431   \n",
       "รถจักรยานยนต์                           7734789   719090180526245  369564.982   \n",
       "รถตู้                                    585510    53209093553083   42142.971   \n",
       "รถบรรทุก 6 ล้อ                          1364844   121862127482187   90002.488   \n",
       "รถบรรทุกมากกว่า 10 ล้อ (รถพ่วง)         2850828   258560171524660  173127.261   \n",
       "รถบรรทุกมากกว่า 6 ล้อ ไม่เกิน 10 ล้อ    1207362   107546392650512   72084.328   \n",
       "รถปิคอัพบรรทุก 4 ล้อ                   12929676  1176278617952285  976843.801   \n",
       "รถปิคอัพโดยสาร                           149406    14196231720187    6702.987   \n",
       "รถยนต์นั่งส่วนบุคคล/รถยนต์นั่งสาธารณะ  11084310  1011764409680768  658794.253   \n",
       "รถสามล้อเครื่อง                          111045    10178268925865    6197.048   \n",
       "รถอีแต๋น                                  20190     2019072028419     240.782   \n",
       "รถโดยสารมากกว่า 4 ล้อ                    316983    28228831128275   23044.147   \n",
       "อื่น ๆ                                  1609143   146384611232000   69301.970   \n",
       "\n",
       "                                       TotCar  TotDead  TotInjured  \\\n",
       "Car1                                                                 \n",
       "คนเดินเท้า                                 57       52          24   \n",
       "รถจักรยานยนต์                            6504     1402        3831   \n",
       "รถตู้                                     432       74         706   \n",
       "รถบรรทุก 6 ล้อ                            958       90         547   \n",
       "รถบรรทุกมากกว่า 10 ล้อ (รถพ่วง)          2071      164         746   \n",
       "รถบรรทุกมากกว่า 6 ล้อ ไม่เกิน 10 ล้อ      904       62         436   \n",
       "รถปิคอัพบรรทุก 4 ล้อ                     9132      673        5912   \n",
       "รถปิคอัพโดยสาร                            112       19         161   \n",
       "รถยนต์นั่งส่วนบุคคล/รถยนต์นั่งสาธารณะ    9258      558        4710   \n",
       "รถสามล้อเครื่อง                           107       29          71   \n",
       "รถอีแต๋น                                   18        5          26   \n",
       "รถโดยสารมากกว่า 4 ล้อ                     254       30         774   \n",
       "อื่น ๆ                                    955       93         192   \n",
       "\n",
       "                                           LATITUDE      LONGITUDE  \n",
       "Car1                                                                \n",
       "คนเดินเท้า                               976.677465    6474.752950  \n",
       "รถจักรยานยนต์                          55750.263431  386101.253212  \n",
       "รถตู้                                   3822.094787   27332.958727  \n",
       "รถบรรทุก 6 ล้อ                          9208.498050   64416.683971  \n",
       "รถบรรทุกมากกว่า 10 ล้อ (รถพ่วง)        19342.820504  135688.025337  \n",
       "รถบรรทุกมากกว่า 6 ล้อ ไม่เกิน 10 ล้อ    7894.112695   56672.592617  \n",
       "รถปิคอัพบรรทุก 4 ล้อ                   88260.298962  624224.107143  \n",
       "รถปิคอัพโดยสาร                          1127.600877    7443.757297  \n",
       "รถยนต์นั่งส่วนบุคคล/รถยนต์นั่งสาธารณะ  72553.843289  515363.840611  \n",
       "รถสามล้อเครื่อง                          786.424849    5551.170798  \n",
       "รถอีแต๋น                                 164.572322    1013.488197  \n",
       "รถโดยสารมากกว่า 4 ล้อ                   2179.529596   15249.027065  \n",
       "อื่น ๆ                                 10695.215480   75560.320154  "
      ]
     },
     "execution_count": 109,
     "metadata": {},
     "output_type": "execute_result"
    }
   ],
   "source": [
    "dfacci.groupby(['Car1']).sum()"
   ]
  },
  {
   "cell_type": "code",
   "execution_count": 124,
   "metadata": {
    "colab": {
     "base_uri": "https://localhost:8080/"
    },
    "executionInfo": {
     "elapsed": 841,
     "status": "ok",
     "timestamp": 1604421142864,
     "user": {
      "displayName": "Thanus Benjaanuarcha",
      "photoUrl": "",
      "userId": "12182773663628112192"
     },
     "user_tz": -420
    },
    "id": "tQbmjl5NnUG3",
    "outputId": "3b3c2ad1-50ff-4830-a838-5e83d0a63d02"
   },
   "outputs": [
    {
     "data": {
      "text/html": [
       "<div>\n",
       "<style scoped>\n",
       "    .dataframe tbody tr th:only-of-type {\n",
       "        vertical-align: middle;\n",
       "    }\n",
       "\n",
       "    .dataframe tbody tr th {\n",
       "        vertical-align: top;\n",
       "    }\n",
       "\n",
       "    .dataframe thead th {\n",
       "        text-align: right;\n",
       "    }\n",
       "</style>\n",
       "<table border=\"1\" class=\"dataframe\">\n",
       "  <thead>\n",
       "    <tr style=\"text-align: right;\">\n",
       "      <th></th>\n",
       "      <th>TotDead</th>\n",
       "      <th>TotInjured</th>\n",
       "    </tr>\n",
       "    <tr>\n",
       "      <th>Car1</th>\n",
       "      <th></th>\n",
       "      <th></th>\n",
       "    </tr>\n",
       "  </thead>\n",
       "  <tbody>\n",
       "    <tr>\n",
       "      <th>คนเดินเท้า</th>\n",
       "      <td>52</td>\n",
       "      <td>24</td>\n",
       "    </tr>\n",
       "    <tr>\n",
       "      <th>รถจักรยานยนต์</th>\n",
       "      <td>1402</td>\n",
       "      <td>3831</td>\n",
       "    </tr>\n",
       "    <tr>\n",
       "      <th>รถตู้</th>\n",
       "      <td>74</td>\n",
       "      <td>706</td>\n",
       "    </tr>\n",
       "    <tr>\n",
       "      <th>รถบรรทุก 6 ล้อ</th>\n",
       "      <td>90</td>\n",
       "      <td>547</td>\n",
       "    </tr>\n",
       "    <tr>\n",
       "      <th>รถบรรทุกมากกว่า 10 ล้อ (รถพ่วง)</th>\n",
       "      <td>164</td>\n",
       "      <td>746</td>\n",
       "    </tr>\n",
       "    <tr>\n",
       "      <th>รถบรรทุกมากกว่า 6 ล้อ ไม่เกิน 10 ล้อ</th>\n",
       "      <td>62</td>\n",
       "      <td>436</td>\n",
       "    </tr>\n",
       "    <tr>\n",
       "      <th>รถปิคอัพบรรทุก 4 ล้อ</th>\n",
       "      <td>673</td>\n",
       "      <td>5912</td>\n",
       "    </tr>\n",
       "    <tr>\n",
       "      <th>รถปิคอัพโดยสาร</th>\n",
       "      <td>19</td>\n",
       "      <td>161</td>\n",
       "    </tr>\n",
       "    <tr>\n",
       "      <th>รถยนต์นั่งส่วนบุคคล/รถยนต์นั่งสาธารณะ</th>\n",
       "      <td>558</td>\n",
       "      <td>4710</td>\n",
       "    </tr>\n",
       "    <tr>\n",
       "      <th>รถสามล้อเครื่อง</th>\n",
       "      <td>29</td>\n",
       "      <td>71</td>\n",
       "    </tr>\n",
       "    <tr>\n",
       "      <th>รถอีแต๋น</th>\n",
       "      <td>5</td>\n",
       "      <td>26</td>\n",
       "    </tr>\n",
       "    <tr>\n",
       "      <th>รถโดยสารมากกว่า 4 ล้อ</th>\n",
       "      <td>30</td>\n",
       "      <td>774</td>\n",
       "    </tr>\n",
       "    <tr>\n",
       "      <th>อื่น ๆ</th>\n",
       "      <td>93</td>\n",
       "      <td>192</td>\n",
       "    </tr>\n",
       "  </tbody>\n",
       "</table>\n",
       "</div>"
      ],
      "text/plain": [
       "                                       TotDead  TotInjured\n",
       "Car1                                                      \n",
       "คนเดินเท้า                                  52          24\n",
       "รถจักรยานยนต์                             1402        3831\n",
       "รถตู้                                       74         706\n",
       "รถบรรทุก 6 ล้อ                              90         547\n",
       "รถบรรทุกมากกว่า 10 ล้อ (รถพ่วง)            164         746\n",
       "รถบรรทุกมากกว่า 6 ล้อ ไม่เกิน 10 ล้อ        62         436\n",
       "รถปิคอัพบรรทุก 4 ล้อ                       673        5912\n",
       "รถปิคอัพโดยสาร                              19         161\n",
       "รถยนต์นั่งส่วนบุคคล/รถยนต์นั่งสาธารณะ      558        4710\n",
       "รถสามล้อเครื่อง                             29          71\n",
       "รถอีแต๋น                                     5          26\n",
       "รถโดยสารมากกว่า 4 ล้อ                       30         774\n",
       "อื่น ๆ                                      93         192"
      ]
     },
     "execution_count": 124,
     "metadata": {},
     "output_type": "execute_result"
    }
   ],
   "source": [
    "car = dfacci.groupby(['Car1']).sum()\n",
    "car1 = car[['TotDead','TotInjured']]\n",
    "# car['TotDead'].count\n",
    "car1"
   ]
  },
  {
   "cell_type": "code",
   "execution_count": 125,
   "metadata": {
    "id": "QpTqfmIHUcJg",
    "outputId": "18fbb022-14d9-43ce-9639-83c63377bbd7",
    "scrolled": true
   },
   "outputs": [
    {
     "data": {
      "text/plain": [
       "<matplotlib.axes._subplots.AxesSubplot at 0x1aaf813aac8>"
      ]
     },
     "execution_count": 125,
     "metadata": {},
     "output_type": "execute_result"
    },
    {
     "data": {
      "image/png": "[encoded data removed]",
      "text/plain": [
       "<Figure size 1080x720 with 1 Axes>"
      ]
     },
     "metadata": {
      "needs_background": "light"
     },
     "output_type": "display_data"
    }
   ],
   "source": [
    "car1.plot(kind='bar', figsize=(15,10))# "
   ]
  },
  {
   "cell_type": "markdown",
   "metadata": {
    "id": "PCTuAb9b-Gb3"
   },
   "source": [
    "### จำนวนการเกิดอุบัติเหตุแยกตามวันที่"
   ]
  },
  {
   "cell_type": "code",
   "execution_count": 122,
   "metadata": {
    "colab": {
     "base_uri": "https://localhost:8080/"
    },
    "executionInfo": {
     "elapsed": 909,
     "status": "ok",
     "timestamp": 1604421492491,
     "user": {
      "displayName": "Thanus Benjaanuarcha",
      "photoUrl": "",
      "userId": "12182773663628112192"
     },
     "user_tz": -420
    },
    "id": "9kNly_Yt9Lp6",
    "outputId": "516bd019-55e2-40b8-be11-e3ef38316cfa"
   },
   "outputs": [
    {
     "data": {
      "text/plain": [
       "28/12/2019    399\n",
       "29/12/2019    330\n",
       "01/01/2019    314\n",
       "13/04/2019    294\n",
       "30/12/2019    277\n",
       "31/12/2019    270\n",
       "14/04/2019    264\n",
       "27/12/2019    263\n",
       "12/04/2019    245\n",
       "11/04/2019    232\n",
       "15/04/2019    210\n",
       "02/01/2019    192\n",
       "16/04/2019    177\n",
       "17/04/2019    170\n",
       "02/07/2019     88\n",
       "25/03/2019     85\n",
       "16/03/2019     79\n",
       "03/07/2019     76\n",
       "17/02/2019     76\n",
       "08/01/2019     76\n",
       "Name: AcciDate, dtype: int64"
      ]
     },
     "execution_count": 122,
     "metadata": {},
     "output_type": "execute_result"
    }
   ],
   "source": [
    "accdate = dfacci[\"AcciDate\"].value_counts()\n",
    "accdate.head(20)"
   ]
  },
  {
   "cell_type": "code",
   "execution_count": 123,
   "metadata": {},
   "outputs": [
    {
     "data": {
      "text/plain": [
       "<matplotlib.axes._subplots.AxesSubplot at 0x1aaf7e9e788>"
      ]
     },
     "execution_count": 123,
     "metadata": {},
     "output_type": "execute_result"
    },
    {
     "data": {
      "image/png": "[encoded data removed]",
      "text/plain": [
       "<Figure size 1440x720 with 1 Axes>"
      ]
     },
     "metadata": {
      "needs_background": "light"
     },
     "output_type": "display_data"
    }
   ],
   "source": [
    "accdate.plot(figsize=(20,10))"
   ]
  },
  {
   "cell_type": "markdown",
   "metadata": {
    "id": "ndm0jZ-Q06Yv"
   },
   "source": [
    "# เขียนอภิปราย Findings \n",
    "ข้อมูลอุบัติเหตุ ปี 2019\n",
    " - จากการสำรวจข้อมูลการเกิดอุบัติเหตุบนทองถนนของ กรมทางหลวง , กรมทางหลวงชนบท , กรมการทางพิเศษแห่งประเทศไทย จะเห็นได้ว่าข้อมูลของกรมการทางพิเศษแห่งประเทศไทย ไม่มีข้อมูล Lat/Long ถ้าเราจะ Drop ข้อมูลทิ้งไปจะส่งผลให้ข้อมูลของกรมการทางพิเศษถูกลบทิ้งไปหมดด้วย เลยจะทำให้การวิเคราะห์ข้อมูลไม่ถูกต้อง เลยต้องทำการ assign ค่าเข้าไปทดแทน\n",
    "\n",
    "หน่วนงานที่รับผิดชอบ\n",
    "1กรมทางหลวง\n",
    "2กรมทางหลวงชนบท\n",
    "และ 3การทางพิเศษแห่งประเทศไทย\n",
    "\n",
    "จำนวนการเกิดอุบัติเหตุทั้งปี เกิด 19,858 ครั้ง\n",
    "\n",
    "-เดือนที่เกิดอุบัติเหตุมากที่สุด 5 อันดับแรกได้แก่\n",
    "ธันวาคม เกิดอุบัติเหตุ 2,938 ครั้ง\n",
    "เดือนเมษายน เกิดอุบัติเหตุ 2,275 ครั้ง\n",
    "มกราคม เกิดอุบัติเหตุ 1,717 ครั้ง\n",
    "พฤศจิกายน เกิดอุบัติเหตุ 1,586 ครั้ง\n",
    "ตุลาคม เกิดอุบัติเหตุ 1,568 ครั้ง\n",
    "เนื่องจากเดือน ธันวาคม มีวันหยุดเยอะทำให้เกิดการเดินทางไปต่างจังหวัด จึงทำให้จำนวนการเกิดอุบัติเหตุเป็นอันดับ 1 \n",
    "เดือนเมษายน มีวันหยุดช่วงเทศกาลสงกรานต์  และอันดับ 3 เดือนมกราคม ซึ่งเป็นวันหยุดต่อเนื่องจากวันสิ้นปี\n",
    "\n",
    "-วันที่เกิดอุบัติเหตุมากที่สุด 5 อันดับแรกได้แก่\n",
    "วันที่ 28/12/2019 เกิดอุบัติเหตุ 399 ครั้ง\n",
    "วันที่29/12/2019 เกิดอุบัติเหตุ 330 ครั้ง\n",
    "วันที่ 01/01/2019 เกิดอุบัติเหตุ 314 ครั้ง\n",
    "วันที่ 13/04/2019 เกิดอุบัติเหตุ 294 ครั้ง\n",
    "วันที่ 30/12/2019 เกิดอุบัติเหตุ 277 ครั้ง\n",
    "จากข้อมูลจะเกิดในช่วงเทศกาลปีใหม่และสงกรานต์\n",
    "\n",
    "จังหวัดที่เกิดอุบัติเหตุ 5 อันดับแรกได้แก่\n",
    "1 กรุงเทพมหานคร  1,844 ครั้ง\n",
    "2 ชลบุรี 936 ครั้ง\n",
    "3 นครราชสีมา 876 ครั้ง\n",
    "4 สุพรรณบุรี 727 ครั้ง\n",
    "5 สมุทรปราการ 648 ครั้ง\n",
    "\n",
    "-สาเหตุการเกิดอุบัติเหตุ 5 อันดับ\n",
    "ขับรถเร็วเกินกำหนด 14,158 ครั้ง\n",
    "คนหรือรถตัดหน้ากระชั้นชิด 1,647 ครั้ง\n",
    "หลับใน  1,399 ครั้ง\n",
    "อุปกรณ์รถบกพร่อง  663 ครั้ง\n",
    "เมาสุรา 558 ครั้ง\n",
    "\n",
    "-ประเภทยานพาหนะที่เกิดอุบัติเหตุ \n",
    "รถปิคอัพบรรทุก 4 ล้อ  6,404 ครั้ง\n",
    "รถยนต์นั่งส่วนบุคคล/รถยนต์นั่งสาธารณะ 5,490 ครั้ง\n",
    "รถจักรยานยนต์    3,831 ครั้ง\n",
    "รถบรรทุกมากกว่า 10 ล้อ (รถพ่วง)  1,412 ครั้ง\n",
    "รถบรรทุก 6 ล้อ  676 ครั้ง\n",
    "รถตู้   290 ครั้ง\n",
    "รถโดยสารมากกว่า 4 ล้อ 157 ครั้ง\n",
    "รถปิคอัพโดยสาร  74 ครั้ง\n",
    "คนเดินเท้า 64 ครั้ง\n",
    "รถสามล้อเครื่อง 55 ครั้ง\n",
    "รถอีแต๋น  10 ครั้ง\n",
    "\n",
    "ปี 2019 การบาดเจ็บ และเสียชีวิต ที่เกิดจากอุบัติเหตุบนท้องถนน ดังนี้\n",
    "บาดเจ็บ 18,136 ราย\n",
    "เสียชีวิต 3,251 ราย\n",
    "\n",
    "-จำนวนผู้บาดเจ็บ และ เสียชีวิต จำแนกตามประเภทรถ\n",
    "บาดเจ็บ 3,831 ราย เสียชีวิต 1,402 ราย  จากการใช้รถจักรยานยนต์\n",
    "บาดเจ็บ 5,912 ราย เสียชีวิต 673 ราย  จากการใช้รถปิคอัพบรรทุก 4 ล้อ\n",
    "บาดเจ็บ 4,710 ราย เสียชีวิต 558 ราย  จากการใช้รถยนต์นั่งส่วนบุคคล/รถยนต์นั่งสาธารณะ\n",
    "บาดเจ็บ 746 ราย เสียชีวิต 164 ราย  จากการใช้รถบรรทุกมากกว่า 10 ล้อ (รถพ่วง)\t\n",
    "บาดเจ็บ 547 ราย เสียชีวิต 90 ราย  จากการใช้รถบรรทุก 6 ล้อ\n",
    "บาดเจ็บ 706 ราย เสียชีวิต 74 ราย  จากการใช้รถตู้\n",
    "บาดเจ็บ 436 ราย เสียชีวิต 62 ราย  จากการใช้รถบรรทุกมากกว่า 6 ล้อ ไม่เกิน 10 ล้อ\n",
    "บาดเจ็บ 52 ราย เสียชีวิต 24 ราย  คนเดินเท้า\n",
    "บาดเจ็บ 774 ราย เสียชีวิต 30 ราย  จากรถโดยสารมากกว่า 4 ล้อ\n",
    "บาดเจ็บ 71 ราย เสียชีวิต 29 ราย  จากรถสามล้อเครื่อง\n"
   ]
  },
  {
   "cell_type": "markdown",
   "metadata": {},
   "source": []
  },
  {
   "cell_type": "code",
   "execution_count": null,
   "metadata": {},
   "outputs": [],
   "source": []
  },
  {
   "cell_type": "markdown",
   "metadata": {},
   "source": [
    "# สร้าง Model\n",
    "ขั้นตอนต่อไปเราจะสร้าง Model เพื่อหาคำตอบที่เราต้องการ\n",
    "จำนวนการตายจากอุบัติเหตุแต่ละวัน โดยทำการกรุ๊ปรวมข้อมูลในแต่วัน"
   ]
  },
  {
   "cell_type": "code",
   "execution_count": 128,
   "metadata": {},
   "outputs": [],
   "source": [
    "new_dfacci=dfacci.groupby(['AcciDate']).sum()"
   ]
  },
  {
   "cell_type": "code",
   "execution_count": 129,
   "metadata": {},
   "outputs": [
    {
     "data": {
      "text/html": [
       "<div>\n",
       "<style scoped>\n",
       "    .dataframe tbody tr th:only-of-type {\n",
       "        vertical-align: middle;\n",
       "    }\n",
       "\n",
       "    .dataframe tbody tr th {\n",
       "        vertical-align: top;\n",
       "    }\n",
       "\n",
       "    .dataframe thead th {\n",
       "        text-align: right;\n",
       "    }\n",
       "</style>\n",
       "<table border=\"1\" class=\"dataframe\">\n",
       "  <thead>\n",
       "    <tr style=\"text-align: right;\">\n",
       "      <th></th>\n",
       "      <th>AcciYear</th>\n",
       "      <th>Acc_Code</th>\n",
       "      <th>Km</th>\n",
       "      <th>TotCar</th>\n",
       "      <th>TotDead</th>\n",
       "      <th>TotInjured</th>\n",
       "      <th>LATITUDE</th>\n",
       "      <th>LONGITUDE</th>\n",
       "    </tr>\n",
       "    <tr>\n",
       "      <th>AcciDate</th>\n",
       "      <th></th>\n",
       "      <th></th>\n",
       "      <th></th>\n",
       "      <th></th>\n",
       "      <th></th>\n",
       "      <th></th>\n",
       "      <th></th>\n",
       "      <th></th>\n",
       "    </tr>\n",
       "  </thead>\n",
       "  <tbody>\n",
       "    <tr>\n",
       "      <th>01/01/2019</th>\n",
       "      <td>633966</td>\n",
       "      <td>63033526346673</td>\n",
       "      <td>29298.994</td>\n",
       "      <td>520</td>\n",
       "      <td>53</td>\n",
       "      <td>296</td>\n",
       "      <td>4484.777292</td>\n",
       "      <td>31507.231491</td>\n",
       "    </tr>\n",
       "    <tr>\n",
       "      <th>01/02/2019</th>\n",
       "      <td>96912</td>\n",
       "      <td>9691310153633</td>\n",
       "      <td>7641.371</td>\n",
       "      <td>80</td>\n",
       "      <td>11</td>\n",
       "      <td>43</td>\n",
       "      <td>664.492861</td>\n",
       "      <td>4743.529783</td>\n",
       "    </tr>\n",
       "    <tr>\n",
       "      <th>01/03/2019</th>\n",
       "      <td>88836</td>\n",
       "      <td>8702039459481</td>\n",
       "      <td>3412.398</td>\n",
       "      <td>67</td>\n",
       "      <td>6</td>\n",
       "      <td>41</td>\n",
       "      <td>614.703167</td>\n",
       "      <td>4340.484282</td>\n",
       "    </tr>\n",
       "    <tr>\n",
       "      <th>01/04/2019</th>\n",
       "      <td>133254</td>\n",
       "      <td>11672089688121</td>\n",
       "      <td>8188.002</td>\n",
       "      <td>107</td>\n",
       "      <td>4</td>\n",
       "      <td>67</td>\n",
       "      <td>943.715153</td>\n",
       "      <td>6451.734409</td>\n",
       "    </tr>\n",
       "    <tr>\n",
       "      <th>01/05/2019</th>\n",
       "      <td>86817</td>\n",
       "      <td>3593920034465</td>\n",
       "      <td>5684.308</td>\n",
       "      <td>62</td>\n",
       "      <td>8</td>\n",
       "      <td>26</td>\n",
       "      <td>566.306668</td>\n",
       "      <td>4142.476185</td>\n",
       "    </tr>\n",
       "    <tr>\n",
       "      <th>...</th>\n",
       "      <td>...</td>\n",
       "      <td>...</td>\n",
       "      <td>...</td>\n",
       "      <td>...</td>\n",
       "      <td>...</td>\n",
       "      <td>...</td>\n",
       "      <td>...</td>\n",
       "      <td>...</td>\n",
       "    </tr>\n",
       "    <tr>\n",
       "      <th>31/05/2019</th>\n",
       "      <td>70665</td>\n",
       "      <td>6884999542864</td>\n",
       "      <td>6625.512</td>\n",
       "      <td>53</td>\n",
       "      <td>5</td>\n",
       "      <td>50</td>\n",
       "      <td>490.217838</td>\n",
       "      <td>3237.577524</td>\n",
       "    </tr>\n",
       "    <tr>\n",
       "      <th>31/07/2019</th>\n",
       "      <td>113064</td>\n",
       "      <td>11306854533476</td>\n",
       "      <td>6931.457</td>\n",
       "      <td>83</td>\n",
       "      <td>7</td>\n",
       "      <td>28</td>\n",
       "      <td>760.678350</td>\n",
       "      <td>5251.518819</td>\n",
       "    </tr>\n",
       "    <tr>\n",
       "      <th>31/08/2019</th>\n",
       "      <td>82779</td>\n",
       "      <td>8278280200970</td>\n",
       "      <td>5685.743</td>\n",
       "      <td>61</td>\n",
       "      <td>8</td>\n",
       "      <td>31</td>\n",
       "      <td>603.025235</td>\n",
       "      <td>4139.756258</td>\n",
       "    </tr>\n",
       "    <tr>\n",
       "      <th>31/10/2019</th>\n",
       "      <td>72684</td>\n",
       "      <td>6542003482138</td>\n",
       "      <td>4747.525</td>\n",
       "      <td>54</td>\n",
       "      <td>12</td>\n",
       "      <td>24</td>\n",
       "      <td>516.205679</td>\n",
       "      <td>3544.447080</td>\n",
       "    </tr>\n",
       "    <tr>\n",
       "      <th>31/12/2019</th>\n",
       "      <td>545130</td>\n",
       "      <td>54526170737197</td>\n",
       "      <td>27036.302</td>\n",
       "      <td>414</td>\n",
       "      <td>33</td>\n",
       "      <td>354</td>\n",
       "      <td>3820.308858</td>\n",
       "      <td>27152.782216</td>\n",
       "    </tr>\n",
       "  </tbody>\n",
       "</table>\n",
       "<p>365 rows × 8 columns</p>\n",
       "</div>"
      ],
      "text/plain": [
       "            AcciYear        Acc_Code         Km  TotCar  TotDead  TotInjured  \\\n",
       "AcciDate                                                                       \n",
       "01/01/2019    633966  63033526346673  29298.994     520       53         296   \n",
       "01/02/2019     96912   9691310153633   7641.371      80       11          43   \n",
       "01/03/2019     88836   8702039459481   3412.398      67        6          41   \n",
       "01/04/2019    133254  11672089688121   8188.002     107        4          67   \n",
       "01/05/2019     86817   3593920034465   5684.308      62        8          26   \n",
       "...              ...             ...        ...     ...      ...         ...   \n",
       "31/05/2019     70665   6884999542864   6625.512      53        5          50   \n",
       "31/07/2019    113064  11306854533476   6931.457      83        7          28   \n",
       "31/08/2019     82779   8278280200970   5685.743      61        8          31   \n",
       "31/10/2019     72684   6542003482138   4747.525      54       12          24   \n",
       "31/12/2019    545130  54526170737197  27036.302     414       33         354   \n",
       "\n",
       "               LATITUDE     LONGITUDE  \n",
       "AcciDate                               \n",
       "01/01/2019  4484.777292  31507.231491  \n",
       "01/02/2019   664.492861   4743.529783  \n",
       "01/03/2019   614.703167   4340.484282  \n",
       "01/04/2019   943.715153   6451.734409  \n",
       "01/05/2019   566.306668   4142.476185  \n",
       "...                 ...           ...  \n",
       "31/05/2019   490.217838   3237.577524  \n",
       "31/07/2019   760.678350   5251.518819  \n",
       "31/08/2019   603.025235   4139.756258  \n",
       "31/10/2019   516.205679   3544.447080  \n",
       "31/12/2019  3820.308858  27152.782216  \n",
       "\n",
       "[365 rows x 8 columns]"
      ]
     },
     "execution_count": 129,
     "metadata": {},
     "output_type": "execute_result"
    }
   ],
   "source": [
    "new_dfacci"
   ]
  },
  {
   "cell_type": "markdown",
   "metadata": {},
   "source": [
    "### ดูความสัมพันธ์ในแต่ละตัวแปร"
   ]
  },
  {
   "cell_type": "code",
   "execution_count": 130,
   "metadata": {},
   "outputs": [
    {
     "data": {
      "text/html": [
       "<div>\n",
       "<style scoped>\n",
       "    .dataframe tbody tr th:only-of-type {\n",
       "        vertical-align: middle;\n",
       "    }\n",
       "\n",
       "    .dataframe tbody tr th {\n",
       "        vertical-align: top;\n",
       "    }\n",
       "\n",
       "    .dataframe thead th {\n",
       "        text-align: right;\n",
       "    }\n",
       "</style>\n",
       "<table border=\"1\" class=\"dataframe\">\n",
       "  <thead>\n",
       "    <tr style=\"text-align: right;\">\n",
       "      <th></th>\n",
       "      <th>AcciYear</th>\n",
       "      <th>Acc_Code</th>\n",
       "      <th>Km</th>\n",
       "      <th>TotCar</th>\n",
       "      <th>TotDead</th>\n",
       "      <th>TotInjured</th>\n",
       "      <th>LATITUDE</th>\n",
       "      <th>LONGITUDE</th>\n",
       "    </tr>\n",
       "  </thead>\n",
       "  <tbody>\n",
       "    <tr>\n",
       "      <th>AcciYear</th>\n",
       "      <td>1.000000</td>\n",
       "      <td>0.979253</td>\n",
       "      <td>0.931188</td>\n",
       "      <td>0.994234</td>\n",
       "      <td>0.834039</td>\n",
       "      <td>0.963634</td>\n",
       "      <td>0.998369</td>\n",
       "      <td>0.999105</td>\n",
       "    </tr>\n",
       "    <tr>\n",
       "      <th>Acc_Code</th>\n",
       "      <td>0.979253</td>\n",
       "      <td>1.000000</td>\n",
       "      <td>0.911855</td>\n",
       "      <td>0.973521</td>\n",
       "      <td>0.803403</td>\n",
       "      <td>0.937554</td>\n",
       "      <td>0.978270</td>\n",
       "      <td>0.978876</td>\n",
       "    </tr>\n",
       "    <tr>\n",
       "      <th>Km</th>\n",
       "      <td>0.931188</td>\n",
       "      <td>0.911855</td>\n",
       "      <td>1.000000</td>\n",
       "      <td>0.917703</td>\n",
       "      <td>0.773636</td>\n",
       "      <td>0.896112</td>\n",
       "      <td>0.929632</td>\n",
       "      <td>0.932875</td>\n",
       "    </tr>\n",
       "    <tr>\n",
       "      <th>TotCar</th>\n",
       "      <td>0.994234</td>\n",
       "      <td>0.973521</td>\n",
       "      <td>0.917703</td>\n",
       "      <td>1.000000</td>\n",
       "      <td>0.833659</td>\n",
       "      <td>0.958210</td>\n",
       "      <td>0.990990</td>\n",
       "      <td>0.992265</td>\n",
       "    </tr>\n",
       "    <tr>\n",
       "      <th>TotDead</th>\n",
       "      <td>0.834039</td>\n",
       "      <td>0.803403</td>\n",
       "      <td>0.773636</td>\n",
       "      <td>0.833659</td>\n",
       "      <td>1.000000</td>\n",
       "      <td>0.819291</td>\n",
       "      <td>0.835812</td>\n",
       "      <td>0.836022</td>\n",
       "    </tr>\n",
       "    <tr>\n",
       "      <th>TotInjured</th>\n",
       "      <td>0.963634</td>\n",
       "      <td>0.937554</td>\n",
       "      <td>0.896112</td>\n",
       "      <td>0.958210</td>\n",
       "      <td>0.819291</td>\n",
       "      <td>1.000000</td>\n",
       "      <td>0.964267</td>\n",
       "      <td>0.965208</td>\n",
       "    </tr>\n",
       "    <tr>\n",
       "      <th>LATITUDE</th>\n",
       "      <td>0.998369</td>\n",
       "      <td>0.978270</td>\n",
       "      <td>0.929632</td>\n",
       "      <td>0.990990</td>\n",
       "      <td>0.835812</td>\n",
       "      <td>0.964267</td>\n",
       "      <td>1.000000</td>\n",
       "      <td>0.999201</td>\n",
       "    </tr>\n",
       "    <tr>\n",
       "      <th>LONGITUDE</th>\n",
       "      <td>0.999105</td>\n",
       "      <td>0.978876</td>\n",
       "      <td>0.932875</td>\n",
       "      <td>0.992265</td>\n",
       "      <td>0.836022</td>\n",
       "      <td>0.965208</td>\n",
       "      <td>0.999201</td>\n",
       "      <td>1.000000</td>\n",
       "    </tr>\n",
       "  </tbody>\n",
       "</table>\n",
       "</div>"
      ],
      "text/plain": [
       "            AcciYear  Acc_Code        Km    TotCar   TotDead  TotInjured  \\\n",
       "AcciYear    1.000000  0.979253  0.931188  0.994234  0.834039    0.963634   \n",
       "Acc_Code    0.979253  1.000000  0.911855  0.973521  0.803403    0.937554   \n",
       "Km          0.931188  0.911855  1.000000  0.917703  0.773636    0.896112   \n",
       "TotCar      0.994234  0.973521  0.917703  1.000000  0.833659    0.958210   \n",
       "TotDead     0.834039  0.803403  0.773636  0.833659  1.000000    0.819291   \n",
       "TotInjured  0.963634  0.937554  0.896112  0.958210  0.819291    1.000000   \n",
       "LATITUDE    0.998369  0.978270  0.929632  0.990990  0.835812    0.964267   \n",
       "LONGITUDE   0.999105  0.978876  0.932875  0.992265  0.836022    0.965208   \n",
       "\n",
       "            LATITUDE  LONGITUDE  \n",
       "AcciYear    0.998369   0.999105  \n",
       "Acc_Code    0.978270   0.978876  \n",
       "Km          0.929632   0.932875  \n",
       "TotCar      0.990990   0.992265  \n",
       "TotDead     0.835812   0.836022  \n",
       "TotInjured  0.964267   0.965208  \n",
       "LATITUDE    1.000000   0.999201  \n",
       "LONGITUDE   0.999201   1.000000  "
      ]
     },
     "execution_count": 130,
     "metadata": {},
     "output_type": "execute_result"
    }
   ],
   "source": [
    "new_dfacci.corr()"
   ]
  },
  {
   "cell_type": "code",
   "execution_count": 131,
   "metadata": {},
   "outputs": [
    {
     "data": {
      "text/plain": [
       "<seaborn.axisgrid.PairGrid at 0x1aa951409c8>"
      ]
     },
     "execution_count": 131,
     "metadata": {},
     "output_type": "execute_result"
    },
    {
     "data": {
      "image/png": "[encoded data removed]",
      "text/plain": [
       "<Figure size 1440x1440 with 72 Axes>"
      ]
     },
     "metadata": {
      "needs_background": "light"
     },
     "output_type": "display_data"
    }
   ],
   "source": [
    "sns.pairplot(new_dfacci,kind='reg')"
   ]
  },
  {
   "cell_type": "markdown",
   "metadata": {},
   "source": [
    "## เลือกโมเดลโดยใช้ linear regression "
   ]
  },
  {
   "cell_type": "code",
   "execution_count": 132,
   "metadata": {},
   "outputs": [],
   "source": [
    "from sklearn.linear_model import LinearRegression\n",
    "model = LinearRegression()"
   ]
  },
  {
   "cell_type": "markdown",
   "metadata": {},
   "source": [
    "### กำหนดตัวแปรโดยให้ จำนวนรถและจำนวนผู้บาดเจ็บ เป็นตัวแปร x และกำหนดให้ y เป็นจำนวนการตาย \n",
    "### เพื่อสร้างโมเดลพยากรณ์ประมาณการคนตาย"
   ]
  },
  {
   "cell_type": "code",
   "execution_count": 133,
   "metadata": {},
   "outputs": [],
   "source": [
    "#split dataset in features and target variable\n",
    "feature_cols = ['TotCar','TotInjured']\n",
    "X = new_dfacci[feature_cols] # Features\n",
    "y = new_dfacci.TotDead # Target variable"
   ]
  },
  {
   "cell_type": "code",
   "execution_count": 134,
   "metadata": {},
   "outputs": [
    {
     "data": {
      "text/html": [
       "<div>\n",
       "<style scoped>\n",
       "    .dataframe tbody tr th:only-of-type {\n",
       "        vertical-align: middle;\n",
       "    }\n",
       "\n",
       "    .dataframe tbody tr th {\n",
       "        vertical-align: top;\n",
       "    }\n",
       "\n",
       "    .dataframe thead th {\n",
       "        text-align: right;\n",
       "    }\n",
       "</style>\n",
       "<table border=\"1\" class=\"dataframe\">\n",
       "  <thead>\n",
       "    <tr style=\"text-align: right;\">\n",
       "      <th></th>\n",
       "      <th>TotCar</th>\n",
       "      <th>TotInjured</th>\n",
       "    </tr>\n",
       "    <tr>\n",
       "      <th>AcciDate</th>\n",
       "      <th></th>\n",
       "      <th></th>\n",
       "    </tr>\n",
       "  </thead>\n",
       "  <tbody>\n",
       "    <tr>\n",
       "      <th>01/01/2019</th>\n",
       "      <td>520</td>\n",
       "      <td>296</td>\n",
       "    </tr>\n",
       "    <tr>\n",
       "      <th>01/02/2019</th>\n",
       "      <td>80</td>\n",
       "      <td>43</td>\n",
       "    </tr>\n",
       "    <tr>\n",
       "      <th>01/03/2019</th>\n",
       "      <td>67</td>\n",
       "      <td>41</td>\n",
       "    </tr>\n",
       "    <tr>\n",
       "      <th>01/04/2019</th>\n",
       "      <td>107</td>\n",
       "      <td>67</td>\n",
       "    </tr>\n",
       "    <tr>\n",
       "      <th>01/05/2019</th>\n",
       "      <td>62</td>\n",
       "      <td>26</td>\n",
       "    </tr>\n",
       "    <tr>\n",
       "      <th>01/06/2019</th>\n",
       "      <td>51</td>\n",
       "      <td>36</td>\n",
       "    </tr>\n",
       "    <tr>\n",
       "      <th>01/07/2019</th>\n",
       "      <td>79</td>\n",
       "      <td>32</td>\n",
       "    </tr>\n",
       "    <tr>\n",
       "      <th>01/08/2019</th>\n",
       "      <td>76</td>\n",
       "      <td>35</td>\n",
       "    </tr>\n",
       "    <tr>\n",
       "      <th>01/09/2019</th>\n",
       "      <td>57</td>\n",
       "      <td>32</td>\n",
       "    </tr>\n",
       "    <tr>\n",
       "      <th>01/10/2019</th>\n",
       "      <td>49</td>\n",
       "      <td>21</td>\n",
       "    </tr>\n",
       "  </tbody>\n",
       "</table>\n",
       "</div>"
      ],
      "text/plain": [
       "            TotCar  TotInjured\n",
       "AcciDate                      \n",
       "01/01/2019     520         296\n",
       "01/02/2019      80          43\n",
       "01/03/2019      67          41\n",
       "01/04/2019     107          67\n",
       "01/05/2019      62          26\n",
       "01/06/2019      51          36\n",
       "01/07/2019      79          32\n",
       "01/08/2019      76          35\n",
       "01/09/2019      57          32\n",
       "01/10/2019      49          21"
      ]
     },
     "execution_count": 134,
     "metadata": {},
     "output_type": "execute_result"
    }
   ],
   "source": [
    "X.head(10)"
   ]
  },
  {
   "cell_type": "code",
   "execution_count": 135,
   "metadata": {},
   "outputs": [
    {
     "data": {
      "text/plain": [
       "(365, 2)"
      ]
     },
     "execution_count": 135,
     "metadata": {},
     "output_type": "execute_result"
    }
   ],
   "source": [
    "X.shape"
   ]
  },
  {
   "cell_type": "code",
   "execution_count": 136,
   "metadata": {},
   "outputs": [
    {
     "data": {
      "text/plain": [
       "AcciDate\n",
       "01/01/2019    53\n",
       "01/02/2019    11\n",
       "01/03/2019     6\n",
       "01/04/2019     4\n",
       "01/05/2019     8\n",
       "Name: TotDead, dtype: int64"
      ]
     },
     "execution_count": 136,
     "metadata": {},
     "output_type": "execute_result"
    }
   ],
   "source": [
    "y.head()"
   ]
  },
  {
   "cell_type": "markdown",
   "metadata": {},
   "source": [
    "### มาแยกชุดข้อมูลโดยใช้ฟังก์ชัน train_test_split () และกำหนดข้อมูลtrainที่ 70% test 30% และrandaom state ที่ 100 หากไม่กำหนด random state หากรัน code ใหม่ ค่าที่ได้จะเปลี่ยนไป"
   ]
  },
  {
   "cell_type": "code",
   "execution_count": 137,
   "metadata": {
    "scrolled": true
   },
   "outputs": [],
   "source": [
    "# split X and y into training and testing sets\n",
    "from sklearn.model_selection import train_test_split\n",
    "X_train,X_test,y_train,y_test=train_test_split(X,y,train_size=0.7,random_state=100)"
   ]
  },
  {
   "cell_type": "code",
   "execution_count": 138,
   "metadata": {},
   "outputs": [
    {
     "name": "stdout",
     "output_type": "stream",
     "text": [
      "255\n",
      "110\n"
     ]
    }
   ],
   "source": [
    "print(len(X_train))\n",
    "print(len(X_test))"
   ]
  },
  {
   "cell_type": "code",
   "execution_count": 139,
   "metadata": {},
   "outputs": [
    {
     "data": {
      "text/html": [
       "<div>\n",
       "<style scoped>\n",
       "    .dataframe tbody tr th:only-of-type {\n",
       "        vertical-align: middle;\n",
       "    }\n",
       "\n",
       "    .dataframe tbody tr th {\n",
       "        vertical-align: top;\n",
       "    }\n",
       "\n",
       "    .dataframe thead th {\n",
       "        text-align: right;\n",
       "    }\n",
       "</style>\n",
       "<table border=\"1\" class=\"dataframe\">\n",
       "  <thead>\n",
       "    <tr style=\"text-align: right;\">\n",
       "      <th></th>\n",
       "      <th>TotCar</th>\n",
       "      <th>TotInjured</th>\n",
       "    </tr>\n",
       "    <tr>\n",
       "      <th>AcciDate</th>\n",
       "      <th></th>\n",
       "      <th></th>\n",
       "    </tr>\n",
       "  </thead>\n",
       "  <tbody>\n",
       "    <tr>\n",
       "      <th>28/03/2019</th>\n",
       "      <td>62</td>\n",
       "      <td>46</td>\n",
       "    </tr>\n",
       "    <tr>\n",
       "      <th>01/11/2019</th>\n",
       "      <td>89</td>\n",
       "      <td>49</td>\n",
       "    </tr>\n",
       "    <tr>\n",
       "      <th>15/07/2019</th>\n",
       "      <td>53</td>\n",
       "      <td>36</td>\n",
       "    </tr>\n",
       "    <tr>\n",
       "      <th>10/11/2019</th>\n",
       "      <td>85</td>\n",
       "      <td>61</td>\n",
       "    </tr>\n",
       "    <tr>\n",
       "      <th>21/03/2019</th>\n",
       "      <td>74</td>\n",
       "      <td>36</td>\n",
       "    </tr>\n",
       "  </tbody>\n",
       "</table>\n",
       "</div>"
      ],
      "text/plain": [
       "            TotCar  TotInjured\n",
       "AcciDate                      \n",
       "28/03/2019      62          46\n",
       "01/11/2019      89          49\n",
       "15/07/2019      53          36\n",
       "10/11/2019      85          61\n",
       "21/03/2019      74          36"
      ]
     },
     "execution_count": 139,
     "metadata": {},
     "output_type": "execute_result"
    }
   ],
   "source": [
    "X_train.head()"
   ]
  },
  {
   "cell_type": "code",
   "execution_count": 140,
   "metadata": {},
   "outputs": [
    {
     "data": {
      "text/html": [
       "<div>\n",
       "<style scoped>\n",
       "    .dataframe tbody tr th:only-of-type {\n",
       "        vertical-align: middle;\n",
       "    }\n",
       "\n",
       "    .dataframe tbody tr th {\n",
       "        vertical-align: top;\n",
       "    }\n",
       "\n",
       "    .dataframe thead th {\n",
       "        text-align: right;\n",
       "    }\n",
       "</style>\n",
       "<table border=\"1\" class=\"dataframe\">\n",
       "  <thead>\n",
       "    <tr style=\"text-align: right;\">\n",
       "      <th></th>\n",
       "      <th>TotCar</th>\n",
       "      <th>TotInjured</th>\n",
       "    </tr>\n",
       "    <tr>\n",
       "      <th>AcciDate</th>\n",
       "      <th></th>\n",
       "      <th></th>\n",
       "    </tr>\n",
       "  </thead>\n",
       "  <tbody>\n",
       "    <tr>\n",
       "      <th>13/04/2019</th>\n",
       "      <td>436</td>\n",
       "      <td>351</td>\n",
       "    </tr>\n",
       "    <tr>\n",
       "      <th>11/06/2019</th>\n",
       "      <td>76</td>\n",
       "      <td>32</td>\n",
       "    </tr>\n",
       "    <tr>\n",
       "      <th>27/03/2019</th>\n",
       "      <td>70</td>\n",
       "      <td>55</td>\n",
       "    </tr>\n",
       "    <tr>\n",
       "      <th>05/09/2019</th>\n",
       "      <td>55</td>\n",
       "      <td>13</td>\n",
       "    </tr>\n",
       "    <tr>\n",
       "      <th>21/02/2019</th>\n",
       "      <td>66</td>\n",
       "      <td>33</td>\n",
       "    </tr>\n",
       "  </tbody>\n",
       "</table>\n",
       "</div>"
      ],
      "text/plain": [
       "            TotCar  TotInjured\n",
       "AcciDate                      \n",
       "13/04/2019     436         351\n",
       "11/06/2019      76          32\n",
       "27/03/2019      70          55\n",
       "05/09/2019      55          13\n",
       "21/02/2019      66          33"
      ]
     },
     "execution_count": 140,
     "metadata": {},
     "output_type": "execute_result"
    }
   ],
   "source": [
    "X_test.head()"
   ]
  },
  {
   "cell_type": "code",
   "execution_count": 141,
   "metadata": {},
   "outputs": [
    {
     "data": {
      "text/plain": [
       "AcciDate\n",
       "28/03/2019     3\n",
       "01/11/2019     9\n",
       "15/07/2019     2\n",
       "10/11/2019    24\n",
       "21/03/2019     7\n",
       "Name: TotDead, dtype: int64"
      ]
     },
     "execution_count": 141,
     "metadata": {},
     "output_type": "execute_result"
    }
   ],
   "source": [
    "y_train.head()"
   ]
  },
  {
   "cell_type": "code",
   "execution_count": 142,
   "metadata": {},
   "outputs": [
    {
     "data": {
      "text/plain": [
       "AcciDate\n",
       "13/04/2019    48\n",
       "11/06/2019     4\n",
       "27/03/2019     6\n",
       "05/09/2019     5\n",
       "21/02/2019     5\n",
       "Name: TotDead, dtype: int64"
      ]
     },
     "execution_count": 142,
     "metadata": {},
     "output_type": "execute_result"
    }
   ],
   "source": [
    "y_test.head()"
   ]
  },
  {
   "cell_type": "markdown",
   "metadata": {},
   "source": [
    "### ทำการ fit model "
   ]
  },
  {
   "cell_type": "code",
   "execution_count": 143,
   "metadata": {},
   "outputs": [
    {
     "data": {
      "text/plain": [
       "LinearRegression(copy_X=True, fit_intercept=True, n_jobs=None, normalize=False)"
      ]
     },
     "execution_count": 143,
     "metadata": {},
     "output_type": "execute_result"
    }
   ],
   "source": [
    "model.fit(X, y)"
   ]
  },
  {
   "cell_type": "markdown",
   "metadata": {},
   "source": [
    "### ทดสอบประสิทธิภาพ model"
   ]
  },
  {
   "cell_type": "code",
   "execution_count": 144,
   "metadata": {},
   "outputs": [
    {
     "data": {
      "text/plain": [
       "0.700108242849985"
      ]
     },
     "execution_count": 144,
     "metadata": {},
     "output_type": "execute_result"
    }
   ],
   "source": [
    "model.score(X,y) #R-squared"
   ]
  },
  {
   "cell_type": "code",
   "execution_count": 145,
   "metadata": {},
   "outputs": [
    {
     "name": "stdout",
     "output_type": "stream",
     "text": [
      "Training set score (R2): 0.71\n",
      "Test set score (R2): 0.67\n"
     ]
    }
   ],
   "source": [
    "print(\"Training set score (R2): {:.2f}\".format(model.score(X_train, y_train)))\n",
    "print(\"Test set score (R2): {:.2f}\".format(model.score(X_test, y_test)))"
   ]
  },
  {
   "cell_type": "code",
   "execution_count": 146,
   "metadata": {},
   "outputs": [
    {
     "name": "stdout",
     "output_type": "stream",
     "text": [
      "coefficient of determination: 0.700108242849985\n",
      "intercept: 2.047189878199358\n",
      "coefficients: [0.06121579 0.0342223 ]\n"
     ]
    }
   ],
   "source": [
    "r_sq = model.score(X, y)\n",
    "print('coefficient of determination:', r_sq)\n",
    "\n",
    "print('intercept:', model.intercept_)\n",
    "\n",
    "print('coefficients:', model.coef_)"
   ]
  },
  {
   "cell_type": "markdown",
   "metadata": {},
   "source": [
    "### import statmodels เพื่อดูข้อมูลสถิติที่ละเอียดขึ้น"
   ]
  },
  {
   "cell_type": "code",
   "execution_count": 147,
   "metadata": {},
   "outputs": [],
   "source": [
    "import statsmodels.api as sm\n",
    "import statsmodels.formula.api as smf"
   ]
  },
  {
   "cell_type": "code",
   "execution_count": 148,
   "metadata": {},
   "outputs": [],
   "source": [
    "model_a = smf.ols(formula='TotDead ~ TotCar+ TotInjured', data=new_dfacci[:]).fit()\n",
    "#model_a = smf.ols(formula='TotDead ~ TotCar', data=new_dfacci[:]).fit()"
   ]
  },
  {
   "cell_type": "markdown",
   "metadata": {},
   "source": [
    "### จากข้อมูลสถิติ จะได้ว่า ตัวแบบมีความเหมาะสม ค่าP Value ไม่เกิน 0.05 โดยมีสมการดังนี้ \n",
    "#### y=2.0472+x1(0.0612)+x2(0.0342)"
   ]
  },
  {
   "cell_type": "code",
   "execution_count": 149,
   "metadata": {},
   "outputs": [
    {
     "name": "stdout",
     "output_type": "stream",
     "text": [
      "                            OLS Regression Results                            \n",
      "==============================================================================\n",
      "Dep. Variable:                TotDead   R-squared:                       0.700\n",
      "Model:                            OLS   Adj. R-squared:                  0.698\n",
      "Method:                 Least Squares   F-statistic:                     422.6\n",
      "Date:                Fri, 25 Dec 2020   Prob (F-statistic):           2.14e-95\n",
      "Time:                        20:17:54   Log-Likelihood:                -1023.3\n",
      "No. Observations:                 365   AIC:                             2053.\n",
      "Df Residuals:                     362   BIC:                             2064.\n",
      "Df Model:                           2                                         \n",
      "Covariance Type:            nonrobust                                         \n",
      "==============================================================================\n",
      "                 coef    std err          t      P>|t|      [0.025      0.975]\n",
      "------------------------------------------------------------------------------\n",
      "Intercept      2.0472      0.361      5.676      0.000       1.338       2.757\n",
      "TotCar         0.0612      0.010      5.903      0.000       0.041       0.082\n",
      "TotInjured     0.0342      0.014      2.486      0.013       0.007       0.061\n",
      "==============================================================================\n",
      "Omnibus:                       54.149   Durbin-Watson:                   1.853\n",
      "Prob(Omnibus):                  0.000   Jarque-Bera (JB):              102.382\n",
      "Skew:                           0.826   Prob(JB):                     5.86e-23\n",
      "Kurtosis:                       5.001   Cond. No.                         226.\n",
      "==============================================================================\n",
      "\n",
      "Warnings:\n",
      "[1] Standard Errors assume that the covariance matrix of the errors is correctly specified.\n"
     ]
    }
   ],
   "source": [
    "print(model_a.summary())"
   ]
  },
  {
   "cell_type": "code",
   "execution_count": 150,
   "metadata": {},
   "outputs": [
    {
     "data": {
      "text/plain": [
       "Intercept     2.835034e-08\n",
       "TotCar        8.197241e-09\n",
       "TotInjured    1.336589e-02\n",
       "dtype: float64"
      ]
     },
     "execution_count": 150,
     "metadata": {},
     "output_type": "execute_result"
    }
   ],
   "source": [
    "model_a.pvalues"
   ]
  },
  {
   "cell_type": "markdown",
   "metadata": {},
   "source": [
    "## ทำการ predict ค่า y "
   ]
  },
  {
   "cell_type": "code",
   "execution_count": 151,
   "metadata": {},
   "outputs": [
    {
     "name": "stdout",
     "output_type": "stream",
     "text": [
      "[40.74930049  7.79470336  8.2145215   5.85894813  7.21676778  5.79965409\n",
      "  7.17870199  8.25212912  6.33806031  8.4160118   8.47722759  7.62020655\n",
      "  6.41904078  7.28182705  7.66504298  6.16887056  8.43577648  7.89206319\n",
      "  7.89737026  5.62131378  9.00648326  8.14946222  8.12439048  7.63997123\n",
      "  7.84530502  7.42402331  7.36619284  9.73576566  6.86393066  8.53313631\n",
      "  9.09130722  6.17225588  5.8825563   7.86168439  6.8475513   8.61411678\n",
      "  6.41565546  8.05594588  6.49663593  8.67533257  7.3411211   7.99280835\n",
      "  8.08293937  8.864287    6.40119784  8.36010308  7.48331736  6.91068883\n",
      "  6.58292346  7.87229851  7.82169685 10.82703572 28.56214057  9.36316386\n",
      "  8.70763313  5.71867362  8.00534422 10.0418446  11.66429208  9.25326816\n",
      "  9.59210583  7.90267732  8.64303202  5.77073885  6.35782499 49.33680659\n",
      "  9.12937301  7.97835073  6.68943385  7.51031085  7.0027416  10.89017326\n",
      "  6.50725006  7.43463744  7.26206237  8.17114865  9.55641995  9.09130722\n",
      " 36.62377632  5.88063456  8.41262648  8.79199892  7.63804949  6.14187707\n",
      "  5.58709149  9.98785762  8.78330653  9.19205237  7.01866279  6.27492278\n",
      "  9.03201318  9.19397412  6.47302776  7.8650697   6.33806031  8.08632469\n",
      "  8.69509725  6.957447    8.35479601  5.37645063  6.17417763 10.39706163\n",
      "  8.28635142  6.65328981  4.96962654  7.58214076  9.0353985   6.20839992\n",
      "  6.07873954  6.4517995 ]\n"
     ]
    }
   ],
   "source": [
    "# predict \n",
    "y_pred=model.predict(X_test)\n",
    "print(y_pred)"
   ]
  },
  {
   "cell_type": "code",
   "execution_count": 152,
   "metadata": {},
   "outputs": [],
   "source": [
    "#y_pred.sum()"
   ]
  },
  {
   "cell_type": "markdown",
   "metadata": {},
   "source": [
    "## ลองกำหนดตัวแปร โดยสมมุติเราทราบจำนวนรถและจำนวนคนเกิดอุบัติเหตุ \n",
    "#### โดยกำหนดจำนวนรถ500 จำนวนคนที่เกิดอุบัติเหตุ 1000 โมเดลจะปรมาณการว่ามีคนเสียชีวิตประมาณ 67 คน"
   ]
  },
  {
   "cell_type": "code",
   "execution_count": 153,
   "metadata": {},
   "outputs": [
    {
     "data": {
      "text/plain": [
       "array([66.87738276])"
      ]
     },
     "execution_count": 153,
     "metadata": {},
     "output_type": "execute_result"
    }
   ],
   "source": [
    "model.predict([[500, 1000]])"
   ]
  },
  {
   "cell_type": "markdown",
   "metadata": {},
   "source": [
    "### สามารถแทนค่าเพื่อทำการประมาณการได้มากกว่า 1 ค่า"
   ]
  },
  {
   "cell_type": "code",
   "execution_count": 173,
   "metadata": {},
   "outputs": [
    {
     "data": {
      "text/plain": [
       "array([15.65923953, 10.90655262,  2.69357006])"
      ]
     },
     "execution_count": 173,
     "metadata": {},
     "output_type": "execute_result"
    }
   ],
   "source": [
    "model.predict([[200, 40], \n",
    "               [100, 80],\n",
    "               [ 10, 1]])"
   ]
  },
  {
   "cell_type": "markdown",
   "metadata": {},
   "source": [
    "### ทำการconcat โดยสร้าง colunm predicted ใส่ใน colunm สุดท้าย"
   ]
  },
  {
   "cell_type": "code",
   "execution_count": 155,
   "metadata": {},
   "outputs": [
    {
     "data": {
      "text/html": [
       "<div>\n",
       "<style scoped>\n",
       "    .dataframe tbody tr th:only-of-type {\n",
       "        vertical-align: middle;\n",
       "    }\n",
       "\n",
       "    .dataframe tbody tr th {\n",
       "        vertical-align: top;\n",
       "    }\n",
       "\n",
       "    .dataframe thead th {\n",
       "        text-align: right;\n",
       "    }\n",
       "</style>\n",
       "<table border=\"1\" class=\"dataframe\">\n",
       "  <thead>\n",
       "    <tr style=\"text-align: right;\">\n",
       "      <th></th>\n",
       "      <th>AcciDate</th>\n",
       "      <th>AcciYear</th>\n",
       "      <th>Acc_Code</th>\n",
       "      <th>Km</th>\n",
       "      <th>TotCar</th>\n",
       "      <th>TotDead</th>\n",
       "      <th>TotInjured</th>\n",
       "      <th>LATITUDE</th>\n",
       "      <th>LONGITUDE</th>\n",
       "      <th>predicted</th>\n",
       "    </tr>\n",
       "  </thead>\n",
       "  <tbody>\n",
       "    <tr>\n",
       "      <th>0</th>\n",
       "      <td>01/01/2019</td>\n",
       "      <td>633966</td>\n",
       "      <td>63033526346673</td>\n",
       "      <td>29298.994</td>\n",
       "      <td>520</td>\n",
       "      <td>53</td>\n",
       "      <td>296</td>\n",
       "      <td>4484.777292</td>\n",
       "      <td>31507.231491</td>\n",
       "      <td>40.749300</td>\n",
       "    </tr>\n",
       "    <tr>\n",
       "      <th>1</th>\n",
       "      <td>01/02/2019</td>\n",
       "      <td>96912</td>\n",
       "      <td>9691310153633</td>\n",
       "      <td>7641.371</td>\n",
       "      <td>80</td>\n",
       "      <td>11</td>\n",
       "      <td>43</td>\n",
       "      <td>664.492861</td>\n",
       "      <td>4743.529783</td>\n",
       "      <td>7.794703</td>\n",
       "    </tr>\n",
       "    <tr>\n",
       "      <th>2</th>\n",
       "      <td>01/03/2019</td>\n",
       "      <td>88836</td>\n",
       "      <td>8702039459481</td>\n",
       "      <td>3412.398</td>\n",
       "      <td>67</td>\n",
       "      <td>6</td>\n",
       "      <td>41</td>\n",
       "      <td>614.703167</td>\n",
       "      <td>4340.484282</td>\n",
       "      <td>8.214521</td>\n",
       "    </tr>\n",
       "    <tr>\n",
       "      <th>3</th>\n",
       "      <td>01/04/2019</td>\n",
       "      <td>133254</td>\n",
       "      <td>11672089688121</td>\n",
       "      <td>8188.002</td>\n",
       "      <td>107</td>\n",
       "      <td>4</td>\n",
       "      <td>67</td>\n",
       "      <td>943.715153</td>\n",
       "      <td>6451.734409</td>\n",
       "      <td>5.858948</td>\n",
       "    </tr>\n",
       "    <tr>\n",
       "      <th>4</th>\n",
       "      <td>01/05/2019</td>\n",
       "      <td>86817</td>\n",
       "      <td>3593920034465</td>\n",
       "      <td>5684.308</td>\n",
       "      <td>62</td>\n",
       "      <td>8</td>\n",
       "      <td>26</td>\n",
       "      <td>566.306668</td>\n",
       "      <td>4142.476185</td>\n",
       "      <td>7.216768</td>\n",
       "    </tr>\n",
       "    <tr>\n",
       "      <th>5</th>\n",
       "      <td>01/06/2019</td>\n",
       "      <td>80760</td>\n",
       "      <td>8076255477963</td>\n",
       "      <td>5961.427</td>\n",
       "      <td>51</td>\n",
       "      <td>2</td>\n",
       "      <td>36</td>\n",
       "      <td>556.521625</td>\n",
       "      <td>3834.468078</td>\n",
       "      <td>5.799654</td>\n",
       "    </tr>\n",
       "    <tr>\n",
       "      <th>6</th>\n",
       "      <td>01/07/2019</td>\n",
       "      <td>100950</td>\n",
       "      <td>10095367975704</td>\n",
       "      <td>5562.039</td>\n",
       "      <td>79</td>\n",
       "      <td>7</td>\n",
       "      <td>32</td>\n",
       "      <td>612.320942</td>\n",
       "      <td>4535.627100</td>\n",
       "      <td>7.178702</td>\n",
       "    </tr>\n",
       "    <tr>\n",
       "      <th>7</th>\n",
       "      <td>01/08/2019</td>\n",
       "      <td>119121</td>\n",
       "      <td>11912590565034</td>\n",
       "      <td>11037.790</td>\n",
       "      <td>76</td>\n",
       "      <td>8</td>\n",
       "      <td>35</td>\n",
       "      <td>826.211694</td>\n",
       "      <td>5833.810250</td>\n",
       "      <td>8.252129</td>\n",
       "    </tr>\n",
       "    <tr>\n",
       "      <th>8</th>\n",
       "      <td>01/09/2019</td>\n",
       "      <td>74703</td>\n",
       "      <td>7270848580926</td>\n",
       "      <td>4844.895</td>\n",
       "      <td>57</td>\n",
       "      <td>5</td>\n",
       "      <td>32</td>\n",
       "      <td>519.839071</td>\n",
       "      <td>3743.983932</td>\n",
       "      <td>6.338060</td>\n",
       "    </tr>\n",
       "    <tr>\n",
       "      <th>9</th>\n",
       "      <td>01/10/2019</td>\n",
       "      <td>64608</td>\n",
       "      <td>6279407917794</td>\n",
       "      <td>3580.826</td>\n",
       "      <td>49</td>\n",
       "      <td>9</td>\n",
       "      <td>21</td>\n",
       "      <td>471.986132</td>\n",
       "      <td>3132.431974</td>\n",
       "      <td>8.416012</td>\n",
       "    </tr>\n",
       "  </tbody>\n",
       "</table>\n",
       "</div>"
      ],
      "text/plain": [
       "     AcciDate  AcciYear        Acc_Code         Km  TotCar  TotDead  \\\n",
       "0  01/01/2019    633966  63033526346673  29298.994     520       53   \n",
       "1  01/02/2019     96912   9691310153633   7641.371      80       11   \n",
       "2  01/03/2019     88836   8702039459481   3412.398      67        6   \n",
       "3  01/04/2019    133254  11672089688121   8188.002     107        4   \n",
       "4  01/05/2019     86817   3593920034465   5684.308      62        8   \n",
       "5  01/06/2019     80760   8076255477963   5961.427      51        2   \n",
       "6  01/07/2019    100950  10095367975704   5562.039      79        7   \n",
       "7  01/08/2019    119121  11912590565034  11037.790      76        8   \n",
       "8  01/09/2019     74703   7270848580926   4844.895      57        5   \n",
       "9  01/10/2019     64608   6279407917794   3580.826      49        9   \n",
       "\n",
       "   TotInjured     LATITUDE     LONGITUDE  predicted  \n",
       "0         296  4484.777292  31507.231491  40.749300  \n",
       "1          43   664.492861   4743.529783   7.794703  \n",
       "2          41   614.703167   4340.484282   8.214521  \n",
       "3          67   943.715153   6451.734409   5.858948  \n",
       "4          26   566.306668   4142.476185   7.216768  \n",
       "5          36   556.521625   3834.468078   5.799654  \n",
       "6          32   612.320942   4535.627100   7.178702  \n",
       "7          35   826.211694   5833.810250   8.252129  \n",
       "8          32   519.839071   3743.983932   6.338060  \n",
       "9          21   471.986132   3132.431974   8.416012  "
      ]
     },
     "execution_count": 155,
     "metadata": {},
     "output_type": "execute_result"
    }
   ],
   "source": [
    "dc=pd.concat([new_dfacci[:].reset_index(),pd.Series(y_pred, name='predicted')],axis='columns')\n",
    "dc.head(10)"
   ]
  },
  {
   "cell_type": "markdown",
   "metadata": {},
   "source": [
    "### ทำการสร้าง dataframe โดยแสดงเฉพะข้อมูลที่ต้องการ"
   ]
  },
  {
   "cell_type": "code",
   "execution_count": 156,
   "metadata": {},
   "outputs": [
    {
     "data": {
      "text/html": [
       "<div>\n",
       "<style scoped>\n",
       "    .dataframe tbody tr th:only-of-type {\n",
       "        vertical-align: middle;\n",
       "    }\n",
       "\n",
       "    .dataframe tbody tr th {\n",
       "        vertical-align: top;\n",
       "    }\n",
       "\n",
       "    .dataframe thead th {\n",
       "        text-align: right;\n",
       "    }\n",
       "</style>\n",
       "<table border=\"1\" class=\"dataframe\">\n",
       "  <thead>\n",
       "    <tr style=\"text-align: right;\">\n",
       "      <th></th>\n",
       "      <th>AcciDate</th>\n",
       "      <th>TotCar</th>\n",
       "      <th>TotInjured</th>\n",
       "      <th>TotDead</th>\n",
       "      <th>predicted</th>\n",
       "    </tr>\n",
       "  </thead>\n",
       "  <tbody>\n",
       "    <tr>\n",
       "      <th>0</th>\n",
       "      <td>01/01/2019</td>\n",
       "      <td>520</td>\n",
       "      <td>296</td>\n",
       "      <td>53</td>\n",
       "      <td>40.749300</td>\n",
       "    </tr>\n",
       "    <tr>\n",
       "      <th>1</th>\n",
       "      <td>01/02/2019</td>\n",
       "      <td>80</td>\n",
       "      <td>43</td>\n",
       "      <td>11</td>\n",
       "      <td>7.794703</td>\n",
       "    </tr>\n",
       "    <tr>\n",
       "      <th>2</th>\n",
       "      <td>01/03/2019</td>\n",
       "      <td>67</td>\n",
       "      <td>41</td>\n",
       "      <td>6</td>\n",
       "      <td>8.214521</td>\n",
       "    </tr>\n",
       "    <tr>\n",
       "      <th>3</th>\n",
       "      <td>01/04/2019</td>\n",
       "      <td>107</td>\n",
       "      <td>67</td>\n",
       "      <td>4</td>\n",
       "      <td>5.858948</td>\n",
       "    </tr>\n",
       "    <tr>\n",
       "      <th>4</th>\n",
       "      <td>01/05/2019</td>\n",
       "      <td>62</td>\n",
       "      <td>26</td>\n",
       "      <td>8</td>\n",
       "      <td>7.216768</td>\n",
       "    </tr>\n",
       "    <tr>\n",
       "      <th>5</th>\n",
       "      <td>01/06/2019</td>\n",
       "      <td>51</td>\n",
       "      <td>36</td>\n",
       "      <td>2</td>\n",
       "      <td>5.799654</td>\n",
       "    </tr>\n",
       "    <tr>\n",
       "      <th>6</th>\n",
       "      <td>01/07/2019</td>\n",
       "      <td>79</td>\n",
       "      <td>32</td>\n",
       "      <td>7</td>\n",
       "      <td>7.178702</td>\n",
       "    </tr>\n",
       "    <tr>\n",
       "      <th>7</th>\n",
       "      <td>01/08/2019</td>\n",
       "      <td>76</td>\n",
       "      <td>35</td>\n",
       "      <td>8</td>\n",
       "      <td>8.252129</td>\n",
       "    </tr>\n",
       "    <tr>\n",
       "      <th>8</th>\n",
       "      <td>01/09/2019</td>\n",
       "      <td>57</td>\n",
       "      <td>32</td>\n",
       "      <td>5</td>\n",
       "      <td>6.338060</td>\n",
       "    </tr>\n",
       "    <tr>\n",
       "      <th>9</th>\n",
       "      <td>01/10/2019</td>\n",
       "      <td>49</td>\n",
       "      <td>21</td>\n",
       "      <td>9</td>\n",
       "      <td>8.416012</td>\n",
       "    </tr>\n",
       "  </tbody>\n",
       "</table>\n",
       "</div>"
      ],
      "text/plain": [
       "     AcciDate  TotCar  TotInjured  TotDead  predicted\n",
       "0  01/01/2019     520         296       53  40.749300\n",
       "1  01/02/2019      80          43       11   7.794703\n",
       "2  01/03/2019      67          41        6   8.214521\n",
       "3  01/04/2019     107          67        4   5.858948\n",
       "4  01/05/2019      62          26        8   7.216768\n",
       "5  01/06/2019      51          36        2   5.799654\n",
       "6  01/07/2019      79          32        7   7.178702\n",
       "7  01/08/2019      76          35        8   8.252129\n",
       "8  01/09/2019      57          32        5   6.338060\n",
       "9  01/10/2019      49          21        9   8.416012"
      ]
     },
     "execution_count": 156,
     "metadata": {},
     "output_type": "execute_result"
    }
   ],
   "source": [
    "dcperdict=dc[['AcciDate','TotCar','TotInjured','TotDead','predicted']]\n",
    "dcperdict.head(10)"
   ]
  },
  {
   "cell_type": "markdown",
   "metadata": {},
   "source": [
    "# Ridge regression"
   ]
  },
  {
   "cell_type": "code",
   "execution_count": 157,
   "metadata": {},
   "outputs": [
    {
     "name": "stdout",
     "output_type": "stream",
     "text": [
      "RR.coef_: [0.0694989  0.02070171]\n",
      "RR.intercept_: 2.202118239587496\n"
     ]
    }
   ],
   "source": [
    "from sklearn.linear_model import Ridge\n",
    "from sklearn.metrics import mean_squared_error, r2_score\n",
    "\n",
    "RR = Ridge(alpha=1.0)\n",
    "RR = RR.fit(X_train, y_train)\n",
    "y_RR_predict = RR.predict(X_test)\n",
    "mse_RR = mean_squared_error(y_test, y_RR_predict)\n",
    "\n",
    "print(\"RR.coef_: {}\".format(RR.coef_))\n",
    "print(\"RR.intercept_: {}\".format(RR.intercept_))"
   ]
  },
  {
   "cell_type": "code",
   "execution_count": 158,
   "metadata": {},
   "outputs": [
    {
     "data": {
      "text/plain": [
       "<matplotlib.legend.Legend at 0x1aa9a833788>"
      ]
     },
     "execution_count": 158,
     "metadata": {},
     "output_type": "execute_result"
    },
    {
     "data": {
      "image/png": "[encoded data removed]",
      "text/plain": [
       "<Figure size 432x288 with 1 Axes>"
      ]
     },
     "metadata": {
      "needs_background": "light"
     },
     "output_type": "display_data"
    }
   ],
   "source": [
    "import matplotlib.pyplot as plt\n",
    "%matplotlib inline\n",
    "\n",
    "plt.axis([0,3,0,3])\n",
    "plt.grid()\n",
    "plt.plot(X_train, y_train, 'og',label='Train', markersize = 20)\n",
    "plt.plot(X_test, y_test, 'ob',label='Test', markersize = 20)\n",
    "plt.plot(X_test, y_RR_predict, 'or',label='RR Estimate A = 1', markersize = 20)\n",
    "plt.legend(loc='lower right')"
   ]
  },
  {
   "cell_type": "code",
   "execution_count": 159,
   "metadata": {},
   "outputs": [
    {
     "name": "stdout",
     "output_type": "stream",
     "text": [
      "Mean squared error (train): 14.39\n",
      "Mean squared error (test): 19.84\n"
     ]
    }
   ],
   "source": [
    "# The mean squared error\n",
    "mse_train = mean_squared_error(y_train, RR.predict(X_train))\n",
    "mse_test=mean_squared_error(y_test, RR.predict(X_test))\n",
    "print(\"Mean squared error (train): %.2f\" % mse_train)\n",
    "print(\"Mean squared error (test): %.2f\" % mse_test)"
   ]
  },
  {
   "cell_type": "code",
   "execution_count": 160,
   "metadata": {},
   "outputs": [
    {
     "data": {
      "text/plain": [
       "0.6984863216407994"
      ]
     },
     "execution_count": 160,
     "metadata": {},
     "output_type": "execute_result"
    }
   ],
   "source": [
    "RR.score(X,y)"
   ]
  },
  {
   "cell_type": "code",
   "execution_count": 161,
   "metadata": {},
   "outputs": [
    {
     "data": {
      "text/html": [
       "<div>\n",
       "<style scoped>\n",
       "    .dataframe tbody tr th:only-of-type {\n",
       "        vertical-align: middle;\n",
       "    }\n",
       "\n",
       "    .dataframe tbody tr th {\n",
       "        vertical-align: top;\n",
       "    }\n",
       "\n",
       "    .dataframe thead th {\n",
       "        text-align: right;\n",
       "    }\n",
       "</style>\n",
       "<table border=\"1\" class=\"dataframe\">\n",
       "  <thead>\n",
       "    <tr style=\"text-align: right;\">\n",
       "      <th></th>\n",
       "      <th>AcciDate</th>\n",
       "      <th>AcciYear</th>\n",
       "      <th>Acc_Code</th>\n",
       "      <th>Km</th>\n",
       "      <th>TotCar</th>\n",
       "      <th>TotDead</th>\n",
       "      <th>TotInjured</th>\n",
       "      <th>LATITUDE</th>\n",
       "      <th>LONGITUDE</th>\n",
       "      <th>predicted</th>\n",
       "    </tr>\n",
       "  </thead>\n",
       "  <tbody>\n",
       "    <tr>\n",
       "      <th>0</th>\n",
       "      <td>01/01/2019</td>\n",
       "      <td>633966</td>\n",
       "      <td>63033526346673</td>\n",
       "      <td>29298.994</td>\n",
       "      <td>520</td>\n",
       "      <td>53</td>\n",
       "      <td>296</td>\n",
       "      <td>4484.777292</td>\n",
       "      <td>31507.231491</td>\n",
       "      <td>39.769937</td>\n",
       "    </tr>\n",
       "    <tr>\n",
       "      <th>1</th>\n",
       "      <td>01/02/2019</td>\n",
       "      <td>96912</td>\n",
       "      <td>9691310153633</td>\n",
       "      <td>7641.371</td>\n",
       "      <td>80</td>\n",
       "      <td>11</td>\n",
       "      <td>43</td>\n",
       "      <td>664.492861</td>\n",
       "      <td>4743.529783</td>\n",
       "      <td>8.146489</td>\n",
       "    </tr>\n",
       "    <tr>\n",
       "      <th>2</th>\n",
       "      <td>01/03/2019</td>\n",
       "      <td>88836</td>\n",
       "      <td>8702039459481</td>\n",
       "      <td>3412.398</td>\n",
       "      <td>67</td>\n",
       "      <td>6</td>\n",
       "      <td>41</td>\n",
       "      <td>614.703167</td>\n",
       "      <td>4340.484282</td>\n",
       "      <td>8.205635</td>\n",
       "    </tr>\n",
       "    <tr>\n",
       "      <th>3</th>\n",
       "      <td>01/04/2019</td>\n",
       "      <td>133254</td>\n",
       "      <td>11672089688121</td>\n",
       "      <td>8188.002</td>\n",
       "      <td>107</td>\n",
       "      <td>4</td>\n",
       "      <td>67</td>\n",
       "      <td>943.715153</td>\n",
       "      <td>6451.734409</td>\n",
       "      <td>6.293680</td>\n",
       "    </tr>\n",
       "    <tr>\n",
       "      <th>4</th>\n",
       "      <td>01/05/2019</td>\n",
       "      <td>86817</td>\n",
       "      <td>3593920034465</td>\n",
       "      <td>5684.308</td>\n",
       "      <td>62</td>\n",
       "      <td>8</td>\n",
       "      <td>26</td>\n",
       "      <td>566.306668</td>\n",
       "      <td>4142.476185</td>\n",
       "      <td>7.472202</td>\n",
       "    </tr>\n",
       "    <tr>\n",
       "      <th>5</th>\n",
       "      <td>01/06/2019</td>\n",
       "      <td>80760</td>\n",
       "      <td>8076255477963</td>\n",
       "      <td>5961.427</td>\n",
       "      <td>51</td>\n",
       "      <td>2</td>\n",
       "      <td>36</td>\n",
       "      <td>556.521625</td>\n",
       "      <td>3834.468078</td>\n",
       "      <td>6.063002</td>\n",
       "    </tr>\n",
       "    <tr>\n",
       "      <th>6</th>\n",
       "      <td>01/07/2019</td>\n",
       "      <td>100950</td>\n",
       "      <td>10095367975704</td>\n",
       "      <td>5562.039</td>\n",
       "      <td>79</td>\n",
       "      <td>7</td>\n",
       "      <td>32</td>\n",
       "      <td>612.320942</td>\n",
       "      <td>4535.627100</td>\n",
       "      <td>7.773858</td>\n",
       "    </tr>\n",
       "    <tr>\n",
       "      <th>7</th>\n",
       "      <td>01/08/2019</td>\n",
       "      <td>119121</td>\n",
       "      <td>11912590565034</td>\n",
       "      <td>11037.790</td>\n",
       "      <td>76</td>\n",
       "      <td>8</td>\n",
       "      <td>35</td>\n",
       "      <td>826.211694</td>\n",
       "      <td>5833.810250</td>\n",
       "      <td>8.520600</td>\n",
       "    </tr>\n",
       "    <tr>\n",
       "      <th>8</th>\n",
       "      <td>01/09/2019</td>\n",
       "      <td>74703</td>\n",
       "      <td>7270848580926</td>\n",
       "      <td>4844.895</td>\n",
       "      <td>57</td>\n",
       "      <td>5</td>\n",
       "      <td>32</td>\n",
       "      <td>519.839071</td>\n",
       "      <td>3743.983932</td>\n",
       "      <td>6.583504</td>\n",
       "    </tr>\n",
       "    <tr>\n",
       "      <th>9</th>\n",
       "      <td>01/10/2019</td>\n",
       "      <td>64608</td>\n",
       "      <td>6279407917794</td>\n",
       "      <td>3580.826</td>\n",
       "      <td>49</td>\n",
       "      <td>9</td>\n",
       "      <td>21</td>\n",
       "      <td>471.986132</td>\n",
       "      <td>3132.431974</td>\n",
       "      <td>8.652204</td>\n",
       "    </tr>\n",
       "  </tbody>\n",
       "</table>\n",
       "</div>"
      ],
      "text/plain": [
       "     AcciDate  AcciYear        Acc_Code         Km  TotCar  TotDead  \\\n",
       "0  01/01/2019    633966  63033526346673  29298.994     520       53   \n",
       "1  01/02/2019     96912   9691310153633   7641.371      80       11   \n",
       "2  01/03/2019     88836   8702039459481   3412.398      67        6   \n",
       "3  01/04/2019    133254  11672089688121   8188.002     107        4   \n",
       "4  01/05/2019     86817   3593920034465   5684.308      62        8   \n",
       "5  01/06/2019     80760   8076255477963   5961.427      51        2   \n",
       "6  01/07/2019    100950  10095367975704   5562.039      79        7   \n",
       "7  01/08/2019    119121  11912590565034  11037.790      76        8   \n",
       "8  01/09/2019     74703   7270848580926   4844.895      57        5   \n",
       "9  01/10/2019     64608   6279407917794   3580.826      49        9   \n",
       "\n",
       "   TotInjured     LATITUDE     LONGITUDE  predicted  \n",
       "0         296  4484.777292  31507.231491  39.769937  \n",
       "1          43   664.492861   4743.529783   8.146489  \n",
       "2          41   614.703167   4340.484282   8.205635  \n",
       "3          67   943.715153   6451.734409   6.293680  \n",
       "4          26   566.306668   4142.476185   7.472202  \n",
       "5          36   556.521625   3834.468078   6.063002  \n",
       "6          32   612.320942   4535.627100   7.773858  \n",
       "7          35   826.211694   5833.810250   8.520600  \n",
       "8          32   519.839071   3743.983932   6.583504  \n",
       "9          21   471.986132   3132.431974   8.652204  "
      ]
     },
     "execution_count": 161,
     "metadata": {},
     "output_type": "execute_result"
    }
   ],
   "source": [
    "dc=pd.concat([new_dfacci[:].reset_index(),pd.Series(y_RR_predict, name='predicted')],axis='columns')\n",
    "dc.head(10)"
   ]
  },
  {
   "cell_type": "markdown",
   "metadata": {},
   "source": [
    "# Lasso Regression"
   ]
  },
  {
   "cell_type": "code",
   "execution_count": 162,
   "metadata": {},
   "outputs": [
    {
     "name": "stdout",
     "output_type": "stream",
     "text": [
      "LL.coef_: [0.06959324 0.02055598]\n",
      "LL.intercept_: 2.2014018913089846\n"
     ]
    }
   ],
   "source": [
    "from sklearn.linear_model import Lasso\n",
    "\n",
    "LL = Lasso(alpha=0.05)\n",
    "LL = LL.fit(X_train, y_train)\n",
    "y_LL_predict = LL.predict(X_test)\n",
    "mse_LL = mean_squared_error(y_test, y_LL_predict)\n",
    "\n",
    "\n",
    "print(\"LL.coef_: {}\".format(LL.coef_))\n",
    "print(\"LL.intercept_: {}\".format(LL.intercept_))"
   ]
  },
  {
   "cell_type": "code",
   "execution_count": 163,
   "metadata": {},
   "outputs": [
    {
     "data": {
      "text/plain": [
       "<matplotlib.legend.Legend at 0x1aa9ad1d908>"
      ]
     },
     "execution_count": 163,
     "metadata": {},
     "output_type": "execute_result"
    },
    {
     "data": {
      "image/png": "[encoded data removed]",
      "text/plain": [
       "<Figure size 432x288 with 1 Axes>"
      ]
     },
     "metadata": {
      "needs_background": "light"
     },
     "output_type": "display_data"
    }
   ],
   "source": [
    "%matplotlib inline\n",
    "plt.axis([0,3,0,3])\n",
    "plt.grid()\n",
    "plt.plot(X_train, y_train, 'og',label='Train', markersize = 10)\n",
    "plt.plot(X_test, y_test, 'ob',label='Test', markersize = 10)\n",
    "plt.plot(X_test, y_LL_predict, 'or',label='Lasso Estimate A = 1', markersize = 10)\n",
    "plt.legend(loc='lower right')"
   ]
  },
  {
   "cell_type": "code",
   "execution_count": 164,
   "metadata": {},
   "outputs": [
    {
     "name": "stdout",
     "output_type": "stream",
     "text": [
      "Mean squared error (train): 14.39\n",
      "Mean squared error (test): 19.85\n"
     ]
    }
   ],
   "source": [
    "# The mean squared error\n",
    "mse_train = mean_squared_error(y_train, LL.predict(X_train))\n",
    "mse_test=mean_squared_error(y_test, LL.predict(X_test))\n",
    "print(\"Mean squared error (train): %.2f\" % mse_train)\n",
    "print(\"Mean squared error (test): %.2f\" % mse_test)"
   ]
  },
  {
   "cell_type": "code",
   "execution_count": 165,
   "metadata": {},
   "outputs": [
    {
     "name": "stdout",
     "output_type": "stream",
     "text": [
      "Training set score (R2): 0.71\n",
      "Test set score (R2): 0.66\n"
     ]
    }
   ],
   "source": [
    "#R2 score (coefficient of determination)\n",
    "print(\"Training set score (R2): {:.2f}\".format(LL.score(X_train, y_train)))\n",
    "print(\"Test set score (R2): {:.2f}\".format(LL.score(X_test, y_test)))"
   ]
  },
  {
   "cell_type": "code",
   "execution_count": 166,
   "metadata": {},
   "outputs": [
    {
     "data": {
      "text/plain": [
       "0.6984660165734451"
      ]
     },
     "execution_count": 166,
     "metadata": {},
     "output_type": "execute_result"
    }
   ],
   "source": [
    "LL.score(X,y)"
   ]
  },
  {
   "cell_type": "code",
   "execution_count": 167,
   "metadata": {},
   "outputs": [
    {
     "data": {
      "text/html": [
       "<div>\n",
       "<style scoped>\n",
       "    .dataframe tbody tr th:only-of-type {\n",
       "        vertical-align: middle;\n",
       "    }\n",
       "\n",
       "    .dataframe tbody tr th {\n",
       "        vertical-align: top;\n",
       "    }\n",
       "\n",
       "    .dataframe thead th {\n",
       "        text-align: right;\n",
       "    }\n",
       "</style>\n",
       "<table border=\"1\" class=\"dataframe\">\n",
       "  <thead>\n",
       "    <tr style=\"text-align: right;\">\n",
       "      <th></th>\n",
       "      <th>AcciDate</th>\n",
       "      <th>AcciYear</th>\n",
       "      <th>Acc_Code</th>\n",
       "      <th>Km</th>\n",
       "      <th>TotCar</th>\n",
       "      <th>TotDead</th>\n",
       "      <th>TotInjured</th>\n",
       "      <th>LATITUDE</th>\n",
       "      <th>LONGITUDE</th>\n",
       "      <th>predicted</th>\n",
       "    </tr>\n",
       "  </thead>\n",
       "  <tbody>\n",
       "    <tr>\n",
       "      <th>0</th>\n",
       "      <td>01/01/2019</td>\n",
       "      <td>633966</td>\n",
       "      <td>63033526346673</td>\n",
       "      <td>29298.994</td>\n",
       "      <td>520</td>\n",
       "      <td>53</td>\n",
       "      <td>296</td>\n",
       "      <td>4484.777292</td>\n",
       "      <td>31507.231491</td>\n",
       "      <td>39.759202</td>\n",
       "    </tr>\n",
       "    <tr>\n",
       "      <th>1</th>\n",
       "      <td>01/02/2019</td>\n",
       "      <td>96912</td>\n",
       "      <td>9691310153633</td>\n",
       "      <td>7641.371</td>\n",
       "      <td>80</td>\n",
       "      <td>11</td>\n",
       "      <td>43</td>\n",
       "      <td>664.492861</td>\n",
       "      <td>4743.529783</td>\n",
       "      <td>8.148279</td>\n",
       "    </tr>\n",
       "    <tr>\n",
       "      <th>2</th>\n",
       "      <td>01/03/2019</td>\n",
       "      <td>88836</td>\n",
       "      <td>8702039459481</td>\n",
       "      <td>3412.398</td>\n",
       "      <td>67</td>\n",
       "      <td>6</td>\n",
       "      <td>41</td>\n",
       "      <td>614.703167</td>\n",
       "      <td>4340.484282</td>\n",
       "      <td>8.203507</td>\n",
       "    </tr>\n",
       "    <tr>\n",
       "      <th>3</th>\n",
       "      <td>01/04/2019</td>\n",
       "      <td>133254</td>\n",
       "      <td>11672089688121</td>\n",
       "      <td>8188.002</td>\n",
       "      <td>107</td>\n",
       "      <td>4</td>\n",
       "      <td>67</td>\n",
       "      <td>943.715153</td>\n",
       "      <td>6451.734409</td>\n",
       "      <td>6.296258</td>\n",
       "    </tr>\n",
       "    <tr>\n",
       "      <th>4</th>\n",
       "      <td>01/05/2019</td>\n",
       "      <td>86817</td>\n",
       "      <td>3593920034465</td>\n",
       "      <td>5684.308</td>\n",
       "      <td>62</td>\n",
       "      <td>8</td>\n",
       "      <td>26</td>\n",
       "      <td>566.306668</td>\n",
       "      <td>4142.476185</td>\n",
       "      <td>7.472903</td>\n",
       "    </tr>\n",
       "    <tr>\n",
       "      <th>5</th>\n",
       "      <td>01/06/2019</td>\n",
       "      <td>80760</td>\n",
       "      <td>8076255477963</td>\n",
       "      <td>5961.427</td>\n",
       "      <td>51</td>\n",
       "      <td>2</td>\n",
       "      <td>36</td>\n",
       "      <td>556.521625</td>\n",
       "      <td>3834.468078</td>\n",
       "      <td>6.063702</td>\n",
       "    </tr>\n",
       "    <tr>\n",
       "      <th>6</th>\n",
       "      <td>01/07/2019</td>\n",
       "      <td>100950</td>\n",
       "      <td>10095367975704</td>\n",
       "      <td>5562.039</td>\n",
       "      <td>79</td>\n",
       "      <td>7</td>\n",
       "      <td>32</td>\n",
       "      <td>612.320942</td>\n",
       "      <td>4535.627100</td>\n",
       "      <td>7.778272</td>\n",
       "    </tr>\n",
       "    <tr>\n",
       "      <th>7</th>\n",
       "      <td>01/08/2019</td>\n",
       "      <td>119121</td>\n",
       "      <td>11912590565034</td>\n",
       "      <td>11037.790</td>\n",
       "      <td>76</td>\n",
       "      <td>8</td>\n",
       "      <td>35</td>\n",
       "      <td>826.211694</td>\n",
       "      <td>5833.810250</td>\n",
       "      <td>8.521507</td>\n",
       "    </tr>\n",
       "    <tr>\n",
       "      <th>8</th>\n",
       "      <td>01/09/2019</td>\n",
       "      <td>74703</td>\n",
       "      <td>7270848580926</td>\n",
       "      <td>4844.895</td>\n",
       "      <td>57</td>\n",
       "      <td>5</td>\n",
       "      <td>32</td>\n",
       "      <td>519.839071</td>\n",
       "      <td>3743.983932</td>\n",
       "      <td>6.584041</td>\n",
       "    </tr>\n",
       "    <tr>\n",
       "      <th>9</th>\n",
       "      <td>01/10/2019</td>\n",
       "      <td>64608</td>\n",
       "      <td>6279407917794</td>\n",
       "      <td>3580.826</td>\n",
       "      <td>49</td>\n",
       "      <td>9</td>\n",
       "      <td>21</td>\n",
       "      <td>471.986132</td>\n",
       "      <td>3132.431974</td>\n",
       "      <td>8.652768</td>\n",
       "    </tr>\n",
       "  </tbody>\n",
       "</table>\n",
       "</div>"
      ],
      "text/plain": [
       "     AcciDate  AcciYear        Acc_Code         Km  TotCar  TotDead  \\\n",
       "0  01/01/2019    633966  63033526346673  29298.994     520       53   \n",
       "1  01/02/2019     96912   9691310153633   7641.371      80       11   \n",
       "2  01/03/2019     88836   8702039459481   3412.398      67        6   \n",
       "3  01/04/2019    133254  11672089688121   8188.002     107        4   \n",
       "4  01/05/2019     86817   3593920034465   5684.308      62        8   \n",
       "5  01/06/2019     80760   8076255477963   5961.427      51        2   \n",
       "6  01/07/2019    100950  10095367975704   5562.039      79        7   \n",
       "7  01/08/2019    119121  11912590565034  11037.790      76        8   \n",
       "8  01/09/2019     74703   7270848580926   4844.895      57        5   \n",
       "9  01/10/2019     64608   6279407917794   3580.826      49        9   \n",
       "\n",
       "   TotInjured     LATITUDE     LONGITUDE  predicted  \n",
       "0         296  4484.777292  31507.231491  39.759202  \n",
       "1          43   664.492861   4743.529783   8.148279  \n",
       "2          41   614.703167   4340.484282   8.203507  \n",
       "3          67   943.715153   6451.734409   6.296258  \n",
       "4          26   566.306668   4142.476185   7.472903  \n",
       "5          36   556.521625   3834.468078   6.063702  \n",
       "6          32   612.320942   4535.627100   7.778272  \n",
       "7          35   826.211694   5833.810250   8.521507  \n",
       "8          32   519.839071   3743.983932   6.584041  \n",
       "9          21   471.986132   3132.431974   8.652768  "
      ]
     },
     "execution_count": 167,
     "metadata": {},
     "output_type": "execute_result"
    }
   ],
   "source": [
    "dc=pd.concat([new_dfacci[:].reset_index(),pd.Series(y_LL_predict, name='predicted')],axis='columns')\n",
    "dc.head(10)"
   ]
  },
  {
   "cell_type": "markdown",
   "metadata": {},
   "source": [
    "## เขียนอภิปราย Findings\n",
    "ข้อมูลอุบัติเหตุ ปี 2019\n",
    "\n",
    "จากการสำรวจข้อมูลการเกิดอุบัติเหตุบนทองถนนของ กรมทางหลวง , กรมทางหลวงชนบท , กรมการทางพิเศษแห่งประเทศไทย จะเห็นได้ว่าข้อมูลของกรมการทางพิเศษแห่งประเทศไทย ไม่มีข้อมูล Lat/Long ถ้าเราจะ Drop ข้อมูลทิ้งไปจะส่งผลให้ข้อมูลของกรมการทางพิเศษถูกลบทิ้งไปหมดด้วย เลยจะทำให้การวิเคราะห์ข้อมูลไม่ถูกต้อง เลยต้องทำการ assign ค่าเข้าไปทดแทน\n",
    "หน่วนงานที่รับผิดชอบ 1กรมทางหลวง 2กรมทางหลวงชนบท และ 3การทางพิเศษแห่งประเทศไทย\n",
    "\n",
    "จำนวนการเกิดอุบัติเหตุทั้งปี เกิด 19,858 ครั้ง\n",
    "\n",
    "-เดือนที่เกิดอุบัติเหตุมากที่สุด 5 อันดับแรกได้แก่ ธันวาคม เกิดอุบัติเหตุ 2,938 ครั้ง เดือนเมษายน เกิดอุบัติเหตุ 2,275 ครั้ง มกราคม เกิดอุบัติเหตุ 1,717 ครั้ง พฤศจิกายน เกิดอุบัติเหตุ 1,586 ครั้ง ตุลาคม เกิดอุบัติเหตุ 1,568 ครั้ง เนื่องจากเดือน ธันวาคม มีวันหยุดเยอะทำให้เกิดการเดินทางไปต่างจังหวัด จึงทำให้จำนวนการเกิดอุบัติเหตุเป็นอันดับ 1 เดือนเมษายน มีวันหยุดช่วงเทศกาลสงกรานต์ และอันดับ 3 เดือนมกราคม ซึ่งเป็นวันหยุดต่อเนื่องจากวันสิ้นปี\n",
    "\n",
    "-วันที่เกิดอุบัติเหตุมากที่สุด 5 อันดับแรกได้แก่ วันที่ 28/12/2019 เกิดอุบัติเหตุ 399 ครั้ง วันที่29/12/2019 เกิดอุบัติเหตุ 330 ครั้ง วันที่ 01/01/2019 เกิดอุบัติเหตุ 314 ครั้ง วันที่ 13/04/2019 เกิดอุบัติเหตุ 294 ครั้ง วันที่ 30/12/2019 เกิดอุบัติเหตุ 277 ครั้ง จากข้อมูลจะเกิดในช่วงเทศกาลปีใหม่และสงกรานต์\n",
    "\n",
    "จังหวัดที่เกิดอุบัติเหตุ 5 อันดับแรกได้แก่ 1 กรุงเทพมหานคร 1,844 ครั้ง 2 ชลบุรี 936 ครั้ง 3 นครราชสีมา 876 ครั้ง 4 สุพรรณบุรี 727 ครั้ง 5 สมุทรปราการ 648 ครั้ง\n",
    "\n",
    "-สาเหตุการเกิดอุบัติเหตุ 5 อันดับ ขับรถเร็วเกินกำหนด 14,158 ครั้ง คนหรือรถตัดหน้ากระชั้นชิด 1,647 ครั้ง หลับใน 1,399 ครั้ง อุปกรณ์รถบกพร่อง 663 ครั้ง เมาสุรา 558 ครั้ง\n",
    "-ลักษณะถนนที่เกิดเหตุ ทางตรงเกิดอุบัติเหตุถึง 13,485 ครั้ง ทางตรงสามารถทำความเร็วได้ซึ่งสอดคล้องกับสาเหตุขับรถเร็ว\n",
    "\n",
    "-ประเภทยานพาหนะที่เกิดอุบัติเหตุ รถปิคอัพบรรทุก 4 ล้อ 6,404 ครั้ง รถยนต์นั่งส่วนบุคคล/รถยนต์นั่งสาธารณะ 5,490 ครั้ง รถจักรยานยนต์ 3,831 ครั้ง รถบรรทุกมากกว่า 10 ล้อ (รถพ่วง) 1,412 ครั้ง รถบรรทุก 6 ล้อ 676 ครั้ง รถตู้ 290 ครั้ง รถโดยสารมากกว่า 4 ล้อ 157 ครั้ง รถปิคอัพโดยสาร 74 ครั้ง คนเดินเท้า 64 ครั้ง รถสามล้อเครื่อง 55 ครั้ง รถอีแต๋น 10 ครั้ง\n",
    "\n",
    "ปี 2019 การบาดเจ็บ และเสียชีวิต ที่เกิดจากอุบัติเหตุบนท้องถนน ดังนี้ บาดเจ็บ 18,136 ราย เสียชีวิต 3,251 ราย\n",
    "\n",
    "-จำนวนผู้บาดเจ็บ และ เสียชีวิต จำแนกตามประเภทรถ บาดเจ็บ 3,831 ราย เสียชีวิต 1,402 ราย จากการใช้รถจักรยานยนต์ บาดเจ็บ 5,912 ราย เสียชีวิต 673 ราย จากการใช้รถปิคอัพบรรทุก 4 ล้อ บาดเจ็บ 4,710 ราย เสียชีวิต 558 ราย จากการใช้รถยนต์นั่งส่วนบุคคล/รถยนต์นั่งสาธารณะ บาดเจ็บ 746 ราย เสียชีวิต 164 ราย จากการใช้รถบรรทุกมากกว่า 10 ล้อ (รถพ่วง)\n",
    "บาดเจ็บ 547 ราย เสียชีวิต 90 ราย จากการใช้รถบรรทุก 6 ล้อ บาดเจ็บ 706 ราย เสียชีวิต 74 ราย จากการใช้รถตู้ บาดเจ็บ 436 ราย เสียชีวิต 62 ราย จากการใช้รถบรรทุกมากกว่า 6 ล้อ ไม่เกิน 10 ล้อ บาดเจ็บ 52 ราย เสียชีวิต 24 ราย คนเดินเท้า บาดเจ็บ 774 ราย เสียชีวิต 30 ราย จากรถโดยสารมากกว่า 4 ล้อ บาดเจ็บ 71 ราย เสียชีวิต 29 ราย จากรถสามล้อเครื่อง\n",
    "\n",
    "ช่วงเวลาที่เกิดเหตุบ่อยจะเป็นช่วงประมาณ 8โมง ถึง 11 โมง ซึ่งเป็นช่วงเวลาเช้าซึ่งข้อมูลนี้สามารถที่จะให้เจ้าหน้าที่ลงพื้นที่ในช่วงเวลาดังกล่าว เพื่อกวดขันการจราจรเพิ่มขึ้นเพื่อลดการเกิดอุบัติเหตุ\n",
    "\n",
    "## เขียนอภิปราย model\n",
    "จากโมเดลที่นำมาใช้ได้แก linear regression ,Ridge regression และ Lasso Regression พิจารณาจากประสิทธิภาพ ค่า R-squared แต่ละโมเดลได้ดังนี้ \n",
    "Linear regression 0.700108242849985 \n",
    "Ridge regression 0.6984863216407994 \n",
    "Lasso Regression 0.6984660165734451\n",
    "จะเห็นได้ว่าในแต่ละ model มีค่าไม่ค่อยแตกต่างกัน แต่ Linear regression มีค่ามากที่สุด จึงเลือกใช้ตัวแบบ Linear regression ค่าR-squared ที่ 0.7 ซึ่งมีความแม่นยำพอสมควร \n",
    "สมการที่ได้ y=2.0472+x1(0.0612)+x2(0.0342) \n",
    "\n",
    "ประมาณการเกิดอุบัติเหตุโดยเรา assume ว่าในแต่ปี การเกิดอุบัติเหตุในแต่ละวันมีปริมาณที่ไม่แตกต่างกัน\t\n",
    "โดยโมเดลได้พยากรณ์การเกิดอุบัติเหตุิ ดังนี้ โดยยกตัวอย่าง 10 วันแรกดังนี้\n",
    "วันที่ 1/1/2019 เกิดจำนวนผู้เสียชีวิตจากอุบัติเหตุจำนวน 41 ราย\n",
    "วันที่ 2/1/2019 เกิดจำนวนผู้เสียชีวิตจากอุบัติเหตุจำนวน 8 ราย\n",
    "วันที่ 3/1/2019 เกิดจำนวนผู้เสียชีวิตจากอุบัติเหตุจำนวน 6 ราย\n",
    "วันที่ 4/1/2019 เกิดจำนวนผู้เสียชีวิตจากอุบัติเหตุจำนวน 6 ราย\n",
    "วันที่ 5/1/2019 เกิดจำนวนผู้เสียชีวิตจากอุบัติเหตุจำนวน 8 ราย\n",
    "วันที่ 6/1/2019 เกิดจำนวนผู้เสียชีวิตจากอุบัติเหตุจำนวน 6 ราย\n",
    "วันที่ 7/1/2019 เกิดจำนวนผู้เสียชีวิตจากอุบัติเหตุจำนวน 8 ราย\n",
    "วันที่ 8/1/2019 เกิดจำนวนผู้เสียชีวิตจากอุบัติเหตุจำนวน 9 ราย\n",
    "วันที่ 9/1/2019 เกิดจำนวนผู้เสียชีวิตจากอุบัติเหตุจำนวน 6 ราย\n",
    "วันที่ 10/1/2019 เกิดจำนวนผู้เสียชีวิตจากอุบัติเหตุจำนวน 9 ราย\n",
    "จะเห็นได้ว่าเมื่อเทียบผลที่ได้จากการพยากรณ์กับข้อมูล โมเดลทำได้ค่อนข้างแม่นยำ\n",
    "การประมาณโดยใช้ model นี้จะมีวัตถุประสงค์เพื่อให้เจ้าหน้าที่ประมาณการว่าวันไหนเกิดเหตุเยอะก็ควรลงปฎิบัติหน้าที่หรือวางมาตรการป้องกันให้มากขึ้นเพื่อลดการศูนย์เสียที่จะเกิดขึ้นได้"
   ]
  },
  {
   "cell_type": "markdown",
   "metadata": {},
   "source": [
    "### สรุป \n",
    "จากผลลัพธ์ที่ได้สามารถให้ตำรวจหรือหน่วยงานที่เกี่ยวข้องนำไปเป็นแนวทางในการตั้งรับหรือออกมาตรการป้องกันอุบัติเหตุได้ เพื่อที่จะลดการศูนย์เสียที่ไม่คาดคิดขึ้นได้ในอนาคต\n",
    "โดยเฉพาะอย่างยิ่งการกวดขันในเรื่องความเร็วในการขับขี่ซึ่งเป็นสาเหตุที่เกิดอุบัติเหตุเป็นอันดับที่ 1 โดยคิดเป็น 71.29% จากจำนวนครั้งที่เกิดอุบัติเหตุทั้งหมด และเราก็ทราบช่วงเวลาที่เกิดอุบัติเหตุบ่อยครั้งจะเกิดที่ประมาณ 8โมงถึง 11 โมง ข้อมูลตรงนี้เราก็จะสามารถทำให้ตำรวจหรือหน่วยงานที่เกี่ยวข้องออกมาตรการป้องกันในช่วงเวลาดังกล่าว หรืออาจจะให้เจ้าหน้าที่ลงพื้นที่มากขึ้นในเวลานั้น และโดยเฉพาะอย่างยิ่งในช่วงวันเทศกาลปีใหม่และสงกรานต์ที่มีอัตราเกิดอบัตเหตุที่มากกว่าวันอื่นๆ \n",
    "ข้อมูลตรงนี้ก็เป็นประโยชน์ในการลดการเกิดอุบัติเหตุ ลดการศูนย์เสียได้เป็นอย่างดี\n"
   ]
  }
 ],
 "metadata": {
  "colab": {
   "collapsed_sections": [],
   "name": "สำเนาของ MidtermProject.ipynb",
   "provenance": [
    {
     "file_id": "1QNB-rX3pY4Klno3XO0Q3TwLG2ZUgF1pv",
     "timestamp": 1604499814180
    }
   ],
   "toc_visible": true
  },
  "kernelspec": {
   "display_name": "Python 3",
   "language": "python",
   "name": "python3"
  },
  "language_info": {
   "codemirror_mode": {
    "name": "ipython",
    "version": 3
   },
   "file_extension": ".py",
   "mimetype": "text/x-python",
   "name": "python",
   "nbconvert_exporter": "python",
   "pygments_lexer": "ipython3",
   "version": "3.8.5"
  }
 },
 "nbformat": 4,
 "nbformat_minor": 1
}
